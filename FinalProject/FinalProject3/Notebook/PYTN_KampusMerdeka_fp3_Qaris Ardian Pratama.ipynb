{
 "cells": [
  {
   "cell_type": "markdown",
   "metadata": {},
   "source": [
    "# Introduction to Python for Data Science Final Project 3: Ensemble"
   ]
  },
  {
   "cell_type": "markdown",
   "metadata": {},
   "source": [
    "## Introduction"
   ]
  },
  {
   "cell_type": "markdown",
   "metadata": {},
   "source": [
    "### Team Member:\n",
    "1. Qaris Ardian Pratama"
   ]
  },
  {
   "cell_type": "markdown",
   "metadata": {},
   "source": [
    "### Abstract\n",
    "Cardiovascular disease (CVDs) merupakan penyebab kematian nomor 1 di dunia, dengan angka kematian sekitar 17.9 juta per tahun. Jumlah itu merupakan 31% dari penyebab kematian di seluruh dunia. CVDs merupakan penyebab paling umum dari gagal jantung.\n",
    "\n",
    "Sebagian besar penyakit cardiovascular dapat dicegah dengan mengubah gaya hidup seperti rokok, pola makan, aktivitas fisik, alkohol, dll. Orang dengan CVDs atau dengan resiko CVDs tinggi perlu dideteksi sejak dini. Oleh karena itu, pemanfaatan machine learning di sini dapat menyelamatkan nyawa.\n",
    "\n",
    "Dataset diambil dari Kaggle berjudul Heart Failure Prediction dengan 12 feature, yaitu age, anaemia, creatinine_phosphokinase, diabetes, ejection_fraction, high_blood_pressure, platelets, serum_creatinine, serum_sodium, dan sex."
   ]
  },
  {
   "cell_type": "markdown",
   "metadata": {},
   "source": [
    "### Objective\n",
    "Tujuan dari analisis ini adalah sebagai berikut.\n",
    "1. Mampu memahami konsep Classification dengan Ensemble Model.\n",
    "2. Mampu mempersiapkan data untuk digunakan dalam Ensemble Model.\n",
    "3. Mampu mengimplementasikan Ensemble Model untuk membuat prediksi."
   ]
  },
  {
   "cell_type": "markdown",
   "metadata": {},
   "source": [
    "## Import Libraries"
   ]
  },
  {
   "cell_type": "code",
   "execution_count": 16,
   "metadata": {},
   "outputs": [],
   "source": [
    "import pandas as pd\n",
    "import numpy as np\n",
    "import matplotlib.pyplot as plt\n",
    "import seaborn as sns\n",
    "import plotly.express as px\n",
    "import plotly.graph_objects as go\n",
    "import pickle\n",
    "import warnings\n",
    "import datetime\n",
    "import missingno as msno\n",
    "import plotly.figure_factory as ff\n",
    "\n",
    "from sklearn.linear_model import LogisticRegression\n",
    "from sklearn.tree import DecisionTreeClassifier\n",
    "from sklearn.ensemble import RandomForestClassifier\n",
    "from sklearn.model_selection import GridSearchCV, ShuffleSplit\n",
    "from sklearn.naive_bayes import GaussianNB\n",
    "from sklearn.neighbors import KNeighborsClassifier\n",
    "from sklearn import svm\n",
    "from sklearn.svm import SVC\n",
    "from sklearn.model_selection import train_test_split\n",
    "from sklearn.metrics import mean_squared_error, confusion_matrix, classification_report\n",
    "from sklearn.metrics import accuracy_score, f1_score, precision_score, recall_score\n",
    "from sklearn.pipeline import Pipeline\n",
    "from sklearn.preprocessing import LabelEncoder, StandardScaler\n",
    "from sklearn.model_selection import train_test_split\n",
    "\n",
    "pd.set_option('display.max.columns', None)\n",
    "warnings.filterwarnings('ignore')\n",
    "%matplotlib inline"
   ]
  },
  {
   "cell_type": "markdown",
   "metadata": {},
   "source": [
    "## Data Loading"
   ]
  },
  {
   "cell_type": "code",
   "execution_count": 22,
   "metadata": {},
   "outputs": [
    {
     "data": {
      "text/html": [
       "<div>\n",
       "<style scoped>\n",
       "    .dataframe tbody tr th:only-of-type {\n",
       "        vertical-align: middle;\n",
       "    }\n",
       "\n",
       "    .dataframe tbody tr th {\n",
       "        vertical-align: top;\n",
       "    }\n",
       "\n",
       "    .dataframe thead th {\n",
       "        text-align: right;\n",
       "    }\n",
       "</style>\n",
       "<table border=\"1\" class=\"dataframe\">\n",
       "  <thead>\n",
       "    <tr style=\"text-align: right;\">\n",
       "      <th></th>\n",
       "      <th>age</th>\n",
       "      <th>anaemia</th>\n",
       "      <th>creatinine_phosphokinase</th>\n",
       "      <th>diabetes</th>\n",
       "      <th>ejection_fraction</th>\n",
       "      <th>high_blood_pressure</th>\n",
       "      <th>platelets</th>\n",
       "      <th>serum_creatinine</th>\n",
       "      <th>serum_sodium</th>\n",
       "      <th>sex</th>\n",
       "      <th>smoking</th>\n",
       "      <th>time</th>\n",
       "      <th>DEATH_EVENT</th>\n",
       "    </tr>\n",
       "  </thead>\n",
       "  <tbody>\n",
       "    <tr>\n",
       "      <th>0</th>\n",
       "      <td>75.0</td>\n",
       "      <td>0</td>\n",
       "      <td>582</td>\n",
       "      <td>0</td>\n",
       "      <td>20</td>\n",
       "      <td>1</td>\n",
       "      <td>265000.00</td>\n",
       "      <td>1.9</td>\n",
       "      <td>130</td>\n",
       "      <td>1</td>\n",
       "      <td>0</td>\n",
       "      <td>4</td>\n",
       "      <td>1</td>\n",
       "    </tr>\n",
       "    <tr>\n",
       "      <th>1</th>\n",
       "      <td>55.0</td>\n",
       "      <td>0</td>\n",
       "      <td>7861</td>\n",
       "      <td>0</td>\n",
       "      <td>38</td>\n",
       "      <td>0</td>\n",
       "      <td>263358.03</td>\n",
       "      <td>1.1</td>\n",
       "      <td>136</td>\n",
       "      <td>1</td>\n",
       "      <td>0</td>\n",
       "      <td>6</td>\n",
       "      <td>1</td>\n",
       "    </tr>\n",
       "    <tr>\n",
       "      <th>2</th>\n",
       "      <td>65.0</td>\n",
       "      <td>0</td>\n",
       "      <td>146</td>\n",
       "      <td>0</td>\n",
       "      <td>20</td>\n",
       "      <td>0</td>\n",
       "      <td>162000.00</td>\n",
       "      <td>1.3</td>\n",
       "      <td>129</td>\n",
       "      <td>1</td>\n",
       "      <td>1</td>\n",
       "      <td>7</td>\n",
       "      <td>1</td>\n",
       "    </tr>\n",
       "    <tr>\n",
       "      <th>3</th>\n",
       "      <td>50.0</td>\n",
       "      <td>1</td>\n",
       "      <td>111</td>\n",
       "      <td>0</td>\n",
       "      <td>20</td>\n",
       "      <td>0</td>\n",
       "      <td>210000.00</td>\n",
       "      <td>1.9</td>\n",
       "      <td>137</td>\n",
       "      <td>1</td>\n",
       "      <td>0</td>\n",
       "      <td>7</td>\n",
       "      <td>1</td>\n",
       "    </tr>\n",
       "    <tr>\n",
       "      <th>4</th>\n",
       "      <td>65.0</td>\n",
       "      <td>1</td>\n",
       "      <td>160</td>\n",
       "      <td>1</td>\n",
       "      <td>20</td>\n",
       "      <td>0</td>\n",
       "      <td>327000.00</td>\n",
       "      <td>2.7</td>\n",
       "      <td>116</td>\n",
       "      <td>0</td>\n",
       "      <td>0</td>\n",
       "      <td>8</td>\n",
       "      <td>1</td>\n",
       "    </tr>\n",
       "  </tbody>\n",
       "</table>\n",
       "</div>"
      ],
      "text/plain": [
       "    age  anaemia  creatinine_phosphokinase  diabetes  ejection_fraction  \\\n",
       "0  75.0        0                       582         0                 20   \n",
       "1  55.0        0                      7861         0                 38   \n",
       "2  65.0        0                       146         0                 20   \n",
       "3  50.0        1                       111         0                 20   \n",
       "4  65.0        1                       160         1                 20   \n",
       "\n",
       "   high_blood_pressure  platelets  serum_creatinine  serum_sodium  sex  \\\n",
       "0                    1  265000.00               1.9           130    1   \n",
       "1                    0  263358.03               1.1           136    1   \n",
       "2                    0  162000.00               1.3           129    1   \n",
       "3                    0  210000.00               1.9           137    1   \n",
       "4                    0  327000.00               2.7           116    0   \n",
       "\n",
       "   smoking  time  DEATH_EVENT  \n",
       "0        0     4            1  \n",
       "1        0     6            1  \n",
       "2        1     7            1  \n",
       "3        0     7            1  \n",
       "4        0     8            1  "
      ]
     },
     "execution_count": 22,
     "metadata": {},
     "output_type": "execute_result"
    }
   ],
   "source": [
    "df = pd.read_csv('../../../../data_set/heart_failure_clinical_records_dataset.csv')\n",
    "df.head()\n"
   ]
  },
  {
   "cell_type": "code",
   "execution_count": 4,
   "metadata": {},
   "outputs": [
    {
     "data": {
      "text/plain": [
       "(299, 13)"
      ]
     },
     "execution_count": 4,
     "metadata": {},
     "output_type": "execute_result"
    }
   ],
   "source": [
    "df.shape"
   ]
  },
  {
   "cell_type": "markdown",
   "metadata": {},
   "source": [
    "**Keterangan**\n",
    "<br>\n",
    "Terdapat 299 baris data dan 13 kolom pada dataset heart_failure_clinical_records"
   ]
  },
  {
   "cell_type": "code",
   "execution_count": 5,
   "metadata": {},
   "outputs": [
    {
     "name": "stdout",
     "output_type": "stream",
     "text": [
      "<class 'pandas.core.frame.DataFrame'>\n",
      "RangeIndex: 299 entries, 0 to 298\n",
      "Data columns (total 13 columns):\n",
      " #   Column                    Non-Null Count  Dtype  \n",
      "---  ------                    --------------  -----  \n",
      " 0   age                       299 non-null    float64\n",
      " 1   anaemia                   299 non-null    int64  \n",
      " 2   creatinine_phosphokinase  299 non-null    int64  \n",
      " 3   diabetes                  299 non-null    int64  \n",
      " 4   ejection_fraction         299 non-null    int64  \n",
      " 5   high_blood_pressure       299 non-null    int64  \n",
      " 6   platelets                 299 non-null    float64\n",
      " 7   serum_creatinine          299 non-null    float64\n",
      " 8   serum_sodium              299 non-null    int64  \n",
      " 9   sex                       299 non-null    int64  \n",
      " 10  smoking                   299 non-null    int64  \n",
      " 11  time                      299 non-null    int64  \n",
      " 12  DEATH_EVENT               299 non-null    int64  \n",
      "dtypes: float64(3), int64(10)\n",
      "memory usage: 30.5 KB\n"
     ]
    }
   ],
   "source": [
    "df.info()"
   ]
  },
  {
   "cell_type": "code",
   "execution_count": 7,
   "metadata": {},
   "outputs": [
    {
     "data": {
      "text/html": [
       "<div>\n",
       "<style scoped>\n",
       "    .dataframe tbody tr th:only-of-type {\n",
       "        vertical-align: middle;\n",
       "    }\n",
       "\n",
       "    .dataframe tbody tr th {\n",
       "        vertical-align: top;\n",
       "    }\n",
       "\n",
       "    .dataframe thead th {\n",
       "        text-align: right;\n",
       "    }\n",
       "</style>\n",
       "<table border=\"1\" class=\"dataframe\">\n",
       "  <thead>\n",
       "    <tr style=\"text-align: right;\">\n",
       "      <th></th>\n",
       "      <th>age</th>\n",
       "      <th>anaemia</th>\n",
       "      <th>creatinine_phosphokinase</th>\n",
       "      <th>diabetes</th>\n",
       "      <th>ejection_fraction</th>\n",
       "      <th>high_blood_pressure</th>\n",
       "      <th>platelets</th>\n",
       "      <th>serum_creatinine</th>\n",
       "      <th>serum_sodium</th>\n",
       "      <th>sex</th>\n",
       "      <th>smoking</th>\n",
       "      <th>time</th>\n",
       "      <th>DEATH_EVENT</th>\n",
       "    </tr>\n",
       "  </thead>\n",
       "  <tbody>\n",
       "    <tr>\n",
       "      <th>count</th>\n",
       "      <td>299.000000</td>\n",
       "      <td>299.000000</td>\n",
       "      <td>299.000000</td>\n",
       "      <td>299.000000</td>\n",
       "      <td>299.000000</td>\n",
       "      <td>299.000000</td>\n",
       "      <td>299.000000</td>\n",
       "      <td>299.00000</td>\n",
       "      <td>299.000000</td>\n",
       "      <td>299.000000</td>\n",
       "      <td>299.00000</td>\n",
       "      <td>299.000000</td>\n",
       "      <td>299.00000</td>\n",
       "    </tr>\n",
       "    <tr>\n",
       "      <th>mean</th>\n",
       "      <td>60.833893</td>\n",
       "      <td>0.431438</td>\n",
       "      <td>581.839465</td>\n",
       "      <td>0.418060</td>\n",
       "      <td>38.083612</td>\n",
       "      <td>0.351171</td>\n",
       "      <td>263358.029264</td>\n",
       "      <td>1.39388</td>\n",
       "      <td>136.625418</td>\n",
       "      <td>0.648829</td>\n",
       "      <td>0.32107</td>\n",
       "      <td>130.260870</td>\n",
       "      <td>0.32107</td>\n",
       "    </tr>\n",
       "    <tr>\n",
       "      <th>std</th>\n",
       "      <td>11.894809</td>\n",
       "      <td>0.496107</td>\n",
       "      <td>970.287881</td>\n",
       "      <td>0.494067</td>\n",
       "      <td>11.834841</td>\n",
       "      <td>0.478136</td>\n",
       "      <td>97804.236869</td>\n",
       "      <td>1.03451</td>\n",
       "      <td>4.412477</td>\n",
       "      <td>0.478136</td>\n",
       "      <td>0.46767</td>\n",
       "      <td>77.614208</td>\n",
       "      <td>0.46767</td>\n",
       "    </tr>\n",
       "    <tr>\n",
       "      <th>min</th>\n",
       "      <td>40.000000</td>\n",
       "      <td>0.000000</td>\n",
       "      <td>23.000000</td>\n",
       "      <td>0.000000</td>\n",
       "      <td>14.000000</td>\n",
       "      <td>0.000000</td>\n",
       "      <td>25100.000000</td>\n",
       "      <td>0.50000</td>\n",
       "      <td>113.000000</td>\n",
       "      <td>0.000000</td>\n",
       "      <td>0.00000</td>\n",
       "      <td>4.000000</td>\n",
       "      <td>0.00000</td>\n",
       "    </tr>\n",
       "    <tr>\n",
       "      <th>25%</th>\n",
       "      <td>51.000000</td>\n",
       "      <td>0.000000</td>\n",
       "      <td>116.500000</td>\n",
       "      <td>0.000000</td>\n",
       "      <td>30.000000</td>\n",
       "      <td>0.000000</td>\n",
       "      <td>212500.000000</td>\n",
       "      <td>0.90000</td>\n",
       "      <td>134.000000</td>\n",
       "      <td>0.000000</td>\n",
       "      <td>0.00000</td>\n",
       "      <td>73.000000</td>\n",
       "      <td>0.00000</td>\n",
       "    </tr>\n",
       "    <tr>\n",
       "      <th>50%</th>\n",
       "      <td>60.000000</td>\n",
       "      <td>0.000000</td>\n",
       "      <td>250.000000</td>\n",
       "      <td>0.000000</td>\n",
       "      <td>38.000000</td>\n",
       "      <td>0.000000</td>\n",
       "      <td>262000.000000</td>\n",
       "      <td>1.10000</td>\n",
       "      <td>137.000000</td>\n",
       "      <td>1.000000</td>\n",
       "      <td>0.00000</td>\n",
       "      <td>115.000000</td>\n",
       "      <td>0.00000</td>\n",
       "    </tr>\n",
       "    <tr>\n",
       "      <th>75%</th>\n",
       "      <td>70.000000</td>\n",
       "      <td>1.000000</td>\n",
       "      <td>582.000000</td>\n",
       "      <td>1.000000</td>\n",
       "      <td>45.000000</td>\n",
       "      <td>1.000000</td>\n",
       "      <td>303500.000000</td>\n",
       "      <td>1.40000</td>\n",
       "      <td>140.000000</td>\n",
       "      <td>1.000000</td>\n",
       "      <td>1.00000</td>\n",
       "      <td>203.000000</td>\n",
       "      <td>1.00000</td>\n",
       "    </tr>\n",
       "    <tr>\n",
       "      <th>max</th>\n",
       "      <td>95.000000</td>\n",
       "      <td>1.000000</td>\n",
       "      <td>7861.000000</td>\n",
       "      <td>1.000000</td>\n",
       "      <td>80.000000</td>\n",
       "      <td>1.000000</td>\n",
       "      <td>850000.000000</td>\n",
       "      <td>9.40000</td>\n",
       "      <td>148.000000</td>\n",
       "      <td>1.000000</td>\n",
       "      <td>1.00000</td>\n",
       "      <td>285.000000</td>\n",
       "      <td>1.00000</td>\n",
       "    </tr>\n",
       "  </tbody>\n",
       "</table>\n",
       "</div>"
      ],
      "text/plain": [
       "              age     anaemia  creatinine_phosphokinase    diabetes  \\\n",
       "count  299.000000  299.000000                299.000000  299.000000   \n",
       "mean    60.833893    0.431438                581.839465    0.418060   \n",
       "std     11.894809    0.496107                970.287881    0.494067   \n",
       "min     40.000000    0.000000                 23.000000    0.000000   \n",
       "25%     51.000000    0.000000                116.500000    0.000000   \n",
       "50%     60.000000    0.000000                250.000000    0.000000   \n",
       "75%     70.000000    1.000000                582.000000    1.000000   \n",
       "max     95.000000    1.000000               7861.000000    1.000000   \n",
       "\n",
       "       ejection_fraction  high_blood_pressure      platelets  \\\n",
       "count         299.000000           299.000000     299.000000   \n",
       "mean           38.083612             0.351171  263358.029264   \n",
       "std            11.834841             0.478136   97804.236869   \n",
       "min            14.000000             0.000000   25100.000000   \n",
       "25%            30.000000             0.000000  212500.000000   \n",
       "50%            38.000000             0.000000  262000.000000   \n",
       "75%            45.000000             1.000000  303500.000000   \n",
       "max            80.000000             1.000000  850000.000000   \n",
       "\n",
       "       serum_creatinine  serum_sodium         sex    smoking        time  \\\n",
       "count         299.00000    299.000000  299.000000  299.00000  299.000000   \n",
       "mean            1.39388    136.625418    0.648829    0.32107  130.260870   \n",
       "std             1.03451      4.412477    0.478136    0.46767   77.614208   \n",
       "min             0.50000    113.000000    0.000000    0.00000    4.000000   \n",
       "25%             0.90000    134.000000    0.000000    0.00000   73.000000   \n",
       "50%             1.10000    137.000000    1.000000    0.00000  115.000000   \n",
       "75%             1.40000    140.000000    1.000000    1.00000  203.000000   \n",
       "max             9.40000    148.000000    1.000000    1.00000  285.000000   \n",
       "\n",
       "       DEATH_EVENT  \n",
       "count    299.00000  \n",
       "mean       0.32107  \n",
       "std        0.46767  \n",
       "min        0.00000  \n",
       "25%        0.00000  \n",
       "50%        0.00000  \n",
       "75%        1.00000  \n",
       "max        1.00000  "
      ]
     },
     "execution_count": 7,
     "metadata": {},
     "output_type": "execute_result"
    }
   ],
   "source": [
    "df.describe()"
   ]
  },
  {
   "cell_type": "markdown",
   "metadata": {},
   "source": [
    "**Keterangan**\n",
    "<br>\n",
    "Pada feature creatinine_phosphokinase terlihat jarak yang sangat jauh antara 75% dan max, perlu diselidiki apakah terdapat outlier di sana"
   ]
  },
  {
   "cell_type": "markdown",
   "metadata": {},
   "source": [
    "## Data Cleaning"
   ]
  },
  {
   "cell_type": "code",
   "execution_count": 12,
   "metadata": {},
   "outputs": [
    {
     "name": "stdout",
     "output_type": "stream",
     "text": [
      "Jumlah missing value:  0\n"
     ]
    }
   ],
   "source": [
    "print('Jumlah missing value: ', df.isna().sum().sum())"
   ]
  },
  {
   "cell_type": "code",
   "execution_count": 13,
   "metadata": {},
   "outputs": [
    {
     "name": "stdout",
     "output_type": "stream",
     "text": [
      "Jumlah duplicated value:  0\n"
     ]
    }
   ],
   "source": [
    "print('Jumlah duplicated value: ', df.duplicated().sum())"
   ]
  },
  {
   "cell_type": "markdown",
   "metadata": {},
   "source": [
    "**Keterangan**\n",
    "<br>\n",
    "Dataset ini tidak memiliki missing value maupun duplicated value"
   ]
  },
  {
   "cell_type": "code",
   "execution_count": 24,
   "metadata": {},
   "outputs": [
    {
     "data": {
      "text/html": [
       "<div>\n",
       "<style scoped>\n",
       "    .dataframe tbody tr th:only-of-type {\n",
       "        vertical-align: middle;\n",
       "    }\n",
       "\n",
       "    .dataframe tbody tr th {\n",
       "        vertical-align: top;\n",
       "    }\n",
       "\n",
       "    .dataframe thead th {\n",
       "        text-align: right;\n",
       "    }\n",
       "</style>\n",
       "<table border=\"1\" class=\"dataframe\">\n",
       "  <thead>\n",
       "    <tr style=\"text-align: right;\">\n",
       "      <th></th>\n",
       "      <th>age</th>\n",
       "      <th>anaemia</th>\n",
       "      <th>cpk_level</th>\n",
       "      <th>diabetes</th>\n",
       "      <th>ejection_fraction</th>\n",
       "      <th>high_blood_pressure</th>\n",
       "      <th>platelets</th>\n",
       "      <th>serum_creatinine</th>\n",
       "      <th>serum_sodium</th>\n",
       "      <th>sex</th>\n",
       "      <th>smoking</th>\n",
       "      <th>time</th>\n",
       "      <th>death_event</th>\n",
       "    </tr>\n",
       "  </thead>\n",
       "  <tbody>\n",
       "    <tr>\n",
       "      <th>0</th>\n",
       "      <td>75.0</td>\n",
       "      <td>0</td>\n",
       "      <td>582</td>\n",
       "      <td>0</td>\n",
       "      <td>20</td>\n",
       "      <td>1</td>\n",
       "      <td>265000.00</td>\n",
       "      <td>1.9</td>\n",
       "      <td>130</td>\n",
       "      <td>1</td>\n",
       "      <td>0</td>\n",
       "      <td>4</td>\n",
       "      <td>1</td>\n",
       "    </tr>\n",
       "    <tr>\n",
       "      <th>1</th>\n",
       "      <td>55.0</td>\n",
       "      <td>0</td>\n",
       "      <td>7861</td>\n",
       "      <td>0</td>\n",
       "      <td>38</td>\n",
       "      <td>0</td>\n",
       "      <td>263358.03</td>\n",
       "      <td>1.1</td>\n",
       "      <td>136</td>\n",
       "      <td>1</td>\n",
       "      <td>0</td>\n",
       "      <td>6</td>\n",
       "      <td>1</td>\n",
       "    </tr>\n",
       "    <tr>\n",
       "      <th>2</th>\n",
       "      <td>65.0</td>\n",
       "      <td>0</td>\n",
       "      <td>146</td>\n",
       "      <td>0</td>\n",
       "      <td>20</td>\n",
       "      <td>0</td>\n",
       "      <td>162000.00</td>\n",
       "      <td>1.3</td>\n",
       "      <td>129</td>\n",
       "      <td>1</td>\n",
       "      <td>1</td>\n",
       "      <td>7</td>\n",
       "      <td>1</td>\n",
       "    </tr>\n",
       "    <tr>\n",
       "      <th>3</th>\n",
       "      <td>50.0</td>\n",
       "      <td>1</td>\n",
       "      <td>111</td>\n",
       "      <td>0</td>\n",
       "      <td>20</td>\n",
       "      <td>0</td>\n",
       "      <td>210000.00</td>\n",
       "      <td>1.9</td>\n",
       "      <td>137</td>\n",
       "      <td>1</td>\n",
       "      <td>0</td>\n",
       "      <td>7</td>\n",
       "      <td>1</td>\n",
       "    </tr>\n",
       "    <tr>\n",
       "      <th>4</th>\n",
       "      <td>65.0</td>\n",
       "      <td>1</td>\n",
       "      <td>160</td>\n",
       "      <td>1</td>\n",
       "      <td>20</td>\n",
       "      <td>0</td>\n",
       "      <td>327000.00</td>\n",
       "      <td>2.7</td>\n",
       "      <td>116</td>\n",
       "      <td>0</td>\n",
       "      <td>0</td>\n",
       "      <td>8</td>\n",
       "      <td>1</td>\n",
       "    </tr>\n",
       "  </tbody>\n",
       "</table>\n",
       "</div>"
      ],
      "text/plain": [
       "    age  anaemia  cpk_level  diabetes  ejection_fraction  high_blood_pressure  \\\n",
       "0  75.0        0        582         0                 20                    1   \n",
       "1  55.0        0       7861         0                 38                    0   \n",
       "2  65.0        0        146         0                 20                    0   \n",
       "3  50.0        1        111         0                 20                    0   \n",
       "4  65.0        1        160         1                 20                    0   \n",
       "\n",
       "   platelets  serum_creatinine  serum_sodium  sex  smoking  time  death_event  \n",
       "0  265000.00               1.9           130    1        0     4            1  \n",
       "1  263358.03               1.1           136    1        0     6            1  \n",
       "2  162000.00               1.3           129    1        1     7            1  \n",
       "3  210000.00               1.9           137    1        0     7            1  \n",
       "4  327000.00               2.7           116    0        0     8            1  "
      ]
     },
     "execution_count": 24,
     "metadata": {},
     "output_type": "execute_result"
    }
   ],
   "source": [
    "df_clean = df.rename(columns={\n",
    "    'creatinine_phosphokinase': 'cpk_level',\n",
    "    'DEATH_EVENT': 'death_event'\n",
    "})\n",
    "df_clean.head()"
   ]
  },
  {
   "cell_type": "markdown",
   "metadata": {},
   "source": [
    "**Keterangan**\n",
    "<br>\n",
    "Dua nama kolom diubah untuk mempermudah pengerjaan, yaitu creatinine_phosphokinase menjadi cpk_level dan DEATH_EVENT menjadi death_event."
   ]
  },
  {
   "cell_type": "markdown",
   "metadata": {},
   "source": [
    "## EDA and Visualization"
   ]
  },
  {
   "cell_type": "code",
   "execution_count": 25,
   "metadata": {},
   "outputs": [
    {
     "data": {
      "application/vnd.plotly.v1+json": {
       "config": {
        "plotlyServerURL": "https://plot.ly"
       },
       "data": [
        {
         "autobinx": false,
         "histnorm": "probability density",
         "legendgroup": "age",
         "marker": {
          "color": "rgb(31, 119, 180)"
         },
         "name": "age",
         "opacity": 0.7,
         "type": "histogram",
         "x": [
          75,
          55,
          65,
          50,
          65,
          90,
          75,
          60,
          65,
          80,
          75,
          62,
          45,
          50,
          49,
          82,
          87,
          45,
          70,
          48,
          65,
          65,
          68,
          53,
          75,
          80,
          95,
          70,
          58,
          82,
          94,
          85,
          50,
          50,
          65,
          69,
          90,
          82,
          60,
          60,
          70,
          50,
          70,
          72,
          60,
          50,
          51,
          60,
          80,
          57,
          68,
          53,
          60,
          70,
          60,
          95,
          70,
          60,
          49,
          72,
          45,
          50,
          55,
          45,
          45,
          60,
          42,
          72,
          70,
          65,
          41,
          58,
          85,
          65,
          69,
          60,
          70,
          42,
          75,
          55,
          70,
          67,
          60,
          79,
          59,
          51,
          55,
          65,
          44,
          57,
          70,
          60,
          42,
          60,
          58,
          58,
          63,
          70,
          60,
          63,
          65,
          75,
          80,
          42,
          60,
          72,
          55,
          45,
          63,
          45,
          85,
          55,
          50,
          70,
          60,
          58,
          60,
          85,
          65,
          86,
          60,
          66,
          60,
          60,
          60,
          43,
          46,
          58,
          61,
          53,
          53,
          60,
          46,
          63,
          81,
          75,
          65,
          68,
          62,
          50,
          80,
          46,
          50,
          61,
          72,
          50,
          52,
          64,
          75,
          60,
          72,
          62,
          50,
          50,
          65,
          60,
          52,
          50,
          85,
          59,
          66,
          45,
          63,
          50,
          45,
          80,
          53,
          59,
          65,
          70,
          51,
          52,
          70,
          50,
          65,
          60,
          69,
          49,
          63,
          55,
          40,
          59,
          65,
          75,
          58,
          60.667,
          50,
          60,
          60.667,
          40,
          80,
          64,
          50,
          73,
          45,
          77,
          45,
          65,
          50,
          60,
          63,
          45,
          70,
          60,
          78,
          50,
          40,
          85,
          60,
          49,
          70,
          50,
          78,
          48,
          65,
          73,
          70,
          54,
          68,
          55,
          73,
          65,
          42,
          47,
          58,
          75,
          58,
          55,
          65,
          72,
          60,
          70,
          40,
          53,
          53,
          77,
          75,
          70,
          65,
          55,
          70,
          65,
          40,
          73,
          54,
          61,
          55,
          64,
          40,
          53,
          50,
          55,
          50,
          70,
          53,
          52,
          65,
          58,
          45,
          53,
          55,
          62,
          65,
          68,
          61,
          50,
          55,
          56,
          45,
          40,
          44,
          51,
          67,
          42,
          60,
          45,
          70,
          70,
          50,
          55,
          70,
          70,
          42,
          65,
          50,
          55,
          60,
          45,
          65,
          90,
          45,
          60,
          52,
          63,
          62,
          55,
          45,
          45,
          50
         ],
         "xaxis": "x",
         "xbins": {
          "end": 95,
          "size": 1,
          "start": 40
         },
         "yaxis": "y"
        },
        {
         "legendgroup": "age",
         "marker": {
          "color": "rgb(31, 119, 180)"
         },
         "mode": "lines",
         "name": "age",
         "showlegend": false,
         "type": "scatter",
         "x": [
          40,
          40.11,
          40.22,
          40.33,
          40.44,
          40.55,
          40.66,
          40.77,
          40.88,
          40.99,
          41.1,
          41.21,
          41.32,
          41.43,
          41.54,
          41.65,
          41.76,
          41.87,
          41.98,
          42.09,
          42.2,
          42.31,
          42.42,
          42.53,
          42.64,
          42.75,
          42.86,
          42.97,
          43.08,
          43.19,
          43.3,
          43.41,
          43.52,
          43.63,
          43.74,
          43.85,
          43.96,
          44.07,
          44.18,
          44.29,
          44.4,
          44.51,
          44.62,
          44.730000000000004,
          44.84,
          44.95,
          45.06,
          45.17,
          45.28,
          45.39,
          45.5,
          45.61,
          45.72,
          45.83,
          45.94,
          46.05,
          46.16,
          46.269999999999996,
          46.38,
          46.49,
          46.6,
          46.71,
          46.82,
          46.93,
          47.04,
          47.15,
          47.26,
          47.37,
          47.480000000000004,
          47.59,
          47.7,
          47.81,
          47.92,
          48.03,
          48.14,
          48.25,
          48.36,
          48.47,
          48.58,
          48.69,
          48.8,
          48.91,
          49.019999999999996,
          49.13,
          49.24,
          49.35,
          49.46,
          49.57,
          49.68,
          49.79,
          49.9,
          50.01,
          50.12,
          50.230000000000004,
          50.34,
          50.45,
          50.56,
          50.67,
          50.78,
          50.89,
          51,
          51.11,
          51.22,
          51.33,
          51.44,
          51.55,
          51.66,
          51.769999999999996,
          51.88,
          51.99,
          52.1,
          52.21,
          52.32,
          52.43,
          52.54,
          52.65,
          52.76,
          52.87,
          52.980000000000004,
          53.09,
          53.2,
          53.31,
          53.42,
          53.53,
          53.64,
          53.75,
          53.86,
          53.97,
          54.08,
          54.19,
          54.3,
          54.41,
          54.519999999999996,
          54.63,
          54.74,
          54.85,
          54.96,
          55.07,
          55.18,
          55.29,
          55.4,
          55.51,
          55.62,
          55.730000000000004,
          55.84,
          55.95,
          56.06,
          56.17,
          56.28,
          56.39,
          56.5,
          56.61,
          56.72,
          56.83,
          56.94,
          57.05,
          57.16,
          57.269999999999996,
          57.379999999999995,
          57.489999999999995,
          57.6,
          57.71,
          57.82,
          57.93,
          58.04,
          58.15,
          58.260000000000005,
          58.370000000000005,
          58.480000000000004,
          58.59,
          58.7,
          58.81,
          58.92,
          59.03,
          59.14,
          59.25,
          59.36,
          59.47,
          59.58,
          59.69,
          59.8,
          59.91,
          60.019999999999996,
          60.129999999999995,
          60.239999999999995,
          60.35,
          60.46,
          60.57,
          60.68,
          60.79,
          60.9,
          61.010000000000005,
          61.120000000000005,
          61.230000000000004,
          61.34,
          61.45,
          61.56,
          61.67,
          61.78,
          61.89,
          62,
          62.11,
          62.22,
          62.33,
          62.44,
          62.55,
          62.66,
          62.769999999999996,
          62.879999999999995,
          62.989999999999995,
          63.1,
          63.21,
          63.32,
          63.43,
          63.54,
          63.65,
          63.760000000000005,
          63.870000000000005,
          63.980000000000004,
          64.09,
          64.2,
          64.31,
          64.42,
          64.53,
          64.64,
          64.75,
          64.86,
          64.97,
          65.08,
          65.19,
          65.3,
          65.41,
          65.52,
          65.63,
          65.74,
          65.85,
          65.96000000000001,
          66.07,
          66.18,
          66.28999999999999,
          66.4,
          66.51,
          66.62,
          66.73,
          66.84,
          66.95,
          67.06,
          67.17,
          67.28,
          67.39,
          67.5,
          67.61,
          67.72,
          67.83,
          67.94,
          68.05,
          68.16,
          68.27,
          68.38,
          68.49,
          68.6,
          68.71000000000001,
          68.82,
          68.93,
          69.03999999999999,
          69.15,
          69.26,
          69.37,
          69.48,
          69.59,
          69.7,
          69.81,
          69.92,
          70.03,
          70.14,
          70.25,
          70.36,
          70.47,
          70.58,
          70.69,
          70.8,
          70.91,
          71.02,
          71.13,
          71.24,
          71.35,
          71.46000000000001,
          71.57,
          71.68,
          71.78999999999999,
          71.9,
          72.00999999999999,
          72.12,
          72.22999999999999,
          72.34,
          72.45,
          72.56,
          72.67,
          72.78,
          72.89,
          73,
          73.11,
          73.22,
          73.33,
          73.44,
          73.55,
          73.66,
          73.77000000000001,
          73.88,
          73.99000000000001,
          74.1,
          74.21000000000001,
          74.32,
          74.43,
          74.53999999999999,
          74.65,
          74.75999999999999,
          74.87,
          74.97999999999999,
          75.09,
          75.2,
          75.31,
          75.42,
          75.53,
          75.64,
          75.75,
          75.86,
          75.97,
          76.08,
          76.19,
          76.3,
          76.41,
          76.52000000000001,
          76.63,
          76.74000000000001,
          76.85,
          76.96000000000001,
          77.07,
          77.18,
          77.28999999999999,
          77.4,
          77.50999999999999,
          77.62,
          77.72999999999999,
          77.84,
          77.95,
          78.06,
          78.17,
          78.28,
          78.39,
          78.5,
          78.61,
          78.72,
          78.83,
          78.94,
          79.05,
          79.16,
          79.27000000000001,
          79.38,
          79.49000000000001,
          79.6,
          79.71000000000001,
          79.82,
          79.93,
          80.03999999999999,
          80.15,
          80.25999999999999,
          80.37,
          80.47999999999999,
          80.59,
          80.7,
          80.81,
          80.92,
          81.03,
          81.14,
          81.25,
          81.36,
          81.47,
          81.58,
          81.69,
          81.8,
          81.91,
          82.02000000000001,
          82.13,
          82.24000000000001,
          82.35,
          82.46000000000001,
          82.57,
          82.68,
          82.78999999999999,
          82.9,
          83.00999999999999,
          83.12,
          83.22999999999999,
          83.34,
          83.45,
          83.56,
          83.67,
          83.78,
          83.89,
          84,
          84.11,
          84.22,
          84.33,
          84.44,
          84.55,
          84.66,
          84.77000000000001,
          84.88,
          84.99000000000001,
          85.1,
          85.21000000000001,
          85.32,
          85.43,
          85.53999999999999,
          85.65,
          85.75999999999999,
          85.87,
          85.97999999999999,
          86.09,
          86.2,
          86.31,
          86.42,
          86.53,
          86.64,
          86.75,
          86.86,
          86.97,
          87.08,
          87.19,
          87.3,
          87.41,
          87.52000000000001,
          87.63,
          87.74000000000001,
          87.85,
          87.96000000000001,
          88.07,
          88.18,
          88.28999999999999,
          88.4,
          88.50999999999999,
          88.62,
          88.72999999999999,
          88.84,
          88.95,
          89.06,
          89.17,
          89.28,
          89.39,
          89.5,
          89.61,
          89.72,
          89.83,
          89.94,
          90.05,
          90.16,
          90.27000000000001,
          90.38,
          90.49000000000001,
          90.6,
          90.71000000000001,
          90.82,
          90.93,
          91.03999999999999,
          91.15,
          91.25999999999999,
          91.37,
          91.47999999999999,
          91.59,
          91.7,
          91.81,
          91.92,
          92.03,
          92.14,
          92.25,
          92.36,
          92.47,
          92.58,
          92.69,
          92.8,
          92.91,
          93.02000000000001,
          93.13,
          93.24000000000001,
          93.35,
          93.46000000000001,
          93.57,
          93.68,
          93.78999999999999,
          93.9,
          94.00999999999999,
          94.12,
          94.22999999999999,
          94.34,
          94.45,
          94.56,
          94.67,
          94.78,
          94.89
         ],
         "xaxis": "x",
         "y": [
          0.009278580261905384,
          0.0094938463446575,
          0.009709942017945495,
          0.009926756744584264,
          0.010144180923897348,
          0.010362106165255599,
          0.010580425557159689,
          0.010799033930689383,
          0.011017828116131665,
          0.011236707191591193,
          0.011455572722384,
          0.011674328990017607,
          0.011892883209567724,
          0.012111145734276236,
          0.012329030246215258,
          0.012546453931888775,
          0.012763337641678352,
          0.012979606032081831,
          0.013195187689743742,
          0.013410015236335695,
          0.013624025413411553,
          0.013837159146439872,
          0.014049361587299726,
          0.01426058213462163,
          0.014470774431457532,
          0.014679896339876555,
          0.014887909892202802,
          0.015094781218740527,
          0.015300480451968345,
          0.01550498160732627,
          0.015708262440870466,
          0.01591030428422435,
          0.01611109185741427,
          0.01631061306034132,
          0.016508858743806334,
          0.016705822461170507,
          0.01690150020190048,
          0.017095890108411515,
          0.017288992177782837,
          0.017480807950075228,
          0.017671340185131588,
          0.017860592529883406,
          0.018048569178316758,
          0.018235274526376036,
          0.018420712824188782,
          0.018604887828092793,
          0.018787802455023078,
          0.01896945844188089,
          0.019149856012548677,
          0.019328993555241654,
          0.01950686731289016,
          0.019683471089231012,
          0.019858795973248702,
          0.020032830084546285,
          0.02020555834214575,
          0.02037696225911062,
          0.020547019765259855,
          0.020715705060092387,
          0.020882988497873026,
          0.021048836506641345,
          0.021213211542696026,
          0.021376072081882334,
          0.021537372648764957,
          0.021697063884514027,
          0.021855092654058352,
          0.022011402192781488,
          0.02216593229274253,
          0.02231861952810981,
          0.022469397519190897,
          0.02261819723414251,
          0.022764947327138935,
          0.022909574511478403,
          0.023052003965815384,
          0.02319215977141755,
          0.02332996537807535,
          0.02346534409602645,
          0.023598219611014146,
          0.02372851651936785,
          0.023856160879784594,
          0.023981080778304475,
          0.024103206902805898,
          0.02422247312320875,
          0.024338817073458682,
          0.024452180731279916,
          0.024562510991625954,
          0.02466976022972639,
          0.024773886849630302,
          0.024874855814173223,
          0.024972639152355116,
          0.02506721644020211,
          0.025158575251302762,
          0.025246711573351798,
          0.0253316301872051,
          0.025413345005145905,
          0.025491879365282372,
          0.025567266279239227,
          0.02563954863057085,
          0.025708779321605993,
          0.025775021366734527,
          0.025838347930462264,
          0.025898842308888437,
          0.02595659785359945,
          0.026011717837320314,
          0.026064315261018954,
          0.026114512602515773,
          0.026162441507011684,
          0.026208242420302764,
          0.026252064165808626,
          0.026294063466890324,
          0.02633440441627337,
          0.02637325789472914,
          0.026410800941486096,
          0.02644721607914996,
          0.026482690596207663,
          0.02651741579046128,
          0.026551586177000458,
          0.02658539866455349,
          0.026619051704278543,
          0.02665274441524492,
          0.02668667569102916,
          0.02672104329199035,
          0.02675604292791466,
          0.026791867335808132,
          0.02682870535768781,
          0.02686674102325875,
          0.026906152642380107,
          0.026947111912206924,
          0.026989783043853792,
          0.02703432191335856,
          0.027080875241625262,
          0.027129579807906357,
          0.027180561701233154,
          0.02723393561403056,
          0.027289804181952638,
          0.027348257373752936,
          0.027409371934759747,
          0.027473210887256398,
          0.02753982309078393,
          0.027609242865073023,
          0.02768148967799341,
          0.02775656790056619,
          0.02783446663073456,
          0.02791515958722357,
          0.02799860507444367,
          0.02808474601901188,
          0.028173510078075777,
          0.02826480981923451,
          0.02835854297145724,
          0.02845459274600961,
          0.02855282822600891,
          0.02865310482285001,
          0.028755264797366065,
          0.028859137843230714,
          0.028964541729754448,
          0.029071283000898594,
          0.029179157727009474,
          0.029287952305484196,
          0.029397444306302863,
          0.029507403358112666,
          0.029617592070326104,
          0.029727766986498236,
          0.029837679564080753,
          0.02994707717551278,
          0.030055704125503055,
          0.030163302679281266,
          0.030269614096558376,
          0.03037437966592311,
          0.03047734173442865,
          0.03057824472717848,
          0.030676836151810397,
          0.030772867582898714,
          0.030866095621444253,
          0.030956282824804372,
          0.03104319860262321,
          0.031126620074554436,
          0.031206332885835027,
          0.031282131977039065,
          0.03135382230465307,
          0.031421219509424766,
          0.03148415052977618,
          0.03154245415791434,
          0.03159598153663014,
          0.03164459659514011,
          0.03168817642268719,
          0.031726611578989865,
          0.031759806340990133,
          0.03178767888571526,
          0.031810161409422034,
          0.031827200183536956,
          0.03183875554824023,
          0.031844801844859535,
          0.031845327288545756,
          0.031840333782985314,
          0.031829836679173225,
          0.031813864480514834,
          0.03179245849674978,
          0.031765672449392324,
          0.0317335720315596,
          0.03169623442521679,
          0.0316537477789949,
          0.031606210649847255,
          0.031553731411892376,
          0.031496427635854606,
          0.03143442544254776,
          0.031367858833871734,
          0.03129686900478313,
          0.031221603639684948,
          0.03114221619663816,
          0.031058865182745993,
          0.03097171342399218,
          0.030880927332730897,
          0.030786676175934155,
          0.0306891313471994,
          0.03058846564540762,
          0.03048485256280277,
          0.030378465585143836,
          0.03026947750644809,
          0.030158059760716206,
          0.03004438177289864,
          0.029928610331226773,
          0.02981090898290241,
          0.029691437455007647,
          0.029570351102362915,
          0.029447800383938343,
          0.02932393036929374,
          0.0291988802763988,
          0.02907278304206635,
          0.028945764926109292,
          0.02881794515021735,
          0.028689435572433166,
          0.028560340397992715,
          0.028430755927186375,
          0.028300770340778054,
          0.02817046352341414,
          0.028039906925336096,
          0.0279091634626016,
          0.027778287455897874,
          0.027647324607921093,
          0.02751631201916986,
          0.027385278241884064,
          0.027254243371731258,
          0.027123219176722273,
          0.026992209262699764,
          0.02686120927461879,
          0.026730207132698684,
          0.026599183302391218,
          0.026468111096973366,
          0.02633695701143171,
          0.026205681086169542,
          0.026074237298930644,
          0.0259425739831961,
          0.02581063427117978,
          0.02567835655942136,
          0.025545674994847875,
          0.025412519979064734,
          0.025278818688522844,
          0.025144495608113025,
          0.025009473075645803,
          0.0248736718346006,
          0.024737011592458107,
          0.024599411581882936,
          0.02446079112198086,
          0.024321070176837916,
          0.02418016990853795,
          0.024038013221870932,
          0.023894525297967442,
          0.02374963411414364,
          0.023603270947301892,
          0.023455370858312247,
          0.02330587315489988,
          0.023154721830673186,
          0.02300186597806304,
          0.022847260173083653,
          0.022690864829991067,
          0.02253264652408357,
          0.022372578281078845,
          0.022210639831695272,
          0.0220468178302722,
          0.021881106036477763,
          0.021713505459371618,
          0.021544024463313303,
          0.021372678835435796,
          0.021199491814628654,
          0.0210244940822025,
          0.020847723714631165,
          0.020669226098985926,
          0.020489053811889955,
          0.02030726646302652,
          0.020123930504430263,
          0.019939119006977875,
          0.019752911405665315,
          0.01956539321542272,
          0.019376655719360945,
          0.019186795631478584,
          0.018995914735969288,
          0.0188041195053748,
          0.01861152069990388,
          0.01841823295031002,
          0.018224374326764405,
          0.018030065896193898,
          0.017835431270569024,
          0.017640596148622213,
          0.017445687853463107,
          0.017250834868519714,
          0.017056166374190593,
          0.016861811787527964,
          0.016667900307199886,
          0.01647456046589064,
          0.016281919692203432,
          0.016090103884019623,
          0.015899236995155098,
          0.015709440637029486,
          0.015520833696934532,
          0.015333531974352931,
          0.01514764783663997,
          0.014963289895237581,
          0.01478056270344743,
          0.014599566476644125,
          0.014420396835665447,
          0.01424314457397236,
          0.014067895449031732,
          0.013894729998232299,
          0.013723723379513627,
          0.013554945236753109,
          0.013388459589830983,
          0.013224324749172294,
          0.013062593254449133,
          0.012903311837016774,
          0.012746521405555067,
          0.01259225705429012,
          0.012440548093081531,
          0.012291418098579098,
          0.012144884985577023,
          0.01200096109762613,
          0.011859653315904014,
          0.011720963185289932,
          0.011584887056543819,
          0.011451416243450824,
          0.011320537193759951,
          0.011192231672720076,
          0.011066476957997397,
          0.01094324604474717,
          0.010822507859605895,
          0.0107042274823706,
          0.01058836637413869,
          0.010474882610693643,
          0.010363731119938642,
          0.010254863922205716,
          0.010148230372292857,
          0.010043777402117494,
          0.009941449762910516,
          0.009841190265917848,
          0.009742940020622707,
          0.009646638669550747,
          0.009552224618775149,
          0.009459635263293296,
          0.009368807206507727,
          0.009279676473105054,
          0.009192178714690262,
          0.009106249407600147,
          0.009021824042386009,
          0.008938838304523796,
          0.008857228245978508,
          0.00877693044731803,
          0.008697882170139356,
          0.008620021499637847,
          0.008543287477216666,
          0.008467620223096798,
          0.008392961048951776,
          0.008319252560650048,
          0.008246438751245734,
          0.008174465084411223,
          0.00810327856855644,
          0.008032827821924266,
          0.00796306312899487,
          0.007893936488567638,
          0.007825401653923524,
          0.007757414165496963,
          0.007689931376510232,
          0.00762291247204015,
          0.007556318481999335,
          0.007490112288522172,
          0.007424258628247027,
          0.00735872408998383,
          0.007293477108248602,
          0.007228487953134304,
          0.007163728716970578,
          0.007099173298204766,
          0.007034797382912015,
          0.006970578424315054,
          0.006906495620663077,
          0.006842529891787083,
          0.006778663854612895,
          0.006714881797877846,
          0.006651169656257826,
          0.006587514984074646,
          0.006523906928714569,
          0.00646033620385067,
          0.006396795062525257,
          0.00633327727011215,
          0.00626977807714494,
          0.006206294191964689,
          0.006142823753112158,
          0.006079366301361472,
          0.006015922751270015,
          0.0059524953620979145,
          0.005889087707934707,
          0.0058257046468567705,
          0.005762352288931351,
          0.0056990379628756764,
          0.005635770181180636,
          0.005572558603508486,
          0.005509413998181905,
          0.005446348201590365,
          0.005383374075353626,
          0.0053205054610980605,
          0.005257757132721113,
          0.005195144746040957,
          0.005132684785753487,
          0.005070394509644003,
          0.005008291890030984,
          0.004946395552446823,
          0.004884724711592645,
          0.004823299104634315,
          0.0047621389219389175,
          0.004701264735381418,
          0.004640697424382723,
          0.00458045809986977,
          0.004520568026377115,
          0.0044610485425368865,
          0.004401920980229372,
          0.0043432065826900824,
          0.004284926421890157,
          0.0042271013155263815,
          0.004169751743972383,
          0.004112897767557139,
          0.004056558944546446,
          0.0040007542502115655,
          0.003945501997373203,
          0.0038908197588115585,
          0.0038367242919308715,
          0.0037832314660637694,
          0.003730356192792589,
          0.00367811235965628,
          0.0036265127675974554,
          0.003575569072490734,
          0.003525291731074774,
          0.003475689951591607,
          0.0034267716494149475,
          0.003378543407925249,
          0.0033310104448647875,
          0.003284176584378605,
          0.003238044234919543,
          0.003192614373166391,
          0.0031478865340742565,
          0.003103858807145334,
          0.003060527838977364,
          0.003017888842115247,
          0.002975935610199882,
          0.0029346605393763235,
          0.0028940546558922486,
          0.002854107649786426,
          0.00281480791453626,
          0.0027761425925037736,
          0.002738097625990081,
          0.002700657813680286,
          0.0026638068722337413,
          0.002627527502748126,
          0.0025918014618020934,
          0.002556609636756832,
          0.0025219321249761104,
          0.0024877483166034415,
          0.0024540369805171325,
          0.0024207763530668647,
          0.0023879442291807485,
          0.0023555180554189997,
          0.0023234750245393555,
          0.002291792171130615,
          0.002260446467863983,
          0.0022294149219074344,
          0.0021986746710461447,
          0.0021682030790519152,
          0.0021379778298470545,
          0.0021079770200127614,
          0.00207817924919904,
          0.002048563708002719,
          0.0020191102628915303,
          0.0019897995377665617,
          0.0019606129917712485,
          0.0019315329929739573,
          0.001902542887571333,
          0.0018736270642826832,
          0.0018447710136299071,
          0.0018159613818242376,
          0.0017871860190088633,
          0.001758434021636693,
          0.0017296957687931143,
          0.0017009629523064844,
          0.0016722286005221086,
          0.0016434870956500052
         ],
         "yaxis": "y"
        },
        {
         "legendgroup": "age",
         "marker": {
          "color": "rgb(31, 119, 180)",
          "symbol": "line-ns-open"
         },
         "mode": "markers",
         "name": "age",
         "showlegend": false,
         "type": "scatter",
         "x": [
          75,
          55,
          65,
          50,
          65,
          90,
          75,
          60,
          65,
          80,
          75,
          62,
          45,
          50,
          49,
          82,
          87,
          45,
          70,
          48,
          65,
          65,
          68,
          53,
          75,
          80,
          95,
          70,
          58,
          82,
          94,
          85,
          50,
          50,
          65,
          69,
          90,
          82,
          60,
          60,
          70,
          50,
          70,
          72,
          60,
          50,
          51,
          60,
          80,
          57,
          68,
          53,
          60,
          70,
          60,
          95,
          70,
          60,
          49,
          72,
          45,
          50,
          55,
          45,
          45,
          60,
          42,
          72,
          70,
          65,
          41,
          58,
          85,
          65,
          69,
          60,
          70,
          42,
          75,
          55,
          70,
          67,
          60,
          79,
          59,
          51,
          55,
          65,
          44,
          57,
          70,
          60,
          42,
          60,
          58,
          58,
          63,
          70,
          60,
          63,
          65,
          75,
          80,
          42,
          60,
          72,
          55,
          45,
          63,
          45,
          85,
          55,
          50,
          70,
          60,
          58,
          60,
          85,
          65,
          86,
          60,
          66,
          60,
          60,
          60,
          43,
          46,
          58,
          61,
          53,
          53,
          60,
          46,
          63,
          81,
          75,
          65,
          68,
          62,
          50,
          80,
          46,
          50,
          61,
          72,
          50,
          52,
          64,
          75,
          60,
          72,
          62,
          50,
          50,
          65,
          60,
          52,
          50,
          85,
          59,
          66,
          45,
          63,
          50,
          45,
          80,
          53,
          59,
          65,
          70,
          51,
          52,
          70,
          50,
          65,
          60,
          69,
          49,
          63,
          55,
          40,
          59,
          65,
          75,
          58,
          60.667,
          50,
          60,
          60.667,
          40,
          80,
          64,
          50,
          73,
          45,
          77,
          45,
          65,
          50,
          60,
          63,
          45,
          70,
          60,
          78,
          50,
          40,
          85,
          60,
          49,
          70,
          50,
          78,
          48,
          65,
          73,
          70,
          54,
          68,
          55,
          73,
          65,
          42,
          47,
          58,
          75,
          58,
          55,
          65,
          72,
          60,
          70,
          40,
          53,
          53,
          77,
          75,
          70,
          65,
          55,
          70,
          65,
          40,
          73,
          54,
          61,
          55,
          64,
          40,
          53,
          50,
          55,
          50,
          70,
          53,
          52,
          65,
          58,
          45,
          53,
          55,
          62,
          65,
          68,
          61,
          50,
          55,
          56,
          45,
          40,
          44,
          51,
          67,
          42,
          60,
          45,
          70,
          70,
          50,
          55,
          70,
          70,
          42,
          65,
          50,
          55,
          60,
          45,
          65,
          90,
          45,
          60,
          52,
          63,
          62,
          55,
          45,
          45,
          50
         ],
         "xaxis": "x",
         "y": [
          "age",
          "age",
          "age",
          "age",
          "age",
          "age",
          "age",
          "age",
          "age",
          "age",
          "age",
          "age",
          "age",
          "age",
          "age",
          "age",
          "age",
          "age",
          "age",
          "age",
          "age",
          "age",
          "age",
          "age",
          "age",
          "age",
          "age",
          "age",
          "age",
          "age",
          "age",
          "age",
          "age",
          "age",
          "age",
          "age",
          "age",
          "age",
          "age",
          "age",
          "age",
          "age",
          "age",
          "age",
          "age",
          "age",
          "age",
          "age",
          "age",
          "age",
          "age",
          "age",
          "age",
          "age",
          "age",
          "age",
          "age",
          "age",
          "age",
          "age",
          "age",
          "age",
          "age",
          "age",
          "age",
          "age",
          "age",
          "age",
          "age",
          "age",
          "age",
          "age",
          "age",
          "age",
          "age",
          "age",
          "age",
          "age",
          "age",
          "age",
          "age",
          "age",
          "age",
          "age",
          "age",
          "age",
          "age",
          "age",
          "age",
          "age",
          "age",
          "age",
          "age",
          "age",
          "age",
          "age",
          "age",
          "age",
          "age",
          "age",
          "age",
          "age",
          "age",
          "age",
          "age",
          "age",
          "age",
          "age",
          "age",
          "age",
          "age",
          "age",
          "age",
          "age",
          "age",
          "age",
          "age",
          "age",
          "age",
          "age",
          "age",
          "age",
          "age",
          "age",
          "age",
          "age",
          "age",
          "age",
          "age",
          "age",
          "age",
          "age",
          "age",
          "age",
          "age",
          "age",
          "age",
          "age",
          "age",
          "age",
          "age",
          "age",
          "age",
          "age",
          "age",
          "age",
          "age",
          "age",
          "age",
          "age",
          "age",
          "age",
          "age",
          "age",
          "age",
          "age",
          "age",
          "age",
          "age",
          "age",
          "age",
          "age",
          "age",
          "age",
          "age",
          "age",
          "age",
          "age",
          "age",
          "age",
          "age",
          "age",
          "age",
          "age",
          "age",
          "age",
          "age",
          "age",
          "age",
          "age",
          "age",
          "age",
          "age",
          "age",
          "age",
          "age",
          "age",
          "age",
          "age",
          "age",
          "age",
          "age",
          "age",
          "age",
          "age",
          "age",
          "age",
          "age",
          "age",
          "age",
          "age",
          "age",
          "age",
          "age",
          "age",
          "age",
          "age",
          "age",
          "age",
          "age",
          "age",
          "age",
          "age",
          "age",
          "age",
          "age",
          "age",
          "age",
          "age",
          "age",
          "age",
          "age",
          "age",
          "age",
          "age",
          "age",
          "age",
          "age",
          "age",
          "age",
          "age",
          "age",
          "age",
          "age",
          "age",
          "age",
          "age",
          "age",
          "age",
          "age",
          "age",
          "age",
          "age",
          "age",
          "age",
          "age",
          "age",
          "age",
          "age",
          "age",
          "age",
          "age",
          "age",
          "age",
          "age",
          "age",
          "age",
          "age",
          "age",
          "age",
          "age",
          "age",
          "age",
          "age",
          "age",
          "age",
          "age",
          "age",
          "age",
          "age",
          "age",
          "age",
          "age",
          "age",
          "age",
          "age",
          "age",
          "age",
          "age",
          "age",
          "age",
          "age",
          "age",
          "age",
          "age",
          "age",
          "age",
          "age",
          "age",
          "age",
          "age",
          "age",
          "age",
          "age",
          "age",
          "age",
          "age",
          "age",
          "age"
         ],
         "yaxis": "y2"
        }
       ],
       "layout": {
        "barmode": "overlay",
        "hovermode": "closest",
        "legend": {
         "traceorder": "reversed"
        },
        "template": {
         "data": {
          "bar": [
           {
            "error_x": {
             "color": "#2a3f5f"
            },
            "error_y": {
             "color": "#2a3f5f"
            },
            "marker": {
             "line": {
              "color": "#E5ECF6",
              "width": 0.5
             },
             "pattern": {
              "fillmode": "overlay",
              "size": 10,
              "solidity": 0.2
             }
            },
            "type": "bar"
           }
          ],
          "barpolar": [
           {
            "marker": {
             "line": {
              "color": "#E5ECF6",
              "width": 0.5
             },
             "pattern": {
              "fillmode": "overlay",
              "size": 10,
              "solidity": 0.2
             }
            },
            "type": "barpolar"
           }
          ],
          "carpet": [
           {
            "aaxis": {
             "endlinecolor": "#2a3f5f",
             "gridcolor": "white",
             "linecolor": "white",
             "minorgridcolor": "white",
             "startlinecolor": "#2a3f5f"
            },
            "baxis": {
             "endlinecolor": "#2a3f5f",
             "gridcolor": "white",
             "linecolor": "white",
             "minorgridcolor": "white",
             "startlinecolor": "#2a3f5f"
            },
            "type": "carpet"
           }
          ],
          "choropleth": [
           {
            "colorbar": {
             "outlinewidth": 0,
             "ticks": ""
            },
            "type": "choropleth"
           }
          ],
          "contour": [
           {
            "colorbar": {
             "outlinewidth": 0,
             "ticks": ""
            },
            "colorscale": [
             [
              0,
              "#0d0887"
             ],
             [
              0.1111111111111111,
              "#46039f"
             ],
             [
              0.2222222222222222,
              "#7201a8"
             ],
             [
              0.3333333333333333,
              "#9c179e"
             ],
             [
              0.4444444444444444,
              "#bd3786"
             ],
             [
              0.5555555555555556,
              "#d8576b"
             ],
             [
              0.6666666666666666,
              "#ed7953"
             ],
             [
              0.7777777777777778,
              "#fb9f3a"
             ],
             [
              0.8888888888888888,
              "#fdca26"
             ],
             [
              1,
              "#f0f921"
             ]
            ],
            "type": "contour"
           }
          ],
          "contourcarpet": [
           {
            "colorbar": {
             "outlinewidth": 0,
             "ticks": ""
            },
            "type": "contourcarpet"
           }
          ],
          "heatmap": [
           {
            "colorbar": {
             "outlinewidth": 0,
             "ticks": ""
            },
            "colorscale": [
             [
              0,
              "#0d0887"
             ],
             [
              0.1111111111111111,
              "#46039f"
             ],
             [
              0.2222222222222222,
              "#7201a8"
             ],
             [
              0.3333333333333333,
              "#9c179e"
             ],
             [
              0.4444444444444444,
              "#bd3786"
             ],
             [
              0.5555555555555556,
              "#d8576b"
             ],
             [
              0.6666666666666666,
              "#ed7953"
             ],
             [
              0.7777777777777778,
              "#fb9f3a"
             ],
             [
              0.8888888888888888,
              "#fdca26"
             ],
             [
              1,
              "#f0f921"
             ]
            ],
            "type": "heatmap"
           }
          ],
          "heatmapgl": [
           {
            "colorbar": {
             "outlinewidth": 0,
             "ticks": ""
            },
            "colorscale": [
             [
              0,
              "#0d0887"
             ],
             [
              0.1111111111111111,
              "#46039f"
             ],
             [
              0.2222222222222222,
              "#7201a8"
             ],
             [
              0.3333333333333333,
              "#9c179e"
             ],
             [
              0.4444444444444444,
              "#bd3786"
             ],
             [
              0.5555555555555556,
              "#d8576b"
             ],
             [
              0.6666666666666666,
              "#ed7953"
             ],
             [
              0.7777777777777778,
              "#fb9f3a"
             ],
             [
              0.8888888888888888,
              "#fdca26"
             ],
             [
              1,
              "#f0f921"
             ]
            ],
            "type": "heatmapgl"
           }
          ],
          "histogram": [
           {
            "marker": {
             "pattern": {
              "fillmode": "overlay",
              "size": 10,
              "solidity": 0.2
             }
            },
            "type": "histogram"
           }
          ],
          "histogram2d": [
           {
            "colorbar": {
             "outlinewidth": 0,
             "ticks": ""
            },
            "colorscale": [
             [
              0,
              "#0d0887"
             ],
             [
              0.1111111111111111,
              "#46039f"
             ],
             [
              0.2222222222222222,
              "#7201a8"
             ],
             [
              0.3333333333333333,
              "#9c179e"
             ],
             [
              0.4444444444444444,
              "#bd3786"
             ],
             [
              0.5555555555555556,
              "#d8576b"
             ],
             [
              0.6666666666666666,
              "#ed7953"
             ],
             [
              0.7777777777777778,
              "#fb9f3a"
             ],
             [
              0.8888888888888888,
              "#fdca26"
             ],
             [
              1,
              "#f0f921"
             ]
            ],
            "type": "histogram2d"
           }
          ],
          "histogram2dcontour": [
           {
            "colorbar": {
             "outlinewidth": 0,
             "ticks": ""
            },
            "colorscale": [
             [
              0,
              "#0d0887"
             ],
             [
              0.1111111111111111,
              "#46039f"
             ],
             [
              0.2222222222222222,
              "#7201a8"
             ],
             [
              0.3333333333333333,
              "#9c179e"
             ],
             [
              0.4444444444444444,
              "#bd3786"
             ],
             [
              0.5555555555555556,
              "#d8576b"
             ],
             [
              0.6666666666666666,
              "#ed7953"
             ],
             [
              0.7777777777777778,
              "#fb9f3a"
             ],
             [
              0.8888888888888888,
              "#fdca26"
             ],
             [
              1,
              "#f0f921"
             ]
            ],
            "type": "histogram2dcontour"
           }
          ],
          "mesh3d": [
           {
            "colorbar": {
             "outlinewidth": 0,
             "ticks": ""
            },
            "type": "mesh3d"
           }
          ],
          "parcoords": [
           {
            "line": {
             "colorbar": {
              "outlinewidth": 0,
              "ticks": ""
             }
            },
            "type": "parcoords"
           }
          ],
          "pie": [
           {
            "automargin": true,
            "type": "pie"
           }
          ],
          "scatter": [
           {
            "fillpattern": {
             "fillmode": "overlay",
             "size": 10,
             "solidity": 0.2
            },
            "type": "scatter"
           }
          ],
          "scatter3d": [
           {
            "line": {
             "colorbar": {
              "outlinewidth": 0,
              "ticks": ""
             }
            },
            "marker": {
             "colorbar": {
              "outlinewidth": 0,
              "ticks": ""
             }
            },
            "type": "scatter3d"
           }
          ],
          "scattercarpet": [
           {
            "marker": {
             "colorbar": {
              "outlinewidth": 0,
              "ticks": ""
             }
            },
            "type": "scattercarpet"
           }
          ],
          "scattergeo": [
           {
            "marker": {
             "colorbar": {
              "outlinewidth": 0,
              "ticks": ""
             }
            },
            "type": "scattergeo"
           }
          ],
          "scattergl": [
           {
            "marker": {
             "colorbar": {
              "outlinewidth": 0,
              "ticks": ""
             }
            },
            "type": "scattergl"
           }
          ],
          "scattermapbox": [
           {
            "marker": {
             "colorbar": {
              "outlinewidth": 0,
              "ticks": ""
             }
            },
            "type": "scattermapbox"
           }
          ],
          "scatterpolar": [
           {
            "marker": {
             "colorbar": {
              "outlinewidth": 0,
              "ticks": ""
             }
            },
            "type": "scatterpolar"
           }
          ],
          "scatterpolargl": [
           {
            "marker": {
             "colorbar": {
              "outlinewidth": 0,
              "ticks": ""
             }
            },
            "type": "scatterpolargl"
           }
          ],
          "scatterternary": [
           {
            "marker": {
             "colorbar": {
              "outlinewidth": 0,
              "ticks": ""
             }
            },
            "type": "scatterternary"
           }
          ],
          "surface": [
           {
            "colorbar": {
             "outlinewidth": 0,
             "ticks": ""
            },
            "colorscale": [
             [
              0,
              "#0d0887"
             ],
             [
              0.1111111111111111,
              "#46039f"
             ],
             [
              0.2222222222222222,
              "#7201a8"
             ],
             [
              0.3333333333333333,
              "#9c179e"
             ],
             [
              0.4444444444444444,
              "#bd3786"
             ],
             [
              0.5555555555555556,
              "#d8576b"
             ],
             [
              0.6666666666666666,
              "#ed7953"
             ],
             [
              0.7777777777777778,
              "#fb9f3a"
             ],
             [
              0.8888888888888888,
              "#fdca26"
             ],
             [
              1,
              "#f0f921"
             ]
            ],
            "type": "surface"
           }
          ],
          "table": [
           {
            "cells": {
             "fill": {
              "color": "#EBF0F8"
             },
             "line": {
              "color": "white"
             }
            },
            "header": {
             "fill": {
              "color": "#C8D4E3"
             },
             "line": {
              "color": "white"
             }
            },
            "type": "table"
           }
          ]
         },
         "layout": {
          "annotationdefaults": {
           "arrowcolor": "#2a3f5f",
           "arrowhead": 0,
           "arrowwidth": 1
          },
          "autotypenumbers": "strict",
          "coloraxis": {
           "colorbar": {
            "outlinewidth": 0,
            "ticks": ""
           }
          },
          "colorscale": {
           "diverging": [
            [
             0,
             "#8e0152"
            ],
            [
             0.1,
             "#c51b7d"
            ],
            [
             0.2,
             "#de77ae"
            ],
            [
             0.3,
             "#f1b6da"
            ],
            [
             0.4,
             "#fde0ef"
            ],
            [
             0.5,
             "#f7f7f7"
            ],
            [
             0.6,
             "#e6f5d0"
            ],
            [
             0.7,
             "#b8e186"
            ],
            [
             0.8,
             "#7fbc41"
            ],
            [
             0.9,
             "#4d9221"
            ],
            [
             1,
             "#276419"
            ]
           ],
           "sequential": [
            [
             0,
             "#0d0887"
            ],
            [
             0.1111111111111111,
             "#46039f"
            ],
            [
             0.2222222222222222,
             "#7201a8"
            ],
            [
             0.3333333333333333,
             "#9c179e"
            ],
            [
             0.4444444444444444,
             "#bd3786"
            ],
            [
             0.5555555555555556,
             "#d8576b"
            ],
            [
             0.6666666666666666,
             "#ed7953"
            ],
            [
             0.7777777777777778,
             "#fb9f3a"
            ],
            [
             0.8888888888888888,
             "#fdca26"
            ],
            [
             1,
             "#f0f921"
            ]
           ],
           "sequentialminus": [
            [
             0,
             "#0d0887"
            ],
            [
             0.1111111111111111,
             "#46039f"
            ],
            [
             0.2222222222222222,
             "#7201a8"
            ],
            [
             0.3333333333333333,
             "#9c179e"
            ],
            [
             0.4444444444444444,
             "#bd3786"
            ],
            [
             0.5555555555555556,
             "#d8576b"
            ],
            [
             0.6666666666666666,
             "#ed7953"
            ],
            [
             0.7777777777777778,
             "#fb9f3a"
            ],
            [
             0.8888888888888888,
             "#fdca26"
            ],
            [
             1,
             "#f0f921"
            ]
           ]
          },
          "colorway": [
           "#636efa",
           "#EF553B",
           "#00cc96",
           "#ab63fa",
           "#FFA15A",
           "#19d3f3",
           "#FF6692",
           "#B6E880",
           "#FF97FF",
           "#FECB52"
          ],
          "font": {
           "color": "#2a3f5f"
          },
          "geo": {
           "bgcolor": "white",
           "lakecolor": "white",
           "landcolor": "#E5ECF6",
           "showlakes": true,
           "showland": true,
           "subunitcolor": "white"
          },
          "hoverlabel": {
           "align": "left"
          },
          "hovermode": "closest",
          "mapbox": {
           "style": "light"
          },
          "paper_bgcolor": "white",
          "plot_bgcolor": "#E5ECF6",
          "polar": {
           "angularaxis": {
            "gridcolor": "white",
            "linecolor": "white",
            "ticks": ""
           },
           "bgcolor": "#E5ECF6",
           "radialaxis": {
            "gridcolor": "white",
            "linecolor": "white",
            "ticks": ""
           }
          },
          "scene": {
           "xaxis": {
            "backgroundcolor": "#E5ECF6",
            "gridcolor": "white",
            "gridwidth": 2,
            "linecolor": "white",
            "showbackground": true,
            "ticks": "",
            "zerolinecolor": "white"
           },
           "yaxis": {
            "backgroundcolor": "#E5ECF6",
            "gridcolor": "white",
            "gridwidth": 2,
            "linecolor": "white",
            "showbackground": true,
            "ticks": "",
            "zerolinecolor": "white"
           },
           "zaxis": {
            "backgroundcolor": "#E5ECF6",
            "gridcolor": "white",
            "gridwidth": 2,
            "linecolor": "white",
            "showbackground": true,
            "ticks": "",
            "zerolinecolor": "white"
           }
          },
          "shapedefaults": {
           "line": {
            "color": "#2a3f5f"
           }
          },
          "ternary": {
           "aaxis": {
            "gridcolor": "white",
            "linecolor": "white",
            "ticks": ""
           },
           "baxis": {
            "gridcolor": "white",
            "linecolor": "white",
            "ticks": ""
           },
           "bgcolor": "#E5ECF6",
           "caxis": {
            "gridcolor": "white",
            "linecolor": "white",
            "ticks": ""
           }
          },
          "title": {
           "x": 0.05
          },
          "xaxis": {
           "automargin": true,
           "gridcolor": "white",
           "linecolor": "white",
           "ticks": "",
           "title": {
            "standoff": 15
           },
           "zerolinecolor": "white",
           "zerolinewidth": 2
          },
          "yaxis": {
           "automargin": true,
           "gridcolor": "white",
           "linecolor": "white",
           "ticks": "",
           "title": {
            "standoff": 15
           },
           "zerolinecolor": "white",
           "zerolinewidth": 2
          }
         }
        },
        "title": {
         "text": "Age Distribution plot"
        },
        "xaxis": {
         "anchor": "y2",
         "domain": [
          0,
          1
         ],
         "zeroline": false
        },
        "yaxis": {
         "anchor": "free",
         "domain": [
          0.35,
          1
         ],
         "position": 0
        },
        "yaxis2": {
         "anchor": "x",
         "domain": [
          0,
          0.25
         ],
         "dtick": 1,
         "showticklabels": false
        }
       }
      }
     },
     "metadata": {},
     "output_type": "display_data"
    }
   ],
   "source": [
    "hist_data = [df_clean[\"age\"].values]\n",
    "group_labels = ['age'] \n",
    "\n",
    "fig = ff.create_distplot(hist_data, group_labels)\n",
    "fig.update_layout(title_text='Age Distribution plot')\n",
    "\n",
    "fig.show()"
   ]
  },
  {
   "cell_type": "markdown",
   "metadata": {},
   "source": [
    "**Keterangan**\n",
    "<br>\n",
    "Penyebaran umur sangat bervariatif dengan sebagian besar pada jarak 40 sampai 80 dan tertinggi di 60."
   ]
  },
  {
   "cell_type": "code",
   "execution_count": 26,
   "metadata": {},
   "outputs": [
    {
     "data": {
      "application/vnd.plotly.v1+json": {
       "config": {
        "plotlyServerURL": "https://plot.ly"
       },
       "data": [
        {
         "alignmentgroup": "True",
         "boxpoints": "all",
         "hovertemplate": "sex=%{x}<br>age=%{y}<extra></extra>",
         "legendgroup": "",
         "marker": {
          "color": "#636efa"
         },
         "name": "",
         "notched": false,
         "offsetgroup": "",
         "orientation": "v",
         "showlegend": false,
         "type": "box",
         "x": [
          1,
          1,
          1,
          1,
          0,
          1,
          1,
          1,
          0,
          1,
          1,
          1,
          1,
          1,
          0,
          1,
          1,
          1,
          0,
          0,
          0,
          0,
          1,
          1,
          0,
          1,
          0,
          1,
          1,
          1,
          1,
          1,
          0,
          0,
          1,
          1,
          1,
          0,
          1,
          0,
          1,
          0,
          1,
          1,
          0,
          1,
          1,
          1,
          1,
          0,
          1,
          0,
          0,
          0,
          0,
          1,
          1,
          1,
          1,
          1,
          1,
          0,
          1,
          1,
          0,
          1,
          0,
          1,
          0,
          1,
          1,
          1,
          1,
          1,
          1,
          1,
          0,
          1,
          1,
          0,
          0,
          1,
          0,
          1,
          0,
          1,
          1,
          1,
          1,
          1,
          1,
          1,
          0,
          1,
          0,
          1,
          1,
          0,
          0,
          0,
          1,
          1,
          1,
          1,
          0,
          0,
          1,
          1,
          1,
          1,
          1,
          1,
          1,
          0,
          1,
          0,
          0,
          0,
          0,
          0,
          1,
          0,
          0,
          0,
          1,
          0,
          0,
          0,
          1,
          1,
          1,
          1,
          0,
          1,
          1,
          1,
          0,
          1,
          0,
          1,
          1,
          0,
          0,
          0,
          1,
          1,
          1,
          1,
          1,
          1,
          0,
          1,
          1,
          1,
          0,
          1,
          0,
          1,
          1,
          1,
          1,
          1,
          1,
          0,
          1,
          0,
          1,
          1,
          0,
          0,
          1,
          1,
          1,
          1,
          1,
          1,
          1,
          0,
          1,
          1,
          1,
          1,
          1,
          1,
          1,
          1,
          0,
          0,
          0,
          0,
          1,
          0,
          1,
          1,
          1,
          1,
          0,
          0,
          0,
          1,
          1,
          1,
          1,
          1,
          1,
          0,
          0,
          1,
          0,
          0,
          1,
          1,
          1,
          0,
          1,
          1,
          0,
          0,
          1,
          0,
          1,
          1,
          1,
          1,
          1,
          0,
          1,
          1,
          0,
          0,
          0,
          1,
          1,
          1,
          1,
          1,
          1,
          1,
          0,
          1,
          0,
          1,
          1,
          0,
          1,
          1,
          1,
          1,
          1,
          0,
          0,
          0,
          1,
          0,
          1,
          1,
          0,
          1,
          1,
          1,
          1,
          0,
          1,
          0,
          1,
          1,
          1,
          1,
          0,
          1,
          1,
          0,
          0,
          1,
          1,
          0,
          0,
          1,
          0,
          0,
          1,
          1,
          1,
          1,
          1,
          1,
          1,
          0,
          0,
          0,
          0,
          1,
          1,
          1,
          1,
          0,
          0,
          1,
          1
         ],
         "x0": " ",
         "xaxis": "x",
         "y": [
          75,
          55,
          65,
          50,
          65,
          90,
          75,
          60,
          65,
          80,
          75,
          62,
          45,
          50,
          49,
          82,
          87,
          45,
          70,
          48,
          65,
          65,
          68,
          53,
          75,
          80,
          95,
          70,
          58,
          82,
          94,
          85,
          50,
          50,
          65,
          69,
          90,
          82,
          60,
          60,
          70,
          50,
          70,
          72,
          60,
          50,
          51,
          60,
          80,
          57,
          68,
          53,
          60,
          70,
          60,
          95,
          70,
          60,
          49,
          72,
          45,
          50,
          55,
          45,
          45,
          60,
          42,
          72,
          70,
          65,
          41,
          58,
          85,
          65,
          69,
          60,
          70,
          42,
          75,
          55,
          70,
          67,
          60,
          79,
          59,
          51,
          55,
          65,
          44,
          57,
          70,
          60,
          42,
          60,
          58,
          58,
          63,
          70,
          60,
          63,
          65,
          75,
          80,
          42,
          60,
          72,
          55,
          45,
          63,
          45,
          85,
          55,
          50,
          70,
          60,
          58,
          60,
          85,
          65,
          86,
          60,
          66,
          60,
          60,
          60,
          43,
          46,
          58,
          61,
          53,
          53,
          60,
          46,
          63,
          81,
          75,
          65,
          68,
          62,
          50,
          80,
          46,
          50,
          61,
          72,
          50,
          52,
          64,
          75,
          60,
          72,
          62,
          50,
          50,
          65,
          60,
          52,
          50,
          85,
          59,
          66,
          45,
          63,
          50,
          45,
          80,
          53,
          59,
          65,
          70,
          51,
          52,
          70,
          50,
          65,
          60,
          69,
          49,
          63,
          55,
          40,
          59,
          65,
          75,
          58,
          60.667,
          50,
          60,
          60.667,
          40,
          80,
          64,
          50,
          73,
          45,
          77,
          45,
          65,
          50,
          60,
          63,
          45,
          70,
          60,
          78,
          50,
          40,
          85,
          60,
          49,
          70,
          50,
          78,
          48,
          65,
          73,
          70,
          54,
          68,
          55,
          73,
          65,
          42,
          47,
          58,
          75,
          58,
          55,
          65,
          72,
          60,
          70,
          40,
          53,
          53,
          77,
          75,
          70,
          65,
          55,
          70,
          65,
          40,
          73,
          54,
          61,
          55,
          64,
          40,
          53,
          50,
          55,
          50,
          70,
          53,
          52,
          65,
          58,
          45,
          53,
          55,
          62,
          65,
          68,
          61,
          50,
          55,
          56,
          45,
          40,
          44,
          51,
          67,
          42,
          60,
          45,
          70,
          70,
          50,
          55,
          70,
          70,
          42,
          65,
          50,
          55,
          60,
          45,
          65,
          90,
          45,
          60,
          52,
          63,
          62,
          55,
          45,
          45,
          50
         ],
         "y0": " ",
         "yaxis": "y"
        }
       ],
       "layout": {
        "boxmode": "group",
        "legend": {
         "tracegroupgap": 0
        },
        "margin": {
         "t": 60
        },
        "template": {
         "data": {
          "bar": [
           {
            "error_x": {
             "color": "#2a3f5f"
            },
            "error_y": {
             "color": "#2a3f5f"
            },
            "marker": {
             "line": {
              "color": "#E5ECF6",
              "width": 0.5
             },
             "pattern": {
              "fillmode": "overlay",
              "size": 10,
              "solidity": 0.2
             }
            },
            "type": "bar"
           }
          ],
          "barpolar": [
           {
            "marker": {
             "line": {
              "color": "#E5ECF6",
              "width": 0.5
             },
             "pattern": {
              "fillmode": "overlay",
              "size": 10,
              "solidity": 0.2
             }
            },
            "type": "barpolar"
           }
          ],
          "carpet": [
           {
            "aaxis": {
             "endlinecolor": "#2a3f5f",
             "gridcolor": "white",
             "linecolor": "white",
             "minorgridcolor": "white",
             "startlinecolor": "#2a3f5f"
            },
            "baxis": {
             "endlinecolor": "#2a3f5f",
             "gridcolor": "white",
             "linecolor": "white",
             "minorgridcolor": "white",
             "startlinecolor": "#2a3f5f"
            },
            "type": "carpet"
           }
          ],
          "choropleth": [
           {
            "colorbar": {
             "outlinewidth": 0,
             "ticks": ""
            },
            "type": "choropleth"
           }
          ],
          "contour": [
           {
            "colorbar": {
             "outlinewidth": 0,
             "ticks": ""
            },
            "colorscale": [
             [
              0,
              "#0d0887"
             ],
             [
              0.1111111111111111,
              "#46039f"
             ],
             [
              0.2222222222222222,
              "#7201a8"
             ],
             [
              0.3333333333333333,
              "#9c179e"
             ],
             [
              0.4444444444444444,
              "#bd3786"
             ],
             [
              0.5555555555555556,
              "#d8576b"
             ],
             [
              0.6666666666666666,
              "#ed7953"
             ],
             [
              0.7777777777777778,
              "#fb9f3a"
             ],
             [
              0.8888888888888888,
              "#fdca26"
             ],
             [
              1,
              "#f0f921"
             ]
            ],
            "type": "contour"
           }
          ],
          "contourcarpet": [
           {
            "colorbar": {
             "outlinewidth": 0,
             "ticks": ""
            },
            "type": "contourcarpet"
           }
          ],
          "heatmap": [
           {
            "colorbar": {
             "outlinewidth": 0,
             "ticks": ""
            },
            "colorscale": [
             [
              0,
              "#0d0887"
             ],
             [
              0.1111111111111111,
              "#46039f"
             ],
             [
              0.2222222222222222,
              "#7201a8"
             ],
             [
              0.3333333333333333,
              "#9c179e"
             ],
             [
              0.4444444444444444,
              "#bd3786"
             ],
             [
              0.5555555555555556,
              "#d8576b"
             ],
             [
              0.6666666666666666,
              "#ed7953"
             ],
             [
              0.7777777777777778,
              "#fb9f3a"
             ],
             [
              0.8888888888888888,
              "#fdca26"
             ],
             [
              1,
              "#f0f921"
             ]
            ],
            "type": "heatmap"
           }
          ],
          "heatmapgl": [
           {
            "colorbar": {
             "outlinewidth": 0,
             "ticks": ""
            },
            "colorscale": [
             [
              0,
              "#0d0887"
             ],
             [
              0.1111111111111111,
              "#46039f"
             ],
             [
              0.2222222222222222,
              "#7201a8"
             ],
             [
              0.3333333333333333,
              "#9c179e"
             ],
             [
              0.4444444444444444,
              "#bd3786"
             ],
             [
              0.5555555555555556,
              "#d8576b"
             ],
             [
              0.6666666666666666,
              "#ed7953"
             ],
             [
              0.7777777777777778,
              "#fb9f3a"
             ],
             [
              0.8888888888888888,
              "#fdca26"
             ],
             [
              1,
              "#f0f921"
             ]
            ],
            "type": "heatmapgl"
           }
          ],
          "histogram": [
           {
            "marker": {
             "pattern": {
              "fillmode": "overlay",
              "size": 10,
              "solidity": 0.2
             }
            },
            "type": "histogram"
           }
          ],
          "histogram2d": [
           {
            "colorbar": {
             "outlinewidth": 0,
             "ticks": ""
            },
            "colorscale": [
             [
              0,
              "#0d0887"
             ],
             [
              0.1111111111111111,
              "#46039f"
             ],
             [
              0.2222222222222222,
              "#7201a8"
             ],
             [
              0.3333333333333333,
              "#9c179e"
             ],
             [
              0.4444444444444444,
              "#bd3786"
             ],
             [
              0.5555555555555556,
              "#d8576b"
             ],
             [
              0.6666666666666666,
              "#ed7953"
             ],
             [
              0.7777777777777778,
              "#fb9f3a"
             ],
             [
              0.8888888888888888,
              "#fdca26"
             ],
             [
              1,
              "#f0f921"
             ]
            ],
            "type": "histogram2d"
           }
          ],
          "histogram2dcontour": [
           {
            "colorbar": {
             "outlinewidth": 0,
             "ticks": ""
            },
            "colorscale": [
             [
              0,
              "#0d0887"
             ],
             [
              0.1111111111111111,
              "#46039f"
             ],
             [
              0.2222222222222222,
              "#7201a8"
             ],
             [
              0.3333333333333333,
              "#9c179e"
             ],
             [
              0.4444444444444444,
              "#bd3786"
             ],
             [
              0.5555555555555556,
              "#d8576b"
             ],
             [
              0.6666666666666666,
              "#ed7953"
             ],
             [
              0.7777777777777778,
              "#fb9f3a"
             ],
             [
              0.8888888888888888,
              "#fdca26"
             ],
             [
              1,
              "#f0f921"
             ]
            ],
            "type": "histogram2dcontour"
           }
          ],
          "mesh3d": [
           {
            "colorbar": {
             "outlinewidth": 0,
             "ticks": ""
            },
            "type": "mesh3d"
           }
          ],
          "parcoords": [
           {
            "line": {
             "colorbar": {
              "outlinewidth": 0,
              "ticks": ""
             }
            },
            "type": "parcoords"
           }
          ],
          "pie": [
           {
            "automargin": true,
            "type": "pie"
           }
          ],
          "scatter": [
           {
            "fillpattern": {
             "fillmode": "overlay",
             "size": 10,
             "solidity": 0.2
            },
            "type": "scatter"
           }
          ],
          "scatter3d": [
           {
            "line": {
             "colorbar": {
              "outlinewidth": 0,
              "ticks": ""
             }
            },
            "marker": {
             "colorbar": {
              "outlinewidth": 0,
              "ticks": ""
             }
            },
            "type": "scatter3d"
           }
          ],
          "scattercarpet": [
           {
            "marker": {
             "colorbar": {
              "outlinewidth": 0,
              "ticks": ""
             }
            },
            "type": "scattercarpet"
           }
          ],
          "scattergeo": [
           {
            "marker": {
             "colorbar": {
              "outlinewidth": 0,
              "ticks": ""
             }
            },
            "type": "scattergeo"
           }
          ],
          "scattergl": [
           {
            "marker": {
             "colorbar": {
              "outlinewidth": 0,
              "ticks": ""
             }
            },
            "type": "scattergl"
           }
          ],
          "scattermapbox": [
           {
            "marker": {
             "colorbar": {
              "outlinewidth": 0,
              "ticks": ""
             }
            },
            "type": "scattermapbox"
           }
          ],
          "scatterpolar": [
           {
            "marker": {
             "colorbar": {
              "outlinewidth": 0,
              "ticks": ""
             }
            },
            "type": "scatterpolar"
           }
          ],
          "scatterpolargl": [
           {
            "marker": {
             "colorbar": {
              "outlinewidth": 0,
              "ticks": ""
             }
            },
            "type": "scatterpolargl"
           }
          ],
          "scatterternary": [
           {
            "marker": {
             "colorbar": {
              "outlinewidth": 0,
              "ticks": ""
             }
            },
            "type": "scatterternary"
           }
          ],
          "surface": [
           {
            "colorbar": {
             "outlinewidth": 0,
             "ticks": ""
            },
            "colorscale": [
             [
              0,
              "#0d0887"
             ],
             [
              0.1111111111111111,
              "#46039f"
             ],
             [
              0.2222222222222222,
              "#7201a8"
             ],
             [
              0.3333333333333333,
              "#9c179e"
             ],
             [
              0.4444444444444444,
              "#bd3786"
             ],
             [
              0.5555555555555556,
              "#d8576b"
             ],
             [
              0.6666666666666666,
              "#ed7953"
             ],
             [
              0.7777777777777778,
              "#fb9f3a"
             ],
             [
              0.8888888888888888,
              "#fdca26"
             ],
             [
              1,
              "#f0f921"
             ]
            ],
            "type": "surface"
           }
          ],
          "table": [
           {
            "cells": {
             "fill": {
              "color": "#EBF0F8"
             },
             "line": {
              "color": "white"
             }
            },
            "header": {
             "fill": {
              "color": "#C8D4E3"
             },
             "line": {
              "color": "white"
             }
            },
            "type": "table"
           }
          ]
         },
         "layout": {
          "annotationdefaults": {
           "arrowcolor": "#2a3f5f",
           "arrowhead": 0,
           "arrowwidth": 1
          },
          "autotypenumbers": "strict",
          "coloraxis": {
           "colorbar": {
            "outlinewidth": 0,
            "ticks": ""
           }
          },
          "colorscale": {
           "diverging": [
            [
             0,
             "#8e0152"
            ],
            [
             0.1,
             "#c51b7d"
            ],
            [
             0.2,
             "#de77ae"
            ],
            [
             0.3,
             "#f1b6da"
            ],
            [
             0.4,
             "#fde0ef"
            ],
            [
             0.5,
             "#f7f7f7"
            ],
            [
             0.6,
             "#e6f5d0"
            ],
            [
             0.7,
             "#b8e186"
            ],
            [
             0.8,
             "#7fbc41"
            ],
            [
             0.9,
             "#4d9221"
            ],
            [
             1,
             "#276419"
            ]
           ],
           "sequential": [
            [
             0,
             "#0d0887"
            ],
            [
             0.1111111111111111,
             "#46039f"
            ],
            [
             0.2222222222222222,
             "#7201a8"
            ],
            [
             0.3333333333333333,
             "#9c179e"
            ],
            [
             0.4444444444444444,
             "#bd3786"
            ],
            [
             0.5555555555555556,
             "#d8576b"
            ],
            [
             0.6666666666666666,
             "#ed7953"
            ],
            [
             0.7777777777777778,
             "#fb9f3a"
            ],
            [
             0.8888888888888888,
             "#fdca26"
            ],
            [
             1,
             "#f0f921"
            ]
           ],
           "sequentialminus": [
            [
             0,
             "#0d0887"
            ],
            [
             0.1111111111111111,
             "#46039f"
            ],
            [
             0.2222222222222222,
             "#7201a8"
            ],
            [
             0.3333333333333333,
             "#9c179e"
            ],
            [
             0.4444444444444444,
             "#bd3786"
            ],
            [
             0.5555555555555556,
             "#d8576b"
            ],
            [
             0.6666666666666666,
             "#ed7953"
            ],
            [
             0.7777777777777778,
             "#fb9f3a"
            ],
            [
             0.8888888888888888,
             "#fdca26"
            ],
            [
             1,
             "#f0f921"
            ]
           ]
          },
          "colorway": [
           "#636efa",
           "#EF553B",
           "#00cc96",
           "#ab63fa",
           "#FFA15A",
           "#19d3f3",
           "#FF6692",
           "#B6E880",
           "#FF97FF",
           "#FECB52"
          ],
          "font": {
           "color": "#2a3f5f"
          },
          "geo": {
           "bgcolor": "white",
           "lakecolor": "white",
           "landcolor": "#E5ECF6",
           "showlakes": true,
           "showland": true,
           "subunitcolor": "white"
          },
          "hoverlabel": {
           "align": "left"
          },
          "hovermode": "closest",
          "mapbox": {
           "style": "light"
          },
          "paper_bgcolor": "white",
          "plot_bgcolor": "#E5ECF6",
          "polar": {
           "angularaxis": {
            "gridcolor": "white",
            "linecolor": "white",
            "ticks": ""
           },
           "bgcolor": "#E5ECF6",
           "radialaxis": {
            "gridcolor": "white",
            "linecolor": "white",
            "ticks": ""
           }
          },
          "scene": {
           "xaxis": {
            "backgroundcolor": "#E5ECF6",
            "gridcolor": "white",
            "gridwidth": 2,
            "linecolor": "white",
            "showbackground": true,
            "ticks": "",
            "zerolinecolor": "white"
           },
           "yaxis": {
            "backgroundcolor": "#E5ECF6",
            "gridcolor": "white",
            "gridwidth": 2,
            "linecolor": "white",
            "showbackground": true,
            "ticks": "",
            "zerolinecolor": "white"
           },
           "zaxis": {
            "backgroundcolor": "#E5ECF6",
            "gridcolor": "white",
            "gridwidth": 2,
            "linecolor": "white",
            "showbackground": true,
            "ticks": "",
            "zerolinecolor": "white"
           }
          },
          "shapedefaults": {
           "line": {
            "color": "#2a3f5f"
           }
          },
          "ternary": {
           "aaxis": {
            "gridcolor": "white",
            "linecolor": "white",
            "ticks": ""
           },
           "baxis": {
            "gridcolor": "white",
            "linecolor": "white",
            "ticks": ""
           },
           "bgcolor": "#E5ECF6",
           "caxis": {
            "gridcolor": "white",
            "linecolor": "white",
            "ticks": ""
           }
          },
          "title": {
           "x": 0.05
          },
          "xaxis": {
           "automargin": true,
           "gridcolor": "white",
           "linecolor": "white",
           "ticks": "",
           "title": {
            "standoff": 15
           },
           "zerolinecolor": "white",
           "zerolinewidth": 2
          },
          "yaxis": {
           "automargin": true,
           "gridcolor": "white",
           "linecolor": "white",
           "ticks": "",
           "title": {
            "standoff": 15
           },
           "zerolinecolor": "white",
           "zerolinewidth": 2
          }
         }
        },
        "title": {
         "text": "Gender wise Age Spread - Male = 1 Female =0"
        },
        "xaxis": {
         "anchor": "y",
         "domain": [
          0,
          1
         ],
         "title": {
          "text": "sex"
         }
        },
        "yaxis": {
         "anchor": "x",
         "domain": [
          0,
          1
         ],
         "title": {
          "text": "age"
         }
        }
       }
      }
     },
     "metadata": {},
     "output_type": "display_data"
    }
   ],
   "source": [
    "fig = px.box(df_clean, x='sex', y='age', points=\"all\")\n",
    "fig.update_layout(\n",
    "    title_text=\"Gender wise Age Spread - Male = 1 Female =0\")\n",
    "fig.show()"
   ]
  },
  {
   "cell_type": "code",
   "execution_count": 27,
   "metadata": {},
   "outputs": [
    {
     "data": {
      "application/vnd.plotly.v1+json": {
       "config": {
        "plotlyServerURL": "https://plot.ly"
       },
       "data": [
        {
         "hole": 0.4,
         "labels": [
          "Male - Survived",
          "Male - Not Survived",
          "Female -  Survived",
          "Female - Not Survived"
         ],
         "type": "pie",
         "values": [
          132,
          62,
          71,
          34
         ]
        }
       ],
       "layout": {
        "template": {
         "data": {
          "bar": [
           {
            "error_x": {
             "color": "#2a3f5f"
            },
            "error_y": {
             "color": "#2a3f5f"
            },
            "marker": {
             "line": {
              "color": "#E5ECF6",
              "width": 0.5
             },
             "pattern": {
              "fillmode": "overlay",
              "size": 10,
              "solidity": 0.2
             }
            },
            "type": "bar"
           }
          ],
          "barpolar": [
           {
            "marker": {
             "line": {
              "color": "#E5ECF6",
              "width": 0.5
             },
             "pattern": {
              "fillmode": "overlay",
              "size": 10,
              "solidity": 0.2
             }
            },
            "type": "barpolar"
           }
          ],
          "carpet": [
           {
            "aaxis": {
             "endlinecolor": "#2a3f5f",
             "gridcolor": "white",
             "linecolor": "white",
             "minorgridcolor": "white",
             "startlinecolor": "#2a3f5f"
            },
            "baxis": {
             "endlinecolor": "#2a3f5f",
             "gridcolor": "white",
             "linecolor": "white",
             "minorgridcolor": "white",
             "startlinecolor": "#2a3f5f"
            },
            "type": "carpet"
           }
          ],
          "choropleth": [
           {
            "colorbar": {
             "outlinewidth": 0,
             "ticks": ""
            },
            "type": "choropleth"
           }
          ],
          "contour": [
           {
            "colorbar": {
             "outlinewidth": 0,
             "ticks": ""
            },
            "colorscale": [
             [
              0,
              "#0d0887"
             ],
             [
              0.1111111111111111,
              "#46039f"
             ],
             [
              0.2222222222222222,
              "#7201a8"
             ],
             [
              0.3333333333333333,
              "#9c179e"
             ],
             [
              0.4444444444444444,
              "#bd3786"
             ],
             [
              0.5555555555555556,
              "#d8576b"
             ],
             [
              0.6666666666666666,
              "#ed7953"
             ],
             [
              0.7777777777777778,
              "#fb9f3a"
             ],
             [
              0.8888888888888888,
              "#fdca26"
             ],
             [
              1,
              "#f0f921"
             ]
            ],
            "type": "contour"
           }
          ],
          "contourcarpet": [
           {
            "colorbar": {
             "outlinewidth": 0,
             "ticks": ""
            },
            "type": "contourcarpet"
           }
          ],
          "heatmap": [
           {
            "colorbar": {
             "outlinewidth": 0,
             "ticks": ""
            },
            "colorscale": [
             [
              0,
              "#0d0887"
             ],
             [
              0.1111111111111111,
              "#46039f"
             ],
             [
              0.2222222222222222,
              "#7201a8"
             ],
             [
              0.3333333333333333,
              "#9c179e"
             ],
             [
              0.4444444444444444,
              "#bd3786"
             ],
             [
              0.5555555555555556,
              "#d8576b"
             ],
             [
              0.6666666666666666,
              "#ed7953"
             ],
             [
              0.7777777777777778,
              "#fb9f3a"
             ],
             [
              0.8888888888888888,
              "#fdca26"
             ],
             [
              1,
              "#f0f921"
             ]
            ],
            "type": "heatmap"
           }
          ],
          "heatmapgl": [
           {
            "colorbar": {
             "outlinewidth": 0,
             "ticks": ""
            },
            "colorscale": [
             [
              0,
              "#0d0887"
             ],
             [
              0.1111111111111111,
              "#46039f"
             ],
             [
              0.2222222222222222,
              "#7201a8"
             ],
             [
              0.3333333333333333,
              "#9c179e"
             ],
             [
              0.4444444444444444,
              "#bd3786"
             ],
             [
              0.5555555555555556,
              "#d8576b"
             ],
             [
              0.6666666666666666,
              "#ed7953"
             ],
             [
              0.7777777777777778,
              "#fb9f3a"
             ],
             [
              0.8888888888888888,
              "#fdca26"
             ],
             [
              1,
              "#f0f921"
             ]
            ],
            "type": "heatmapgl"
           }
          ],
          "histogram": [
           {
            "marker": {
             "pattern": {
              "fillmode": "overlay",
              "size": 10,
              "solidity": 0.2
             }
            },
            "type": "histogram"
           }
          ],
          "histogram2d": [
           {
            "colorbar": {
             "outlinewidth": 0,
             "ticks": ""
            },
            "colorscale": [
             [
              0,
              "#0d0887"
             ],
             [
              0.1111111111111111,
              "#46039f"
             ],
             [
              0.2222222222222222,
              "#7201a8"
             ],
             [
              0.3333333333333333,
              "#9c179e"
             ],
             [
              0.4444444444444444,
              "#bd3786"
             ],
             [
              0.5555555555555556,
              "#d8576b"
             ],
             [
              0.6666666666666666,
              "#ed7953"
             ],
             [
              0.7777777777777778,
              "#fb9f3a"
             ],
             [
              0.8888888888888888,
              "#fdca26"
             ],
             [
              1,
              "#f0f921"
             ]
            ],
            "type": "histogram2d"
           }
          ],
          "histogram2dcontour": [
           {
            "colorbar": {
             "outlinewidth": 0,
             "ticks": ""
            },
            "colorscale": [
             [
              0,
              "#0d0887"
             ],
             [
              0.1111111111111111,
              "#46039f"
             ],
             [
              0.2222222222222222,
              "#7201a8"
             ],
             [
              0.3333333333333333,
              "#9c179e"
             ],
             [
              0.4444444444444444,
              "#bd3786"
             ],
             [
              0.5555555555555556,
              "#d8576b"
             ],
             [
              0.6666666666666666,
              "#ed7953"
             ],
             [
              0.7777777777777778,
              "#fb9f3a"
             ],
             [
              0.8888888888888888,
              "#fdca26"
             ],
             [
              1,
              "#f0f921"
             ]
            ],
            "type": "histogram2dcontour"
           }
          ],
          "mesh3d": [
           {
            "colorbar": {
             "outlinewidth": 0,
             "ticks": ""
            },
            "type": "mesh3d"
           }
          ],
          "parcoords": [
           {
            "line": {
             "colorbar": {
              "outlinewidth": 0,
              "ticks": ""
             }
            },
            "type": "parcoords"
           }
          ],
          "pie": [
           {
            "automargin": true,
            "type": "pie"
           }
          ],
          "scatter": [
           {
            "fillpattern": {
             "fillmode": "overlay",
             "size": 10,
             "solidity": 0.2
            },
            "type": "scatter"
           }
          ],
          "scatter3d": [
           {
            "line": {
             "colorbar": {
              "outlinewidth": 0,
              "ticks": ""
             }
            },
            "marker": {
             "colorbar": {
              "outlinewidth": 0,
              "ticks": ""
             }
            },
            "type": "scatter3d"
           }
          ],
          "scattercarpet": [
           {
            "marker": {
             "colorbar": {
              "outlinewidth": 0,
              "ticks": ""
             }
            },
            "type": "scattercarpet"
           }
          ],
          "scattergeo": [
           {
            "marker": {
             "colorbar": {
              "outlinewidth": 0,
              "ticks": ""
             }
            },
            "type": "scattergeo"
           }
          ],
          "scattergl": [
           {
            "marker": {
             "colorbar": {
              "outlinewidth": 0,
              "ticks": ""
             }
            },
            "type": "scattergl"
           }
          ],
          "scattermapbox": [
           {
            "marker": {
             "colorbar": {
              "outlinewidth": 0,
              "ticks": ""
             }
            },
            "type": "scattermapbox"
           }
          ],
          "scatterpolar": [
           {
            "marker": {
             "colorbar": {
              "outlinewidth": 0,
              "ticks": ""
             }
            },
            "type": "scatterpolar"
           }
          ],
          "scatterpolargl": [
           {
            "marker": {
             "colorbar": {
              "outlinewidth": 0,
              "ticks": ""
             }
            },
            "type": "scatterpolargl"
           }
          ],
          "scatterternary": [
           {
            "marker": {
             "colorbar": {
              "outlinewidth": 0,
              "ticks": ""
             }
            },
            "type": "scatterternary"
           }
          ],
          "surface": [
           {
            "colorbar": {
             "outlinewidth": 0,
             "ticks": ""
            },
            "colorscale": [
             [
              0,
              "#0d0887"
             ],
             [
              0.1111111111111111,
              "#46039f"
             ],
             [
              0.2222222222222222,
              "#7201a8"
             ],
             [
              0.3333333333333333,
              "#9c179e"
             ],
             [
              0.4444444444444444,
              "#bd3786"
             ],
             [
              0.5555555555555556,
              "#d8576b"
             ],
             [
              0.6666666666666666,
              "#ed7953"
             ],
             [
              0.7777777777777778,
              "#fb9f3a"
             ],
             [
              0.8888888888888888,
              "#fdca26"
             ],
             [
              1,
              "#f0f921"
             ]
            ],
            "type": "surface"
           }
          ],
          "table": [
           {
            "cells": {
             "fill": {
              "color": "#EBF0F8"
             },
             "line": {
              "color": "white"
             }
            },
            "header": {
             "fill": {
              "color": "#C8D4E3"
             },
             "line": {
              "color": "white"
             }
            },
            "type": "table"
           }
          ]
         },
         "layout": {
          "annotationdefaults": {
           "arrowcolor": "#2a3f5f",
           "arrowhead": 0,
           "arrowwidth": 1
          },
          "autotypenumbers": "strict",
          "coloraxis": {
           "colorbar": {
            "outlinewidth": 0,
            "ticks": ""
           }
          },
          "colorscale": {
           "diverging": [
            [
             0,
             "#8e0152"
            ],
            [
             0.1,
             "#c51b7d"
            ],
            [
             0.2,
             "#de77ae"
            ],
            [
             0.3,
             "#f1b6da"
            ],
            [
             0.4,
             "#fde0ef"
            ],
            [
             0.5,
             "#f7f7f7"
            ],
            [
             0.6,
             "#e6f5d0"
            ],
            [
             0.7,
             "#b8e186"
            ],
            [
             0.8,
             "#7fbc41"
            ],
            [
             0.9,
             "#4d9221"
            ],
            [
             1,
             "#276419"
            ]
           ],
           "sequential": [
            [
             0,
             "#0d0887"
            ],
            [
             0.1111111111111111,
             "#46039f"
            ],
            [
             0.2222222222222222,
             "#7201a8"
            ],
            [
             0.3333333333333333,
             "#9c179e"
            ],
            [
             0.4444444444444444,
             "#bd3786"
            ],
            [
             0.5555555555555556,
             "#d8576b"
            ],
            [
             0.6666666666666666,
             "#ed7953"
            ],
            [
             0.7777777777777778,
             "#fb9f3a"
            ],
            [
             0.8888888888888888,
             "#fdca26"
            ],
            [
             1,
             "#f0f921"
            ]
           ],
           "sequentialminus": [
            [
             0,
             "#0d0887"
            ],
            [
             0.1111111111111111,
             "#46039f"
            ],
            [
             0.2222222222222222,
             "#7201a8"
            ],
            [
             0.3333333333333333,
             "#9c179e"
            ],
            [
             0.4444444444444444,
             "#bd3786"
            ],
            [
             0.5555555555555556,
             "#d8576b"
            ],
            [
             0.6666666666666666,
             "#ed7953"
            ],
            [
             0.7777777777777778,
             "#fb9f3a"
            ],
            [
             0.8888888888888888,
             "#fdca26"
            ],
            [
             1,
             "#f0f921"
            ]
           ]
          },
          "colorway": [
           "#636efa",
           "#EF553B",
           "#00cc96",
           "#ab63fa",
           "#FFA15A",
           "#19d3f3",
           "#FF6692",
           "#B6E880",
           "#FF97FF",
           "#FECB52"
          ],
          "font": {
           "color": "#2a3f5f"
          },
          "geo": {
           "bgcolor": "white",
           "lakecolor": "white",
           "landcolor": "#E5ECF6",
           "showlakes": true,
           "showland": true,
           "subunitcolor": "white"
          },
          "hoverlabel": {
           "align": "left"
          },
          "hovermode": "closest",
          "mapbox": {
           "style": "light"
          },
          "paper_bgcolor": "white",
          "plot_bgcolor": "#E5ECF6",
          "polar": {
           "angularaxis": {
            "gridcolor": "white",
            "linecolor": "white",
            "ticks": ""
           },
           "bgcolor": "#E5ECF6",
           "radialaxis": {
            "gridcolor": "white",
            "linecolor": "white",
            "ticks": ""
           }
          },
          "scene": {
           "xaxis": {
            "backgroundcolor": "#E5ECF6",
            "gridcolor": "white",
            "gridwidth": 2,
            "linecolor": "white",
            "showbackground": true,
            "ticks": "",
            "zerolinecolor": "white"
           },
           "yaxis": {
            "backgroundcolor": "#E5ECF6",
            "gridcolor": "white",
            "gridwidth": 2,
            "linecolor": "white",
            "showbackground": true,
            "ticks": "",
            "zerolinecolor": "white"
           },
           "zaxis": {
            "backgroundcolor": "#E5ECF6",
            "gridcolor": "white",
            "gridwidth": 2,
            "linecolor": "white",
            "showbackground": true,
            "ticks": "",
            "zerolinecolor": "white"
           }
          },
          "shapedefaults": {
           "line": {
            "color": "#2a3f5f"
           }
          },
          "ternary": {
           "aaxis": {
            "gridcolor": "white",
            "linecolor": "white",
            "ticks": ""
           },
           "baxis": {
            "gridcolor": "white",
            "linecolor": "white",
            "ticks": ""
           },
           "bgcolor": "#E5ECF6",
           "caxis": {
            "gridcolor": "white",
            "linecolor": "white",
            "ticks": ""
           }
          },
          "title": {
           "x": 0.05
          },
          "xaxis": {
           "automargin": true,
           "gridcolor": "white",
           "linecolor": "white",
           "ticks": "",
           "title": {
            "standoff": 15
           },
           "zerolinecolor": "white",
           "zerolinewidth": 2
          },
          "yaxis": {
           "automargin": true,
           "gridcolor": "white",
           "linecolor": "white",
           "ticks": "",
           "title": {
            "standoff": 15
           },
           "zerolinecolor": "white",
           "zerolinewidth": 2
          }
         }
        },
        "title": {
         "text": "Analysis on Survival - Gender"
        }
       }
      }
     },
     "metadata": {},
     "output_type": "display_data"
    }
   ],
   "source": [
    "male = df_clean[df_clean[\"sex\"]==1]\n",
    "female = df_clean[df_clean[\"sex\"]==0]\n",
    "\n",
    "male_survi = male[df_clean[\"death_event\"]==0]\n",
    "male_not = male[df_clean[\"death_event\"]==1]\n",
    "female_survi = female[df_clean[\"death_event\"]==0]\n",
    "female_not = female[df_clean[\"death_event\"]==1]\n",
    "\n",
    "labels = ['Male - Survived','Male - Not Survived', \"Female -  Survived\", \"Female - Not Survived\"]\n",
    "values = [len(male[df_clean[\"death_event\"]==0]),len(male[df_clean[\"death_event\"]==1]),\n",
    "         len(female[df_clean[\"death_event\"]==0]),len(female[df_clean[\"death_event\"]==1])]\n",
    "fig = go.Figure(data=[go.Pie(labels=labels, values=values, hole=.4)])\n",
    "fig.update_layout(\n",
    "    title_text=\"Analysis on Survival - Gender\")\n",
    "fig.show()"
   ]
  },
  {
   "cell_type": "markdown",
   "metadata": {},
   "source": [
    "**Keterangan**\n",
    "<br>\n",
    "Penderita berjenil kelamin lelaki memiliki persentase keselamatan lebih tinggi dibandingkan wanita. Akan tetapi, persentase kematian juga lebih tinggi lelaki dibandingkan wanita."
   ]
  },
  {
   "cell_type": "code",
   "execution_count": 28,
   "metadata": {},
   "outputs": [
    {
     "data": {
      "application/vnd.plotly.v1+json": {
       "config": {
        "plotlyServerURL": "https://plot.ly"
       },
       "data": [
        {
         "autobinx": false,
         "histnorm": "probability density",
         "legendgroup": "Survived",
         "marker": {
          "color": "rgb(31, 119, 180)"
         },
         "name": "Survived",
         "opacity": 0.7,
         "type": "histogram",
         "x": [
          49,
          65,
          53,
          50,
          60,
          72,
          70,
          60,
          55,
          45,
          41,
          58,
          65,
          70,
          42,
          75,
          55,
          70,
          67,
          79,
          51,
          55,
          65,
          44,
          57,
          70,
          60,
          42,
          58,
          58,
          63,
          70,
          60,
          63,
          65,
          75,
          80,
          42,
          60,
          55,
          45,
          63,
          45,
          55,
          50,
          60,
          58,
          60,
          85,
          65,
          60,
          66,
          60,
          60,
          43,
          58,
          61,
          53,
          53,
          60,
          46,
          63,
          81,
          75,
          65,
          68,
          62,
          50,
          46,
          50,
          61,
          50,
          52,
          64,
          60,
          62,
          50,
          50,
          65,
          60,
          52,
          50,
          85,
          59,
          66,
          45,
          63,
          53,
          65,
          70,
          51,
          52,
          70,
          50,
          65,
          60,
          69,
          49,
          63,
          55,
          40,
          60.667,
          40,
          80,
          64,
          50,
          73,
          45,
          65,
          50,
          60,
          63,
          45,
          70,
          60,
          78,
          50,
          40,
          85,
          60,
          49,
          70,
          50,
          78,
          65,
          73,
          70,
          68,
          55,
          65,
          42,
          47,
          58,
          75,
          58,
          55,
          65,
          72,
          70,
          40,
          53,
          53,
          77,
          75,
          70,
          65,
          55,
          70,
          65,
          40,
          73,
          54,
          61,
          64,
          40,
          53,
          50,
          55,
          50,
          70,
          53,
          52,
          65,
          58,
          45,
          53,
          55,
          62,
          68,
          61,
          50,
          56,
          45,
          40,
          44,
          51,
          67,
          42,
          60,
          45,
          70,
          70,
          50,
          55,
          70,
          70,
          42,
          65,
          50,
          55,
          60,
          45,
          65,
          90,
          45,
          60,
          52,
          63,
          62,
          55,
          45,
          45,
          50
         ],
         "xaxis": "x",
         "xbins": {
          "end": 90,
          "size": 0.5,
          "start": 40
         },
         "yaxis": "y"
        },
        {
         "autobinx": false,
         "histnorm": "probability density",
         "legendgroup": "Not Survived",
         "marker": {
          "color": "rgb(255, 127, 14)"
         },
         "name": "Not Survived",
         "opacity": 0.7,
         "type": "histogram",
         "x": [
          75,
          55,
          65,
          50,
          65,
          90,
          75,
          60,
          65,
          80,
          75,
          62,
          45,
          50,
          82,
          87,
          45,
          70,
          48,
          65,
          68,
          75,
          80,
          95,
          70,
          58,
          82,
          94,
          85,
          50,
          65,
          69,
          90,
          82,
          60,
          70,
          50,
          70,
          60,
          50,
          51,
          60,
          80,
          57,
          68,
          53,
          60,
          70,
          60,
          95,
          49,
          72,
          45,
          50,
          45,
          60,
          42,
          72,
          70,
          65,
          85,
          69,
          60,
          60,
          59,
          60,
          72,
          85,
          70,
          86,
          60,
          46,
          80,
          72,
          75,
          72,
          50,
          45,
          80,
          59,
          59,
          65,
          75,
          58,
          60.667,
          50,
          60,
          45,
          77,
          48,
          54,
          73,
          60,
          55,
          65,
          55
         ],
         "xaxis": "x",
         "xbins": {
          "end": 95,
          "size": 0.5,
          "start": 42
         },
         "yaxis": "y"
        },
        {
         "legendgroup": "Survived",
         "marker": {
          "color": "rgb(31, 119, 180)"
         },
         "mode": "lines",
         "name": "Survived",
         "showlegend": false,
         "type": "scatter",
         "x": [
          40,
          40.1,
          40.2,
          40.3,
          40.4,
          40.5,
          40.6,
          40.7,
          40.8,
          40.9,
          41,
          41.1,
          41.2,
          41.3,
          41.4,
          41.5,
          41.6,
          41.7,
          41.8,
          41.9,
          42,
          42.1,
          42.2,
          42.3,
          42.4,
          42.5,
          42.6,
          42.7,
          42.8,
          42.9,
          43,
          43.1,
          43.2,
          43.3,
          43.4,
          43.5,
          43.6,
          43.7,
          43.8,
          43.9,
          44,
          44.1,
          44.2,
          44.3,
          44.4,
          44.5,
          44.6,
          44.7,
          44.8,
          44.9,
          45,
          45.1,
          45.2,
          45.3,
          45.4,
          45.5,
          45.6,
          45.7,
          45.8,
          45.9,
          46,
          46.1,
          46.2,
          46.3,
          46.4,
          46.5,
          46.6,
          46.7,
          46.8,
          46.9,
          47,
          47.1,
          47.2,
          47.3,
          47.4,
          47.5,
          47.6,
          47.7,
          47.8,
          47.9,
          48,
          48.1,
          48.2,
          48.3,
          48.4,
          48.5,
          48.6,
          48.7,
          48.8,
          48.9,
          49,
          49.1,
          49.2,
          49.3,
          49.4,
          49.5,
          49.6,
          49.7,
          49.8,
          49.9,
          50,
          50.1,
          50.2,
          50.3,
          50.4,
          50.5,
          50.6,
          50.7,
          50.8,
          50.9,
          51,
          51.1,
          51.2,
          51.3,
          51.4,
          51.5,
          51.6,
          51.7,
          51.8,
          51.9,
          52,
          52.1,
          52.2,
          52.3,
          52.4,
          52.5,
          52.6,
          52.7,
          52.8,
          52.9,
          53,
          53.1,
          53.2,
          53.3,
          53.4,
          53.5,
          53.6,
          53.7,
          53.8,
          53.9,
          54,
          54.1,
          54.2,
          54.3,
          54.4,
          54.5,
          54.6,
          54.7,
          54.8,
          54.9,
          55,
          55.1,
          55.2,
          55.3,
          55.4,
          55.5,
          55.6,
          55.7,
          55.8,
          55.9,
          56,
          56.1,
          56.2,
          56.3,
          56.4,
          56.5,
          56.6,
          56.7,
          56.8,
          56.9,
          57,
          57.1,
          57.2,
          57.3,
          57.4,
          57.5,
          57.6,
          57.7,
          57.8,
          57.9,
          58,
          58.1,
          58.2,
          58.3,
          58.4,
          58.5,
          58.6,
          58.7,
          58.8,
          58.9,
          59,
          59.1,
          59.2,
          59.3,
          59.4,
          59.5,
          59.6,
          59.7,
          59.8,
          59.9,
          60,
          60.1,
          60.2,
          60.3,
          60.4,
          60.5,
          60.6,
          60.7,
          60.8,
          60.9,
          61,
          61.1,
          61.2,
          61.3,
          61.4,
          61.5,
          61.6,
          61.7,
          61.8,
          61.9,
          62,
          62.1,
          62.2,
          62.3,
          62.4,
          62.5,
          62.6,
          62.7,
          62.8,
          62.9,
          63,
          63.1,
          63.2,
          63.3,
          63.4,
          63.5,
          63.6,
          63.7,
          63.8,
          63.9,
          64,
          64.1,
          64.2,
          64.3,
          64.4,
          64.5,
          64.6,
          64.7,
          64.8,
          64.9,
          65,
          65.1,
          65.2,
          65.3,
          65.4,
          65.5,
          65.6,
          65.7,
          65.8,
          65.9,
          66,
          66.1,
          66.2,
          66.3,
          66.4,
          66.5,
          66.6,
          66.7,
          66.8,
          66.9,
          67,
          67.1,
          67.2,
          67.3,
          67.4,
          67.5,
          67.6,
          67.7,
          67.8,
          67.9,
          68,
          68.1,
          68.2,
          68.3,
          68.4,
          68.5,
          68.6,
          68.7,
          68.8,
          68.9,
          69,
          69.1,
          69.2,
          69.3,
          69.4,
          69.5,
          69.6,
          69.7,
          69.8,
          69.9,
          70,
          70.1,
          70.2,
          70.3,
          70.4,
          70.5,
          70.6,
          70.7,
          70.8,
          70.9,
          71,
          71.1,
          71.2,
          71.3,
          71.4,
          71.5,
          71.6,
          71.7,
          71.8,
          71.9,
          72,
          72.1,
          72.2,
          72.3,
          72.4,
          72.5,
          72.6,
          72.7,
          72.8,
          72.9,
          73,
          73.1,
          73.2,
          73.3,
          73.4,
          73.5,
          73.6,
          73.7,
          73.8,
          73.9,
          74,
          74.1,
          74.2,
          74.3,
          74.4,
          74.5,
          74.6,
          74.7,
          74.8,
          74.9,
          75,
          75.1,
          75.2,
          75.3,
          75.4,
          75.5,
          75.6,
          75.7,
          75.8,
          75.9,
          76,
          76.1,
          76.2,
          76.3,
          76.4,
          76.5,
          76.6,
          76.7,
          76.8,
          76.9,
          77,
          77.1,
          77.2,
          77.3,
          77.4,
          77.5,
          77.6,
          77.7,
          77.8,
          77.9,
          78,
          78.1,
          78.2,
          78.3,
          78.4,
          78.5,
          78.6,
          78.7,
          78.8,
          78.9,
          79,
          79.1,
          79.2,
          79.3,
          79.4,
          79.5,
          79.6,
          79.7,
          79.8,
          79.9,
          80,
          80.1,
          80.2,
          80.3,
          80.4,
          80.5,
          80.6,
          80.7,
          80.8,
          80.9,
          81,
          81.1,
          81.2,
          81.3,
          81.4,
          81.5,
          81.6,
          81.7,
          81.8,
          81.9,
          82,
          82.1,
          82.2,
          82.3,
          82.4,
          82.5,
          82.6,
          82.7,
          82.8,
          82.9,
          83,
          83.1,
          83.2,
          83.3,
          83.4,
          83.5,
          83.6,
          83.7,
          83.8,
          83.9,
          84,
          84.1,
          84.2,
          84.3,
          84.4,
          84.5,
          84.6,
          84.7,
          84.8,
          84.9,
          85,
          85.1,
          85.2,
          85.3,
          85.4,
          85.5,
          85.6,
          85.7,
          85.8,
          85.9,
          86,
          86.1,
          86.2,
          86.3,
          86.4,
          86.5,
          86.6,
          86.7,
          86.8,
          86.9,
          87,
          87.1,
          87.2,
          87.3,
          87.4,
          87.5,
          87.6,
          87.7,
          87.8,
          87.9,
          88,
          88.1,
          88.2,
          88.3,
          88.4,
          88.5,
          88.6,
          88.7,
          88.8,
          88.9,
          89,
          89.1,
          89.2,
          89.3,
          89.4,
          89.5,
          89.6,
          89.7,
          89.8,
          89.9
         ],
         "xaxis": "x",
         "y": [
          0.011497688785389608,
          0.011714889659373387,
          0.011931433112966452,
          0.012147201864667345,
          0.012362082171629459,
          0.012575964130437052,
          0.012788741968592377,
          0.013000314325686142,
          0.013210584523233962,
          0.013419460822176583,
          0.013626856667055874,
          0.013832690915898251,
          0.014036888054856566,
          0.014239378396684908,
          0.014440098262147113,
          0.014638990143487253,
          0.014836002849123632,
          0.015031091628761773,
          0.01522421827816152,
          0.015415351222835083,
          0.01560446558000012,
          0.015791543198162113,
          0.01597657267375561,
          0.01615954934433343,
          0.016340475257857826,
          0.016519359117716396,
          0.0166962162031598,
          0.016871068264938317,
          0.01704394339599732,
          0.017214875877182165,
          0.017383905997996277,
          0.01755107985255485,
          0.01771644911098097,
          0.01788007076659619,
          0.018042006859371077,
          0.018202324176213966,
          0.018361093928794286,
          0.018518391409717155,
          0.018674295627985563,
          0.018828888924811066,
          0.018982256570955012,
          0.019134486346904858,
          0.019285668107311686,
          0.019435893331231496,
          0.01958525465983079,
          0.01973384542332528,
          0.019881759159028078,
          0.020029089122483513,
          0.020175927793753778,
          0.020322366381011935,
          0.020468494323668873,
          0.020614398797328005,
          0.020760164222915628,
          0.02090587178237757,
          0.021051598943363697,
          0.021197418995338276,
          0.021343400599558107,
          0.021489607355349043,
          0.021636097385086147,
          0.021782922940241745,
          0.021930130030809757,
          0.0220777580803433,
          0.022225839608756306,
          0.022374399944936788,
          0.022523456971105343,
          0.022673020900718037,
          0.022823094091570576,
          0.022973670895601855,
          0.02312473754672268,
          0.023276272087815925,
          0.023428244337859866,
          0.023580615899925054,
          0.023733340210585235,
          0.02388636263106455,
          0.024039620580222815,
          0.024193043709251544,
          0.02434655411772659,
          0.024500066610431435,
          0.024653488994136018,
          0.024806722413289014,
          0.024959661723356404,
          0.025112195900320586,
          0.025264208484644248,
          0.025415578057795218,
          0.025566178749238378,
          0.025715880771614515,
          0.025864550981656288,
          0.026012053464232503,
          0.02615825013676941,
          0.026303001371169497,
          0.02644616663023558,
          0.02658760511551519,
          0.026727176423401104,
          0.026864741206265745,
          0.0270001618353669,
          0.02713330306223862,
          0.02726403267527912,
          0.027392222148262552,
          0.027517747277533356,
          0.027640488804695478,
          0.02776033302167727,
          0.02787717235513753,
          0.027990905927283698,
          0.028101440090288185,
          0.02820868893162365,
          0.028312574747784217,
          0.02841302848401852,
          0.02850999013787203,
          0.028603409124516768,
          0.028693244602039567,
          0.028779465755055696,
          0.028862052035223303,
          0.028940993357445596,
          0.029016290250761304,
          0.029087953963146423,
          0.029156006519668598,
          0.02922048073365953,
          0.029281420170791123,
          0.029338879066161165,
          0.02939292219471266,
          0.029443624695523633,
          0.02949107185071469,
          0.02953535881992407,
          0.02957659033149769,
          0.029614880331732985,
          0.0296503515936951,
          0.029683135287300842,
          0.029713370512526715,
          0.029741203797755193,
          0.029766788565416282,
          0.029790284567214668,
          0.02981185729135659,
          0.02983167734430183,
          0.029849919809665063,
          0.029866763586978286,
          0.029882390713104202,
          0.0298969856691496,
          0.0299107346757844,
          0.02992382497990447,
          0.029936444135609423,
          0.02994877928247491,
          0.029961016424103964,
          0.029973339709930845,
          0.02998593072322638,
          0.029998967778221974,
          0.030012625229220144,
          0.030027072794502136,
          0.03004247489777493,
          0.030058990029816345,
          0.030076770132887502,
          0.03009596001037892,
          0.030116696764043764,
          0.0301391092610503,
          0.030163317632953147,
          0.030189432808543998,
          0.03021755608239238,
          0.030247778720731793,
          0.030280181606182715,
          0.03031483492263297,
          0.030351797881422803,
          0.030391118489798457,
          0.030432833362414043,
          0.03047696757647441,
          0.03052353457091829,
          0.030572536089850246,
          0.03062396217023535,
          0.030677791173677523,
          0.030733989861911306,
          0.03079251351544418,
          0.03085330609460336,
          0.03091630044205404,
          0.030981418525682355,
          0.03104857172056101,
          0.031117661128553246,
          0.031188577933952712,
          0.03126120379340997,
          0.031335411258255653,
          0.03141106422720472,
          0.03148801842730882,
          0.03156612192091658,
          0.03164521563631191,
          0.03172513391961782,
          0.031805705105488406,
          0.03188675210405742,
          0.03196809300157249,
          0.032049541672119715,
          0.03213090839782966,
          0.03221200049496115,
          0.032292622943271634,
          0.032372579016114886,
          0.03245167090874826,
          0.032529700362385804,
          0.03260646928160095,
          0.03268178034275999,
          0.03275543759125649,
          0.032827247025413626,
          0.03289701716502999,
          0.03296455960265779,
          0.03302968953582453,
          0.03309222627853707,
          0.033151993750538324,
          0.033208820942924676,
          0.03326254235886963,
          0.033312998428339034,
          0.03336003589582814,
          0.033403508180286326,
          0.03344327570653982,
          0.03347920620765636,
          0.03351117499783216,
          0.0335390652155121,
          0.033562768036577414,
          0.0335821828575599,
          0.033597217448952305,
          0.033607788078797815,
          0.03361381960683894,
          0.03361524554960697,
          0.033612008116916274,
          0.03360405822031383,
          0.03359135545410523,
          0.03357386804964871,
          0.0335515728036657,
          0.03352445498137597,
          0.03349250819530679,
          0.0334557342606729,
          0.03341414302825825,
          0.03336775219576241,
          0.03331658709860217,
          0.03326068048118154,
          0.033200072249665785,
          0.03313480920730763,
          0.03306494477339502,
          0.03299053868689683,
          0.03291165669590013,
          0.03282837023393987,
          0.0327407560843349,
          0.032648896033655055,
          0.03255287651545297,
          0.03245278824540848,
          0.03234872584904384,
          0.032240787483180974,
          0.03212907445232685,
          0.0320136908211856,
          0.03189474302451233,
          0.031772339475536884,
          0.03164659017420355,
          0.03151760631648379,
          0.031385499906036604,
          0.03125038336950115,
          0.03111236917671907,
          0.030971569467190124,
          0.030828095684073062,
          0.030682058217043947,
          0.03053356605532254,
          0.03038272645216968,
          0.030229644602148373,
          0.03007442333242034,
          0.02991716280932748,
          0.029757960261473967,
          0.029596909720487213,
          0.029434101780587592,
          0.02926962337804311,
          0.029103557591519922,
          0.0289359834642707,
          0.028766975849019598,
          0.028596605276315884,
          0.02842493784703159,
          0.028252035149572044,
          0.028077954202259635,
          0.02790274742122716,
          0.027726462614036416,
          0.027549142999103743,
          0.02737082725087868,
          0.027191549570582944,
          0.02701133978217215,
          0.026830223453040154,
          0.02664822203883749,
          0.026465353051631807,
          0.026281630250492714,
          0.026097063853443535,
          0.02591166076958242,
          0.02572542485004626,
          0.025538357156360974,
          0.025350456244606124,
          0.02516171846370989,
          0.024972138266090384,
          0.02478170852877062,
          0.024590420883014337,
          0.02439826605046676,
          0.02420523418372928,
          0.0240113152092601,
          0.023816499170468988,
          0.023620776568861374,
          0.0234241387010974,
          0.02322657798984664,
          0.023028088306358475,
          0.022828665282716133,
          0.02262830661180775,
          0.022427012333127588,
          0.022224785102612363,
          0.02202163044482262,
          0.021817556985898795,
          0.021612576665847878,
          0.021406704928858634,
          0.021199960890488742,
          0.02099236748072603,
          0.02078395156208717,
          0.020574744022086627,
          0.020364779839580884,
          0.020154098124667896,
          0.01994274213199853,
          0.01973075924753333,
          0.01951820094895233,
          0.019305122740098823,
          0.019091584060005044,
          0.01887764816721051,
          0.018663382000241275,
          0.01844885601526391,
          0.018234144002070535,
          0.018019322879678713,
          0.01780447247294926,
          0.017589675271735116,
          0.01737501617416557,
          0.017160582215757652,
          0.016946462286112667,
          0.016732746835014276,
          0.016519527569787036,
          0.016306897145802794,
          0.016094948852038556,
          0.015883776293591133,
          0.015673473073042826,
          0.015464132472548396,
          0.0152558471384765,
          0.01504870877039154,
          0.014842807816101066,
          0.014638233174424335,
          0.014435071907257858,
          0.014233408962424397,
          0.014033326908695498,
          0.01383490568427296,
          0.013638222359905068,
          0.013443350917697466,
          0.01325036204655897,
          0.013059322955099272,
          0.012870297202671152,
          0.012683344549121598,
          0.012498520823690983,
          0.012315877813371234,
          0.012135463170910158,
          0.011957320342525604,
          0.011781488515272727,
          0.011608002583893086,
          0.011436893136859982,
          0.011268186461231167,
          0.011101904565815671,
          0.010938065222068645,
          0.010776682022039316,
          0.010617764452614628,
          0.010461317985228527,
          0.010307344180138634,
          0.010155840804313336,
          0.010006801961921307,
          0.009860218236370762,
          0.00971607684281174,
          0.009574361789984507,
          0.009435054050278868,
          0.009298131736855033,
          0.009163570286671955,
          0.009031342648270702,
          0.008901419473168618,
          0.008773769309735719,
          0.008648358798445997,
          0.008525152867423195,
          0.008404114927234774,
          0.008285207063924218,
          0.008168390229315894,
          0.008053624427673526,
          0.007940868897844117,
          0.007830082290074503,
          0.007721222836744958,
          0.007614248516324596,
          0.007509117209916688,
          0.007405786849825694,
          0.007304215559644103,
          0.007204361785424089,
          0.007106184417565904,
          0.007009642903123676,
          0.00691469734829521,
          0.006821308610930769,
          0.006729438382960681,
          0.006639049262706797,
          0.006550104817105998,
          0.006462569633934711,
          0.0063764093641827824,
          0.006291590754781225,
          0.006208081671942102,
          0.0061258511154197726,
          0.006044869224049599,
          0.005965107272964745,
          0.005886537662931833,
          0.005809133902282669,
          0.005732870581951977,
          0.005657723344159743,
          0.0055836688453007105,
          0.005510684713624082,
          0.005438749502302022,
          0.005367842638497295,
          0.00529794436904709,
          0.005229035703383213,
          0.005161098354307666,
          0.005094114677236157,
          0.005028067608513295,
          0.0049629406033891285,
          0.004898717574228952,
          0.004835382829508008,
          0.004772921014116977,
          0.0047113170514775995,
          0.004650556087935785,
          0.0045906234398671725,
          0.004531504543893204,
          0.0044731849105683,
          0.004415650081858395,
          0.004358885592689682,
          0.004302876936803896,
          0.004247609537112561,
          0.004193068720698698,
          0.004139239698570529,
          0.004086107550226816,
          0.004033657213050893,
          0.003981873476506852,
          0.003930740981070192,
          0.003880244221785048,
          0.0038303675563016748,
          0.003781095217211843,
          0.0037324113284655865,
          0.003684299925621517,
          0.0036367449796544525,
          0.003589730424018197,
          0.0035432401846393026,
          0.0034972582124980357,
          0.0034517685184373382,
          0.003406755209828089,
          0.0033622025287103566,
          0.0033180948910247906,
          0.003274416926547061,
          0.0032311535191392577,
          0.0031882898469381823,
          0.0031458114221078527,
          0.0031037041297959853,
          0.0030619542659480322,
          0.003020548573649941,
          0.0029794742776907517,
          0.002938719117057982,
          0.0028982713751033997,
          0.002858119907142735,
          0.002818254165280427,
          0.002778664220279633,
          0.002739340780327445,
          0.00270027520657576,
          0.0026614595253692847,
          0.0026228864371028735,
          0.002584549321681408,
          0.002546442240585273,
          0.002508559935574176,
          0.0024708978240902627,
          0.00243345199144852,
          0.0023962191799280857,
          0.0023591967749017305,
          0.0023223827881627764,
          0.002285775838628404,
          0.002249375130615966,
          0.0022131804299040467,
          0.0021771920378029597,
          0.0021414107634695383,
          0.002105837894709175,
          0.0020704751675130087,
          0.0020353247345813665,
          0.0020003891330845967,
          0.0019656712519105306,
          0.0019311742986435974,
          0.001896901766513777,
          0.0018628574015453847,
          0.0018290451701248203,
          0.001795469227194528,
          0.0017621338852663688,
          0.001729043584432513,
          0.0016962028635357318,
          0.001663616332643335,
          0.0016312886469513168,
          0.0015992244822262696,
          0.0015674285118737635,
          0.001535905385702852,
          0.0015046597104370106,
          0.0014736960320033748,
          0.0014430188196133907,
          0.0014126324516304694,
          0.0013825412032031825,
          0.0013527492356264705,
          0.0013232605873784026,
          0.001294079166766171,
          0.0012652087461025154
         ],
         "yaxis": "y"
        },
        {
         "legendgroup": "Not Survived",
         "marker": {
          "color": "rgb(255, 127, 14)"
         },
         "mode": "lines",
         "name": "Not Survived",
         "showlegend": false,
         "type": "scatter",
         "x": [
          42,
          42.106,
          42.212,
          42.318,
          42.424,
          42.53,
          42.636,
          42.742,
          42.848,
          42.954,
          43.06,
          43.166,
          43.272,
          43.378,
          43.484,
          43.59,
          43.696,
          43.802,
          43.908,
          44.014,
          44.12,
          44.226,
          44.332,
          44.438,
          44.544,
          44.65,
          44.756,
          44.862,
          44.968,
          45.074,
          45.18,
          45.286,
          45.392,
          45.498,
          45.604,
          45.71,
          45.816,
          45.922,
          46.028,
          46.134,
          46.24,
          46.346000000000004,
          46.452,
          46.558,
          46.664,
          46.769999999999996,
          46.876,
          46.982,
          47.088,
          47.194,
          47.3,
          47.406,
          47.512,
          47.618,
          47.724000000000004,
          47.83,
          47.936,
          48.042,
          48.147999999999996,
          48.254,
          48.36,
          48.466,
          48.572,
          48.678,
          48.784,
          48.89,
          48.996,
          49.102000000000004,
          49.208,
          49.314,
          49.42,
          49.525999999999996,
          49.632,
          49.738,
          49.844,
          49.95,
          50.056,
          50.162,
          50.268,
          50.374,
          50.480000000000004,
          50.586,
          50.692,
          50.798,
          50.903999999999996,
          51.01,
          51.116,
          51.222,
          51.328,
          51.434,
          51.54,
          51.646,
          51.752,
          51.858000000000004,
          51.964,
          52.07,
          52.176,
          52.282,
          52.388,
          52.494,
          52.6,
          52.706,
          52.812,
          52.918,
          53.024,
          53.13,
          53.236000000000004,
          53.342,
          53.448,
          53.554,
          53.66,
          53.766,
          53.872,
          53.978,
          54.084,
          54.19,
          54.296,
          54.402,
          54.507999999999996,
          54.614000000000004,
          54.72,
          54.826,
          54.932,
          55.038,
          55.144,
          55.25,
          55.356,
          55.462,
          55.568,
          55.674,
          55.78,
          55.885999999999996,
          55.992000000000004,
          56.098,
          56.204,
          56.31,
          56.416,
          56.522,
          56.628,
          56.734,
          56.84,
          56.946,
          57.052,
          57.158,
          57.263999999999996,
          57.37,
          57.476,
          57.582,
          57.688,
          57.794,
          57.9,
          58.006,
          58.111999999999995,
          58.218,
          58.324,
          58.43,
          58.536,
          58.641999999999996,
          58.748000000000005,
          58.854,
          58.96,
          59.066,
          59.172,
          59.278,
          59.384,
          59.489999999999995,
          59.596000000000004,
          59.702,
          59.808,
          59.914,
          60.019999999999996,
          60.126000000000005,
          60.232,
          60.338,
          60.444,
          60.55,
          60.656,
          60.762,
          60.867999999999995,
          60.974000000000004,
          61.08,
          61.186,
          61.292,
          61.397999999999996,
          61.504000000000005,
          61.61,
          61.716,
          61.822,
          61.928,
          62.034,
          62.14,
          62.245999999999995,
          62.352000000000004,
          62.458,
          62.564,
          62.67,
          62.775999999999996,
          62.882000000000005,
          62.988,
          63.094,
          63.2,
          63.306,
          63.412,
          63.518,
          63.623999999999995,
          63.730000000000004,
          63.836,
          63.942,
          64.048,
          64.154,
          64.26,
          64.366,
          64.47200000000001,
          64.578,
          64.684,
          64.78999999999999,
          64.896,
          65.002,
          65.108,
          65.214,
          65.32,
          65.426,
          65.532,
          65.638,
          65.744,
          65.85,
          65.956,
          66.062,
          66.168,
          66.274,
          66.38,
          66.486,
          66.592,
          66.69800000000001,
          66.804,
          66.91,
          67.01599999999999,
          67.122,
          67.22800000000001,
          67.334,
          67.44,
          67.54599999999999,
          67.652,
          67.758,
          67.864,
          67.97,
          68.076,
          68.182,
          68.288,
          68.394,
          68.5,
          68.606,
          68.712,
          68.818,
          68.924,
          69.03,
          69.136,
          69.242,
          69.348,
          69.45400000000001,
          69.56,
          69.666,
          69.77199999999999,
          69.878,
          69.98400000000001,
          70.09,
          70.196,
          70.30199999999999,
          70.408,
          70.514,
          70.62,
          70.726,
          70.832,
          70.938,
          71.044,
          71.15,
          71.256,
          71.362,
          71.468,
          71.574,
          71.68,
          71.786,
          71.892,
          71.998,
          72.104,
          72.21000000000001,
          72.316,
          72.422,
          72.52799999999999,
          72.634,
          72.74,
          72.846,
          72.952,
          73.05799999999999,
          73.164,
          73.27,
          73.376,
          73.482,
          73.588,
          73.694,
          73.8,
          73.906,
          74.012,
          74.118,
          74.22399999999999,
          74.33,
          74.436,
          74.542,
          74.648,
          74.75399999999999,
          74.86,
          74.96600000000001,
          75.072,
          75.178,
          75.28399999999999,
          75.39,
          75.49600000000001,
          75.602,
          75.708,
          75.814,
          75.92,
          76.02600000000001,
          76.132,
          76.238,
          76.344,
          76.45,
          76.556,
          76.662,
          76.768,
          76.874,
          76.97999999999999,
          77.086,
          77.19200000000001,
          77.298,
          77.404,
          77.50999999999999,
          77.616,
          77.72200000000001,
          77.828,
          77.934,
          78.03999999999999,
          78.146,
          78.25200000000001,
          78.358,
          78.464,
          78.57,
          78.676,
          78.782,
          78.888,
          78.994,
          79.1,
          79.206,
          79.312,
          79.418,
          79.524,
          79.63,
          79.73599999999999,
          79.842,
          79.94800000000001,
          80.054,
          80.16,
          80.26599999999999,
          80.372,
          80.47800000000001,
          80.584,
          80.69,
          80.79599999999999,
          80.902,
          81.00800000000001,
          81.114,
          81.22,
          81.326,
          81.432,
          81.538,
          81.644,
          81.75,
          81.856,
          81.962,
          82.068,
          82.174,
          82.28,
          82.386,
          82.49199999999999,
          82.598,
          82.70400000000001,
          82.81,
          82.916,
          83.02199999999999,
          83.128,
          83.23400000000001,
          83.34,
          83.446,
          83.55199999999999,
          83.658,
          83.76400000000001,
          83.87,
          83.976,
          84.082,
          84.188,
          84.294,
          84.4,
          84.506,
          84.612,
          84.718,
          84.824,
          84.93,
          85.036,
          85.142,
          85.24799999999999,
          85.354,
          85.46000000000001,
          85.566,
          85.672,
          85.77799999999999,
          85.884,
          85.99000000000001,
          86.096,
          86.202,
          86.30799999999999,
          86.414,
          86.52000000000001,
          86.626,
          86.732,
          86.838,
          86.944,
          87.05,
          87.156,
          87.262,
          87.368,
          87.47399999999999,
          87.58,
          87.686,
          87.792,
          87.898,
          88.00399999999999,
          88.11,
          88.21600000000001,
          88.322,
          88.428,
          88.53399999999999,
          88.64,
          88.74600000000001,
          88.852,
          88.958,
          89.064,
          89.17,
          89.27600000000001,
          89.382,
          89.488,
          89.594,
          89.7,
          89.806,
          89.912,
          90.018,
          90.124,
          90.22999999999999,
          90.336,
          90.44200000000001,
          90.548,
          90.654,
          90.75999999999999,
          90.866,
          90.97200000000001,
          91.078,
          91.184,
          91.28999999999999,
          91.396,
          91.50200000000001,
          91.608,
          91.714,
          91.82,
          91.926,
          92.032,
          92.138,
          92.244,
          92.35,
          92.456,
          92.562,
          92.668,
          92.774,
          92.88,
          92.98599999999999,
          93.092,
          93.19800000000001,
          93.304,
          93.41,
          93.51599999999999,
          93.622,
          93.72800000000001,
          93.834,
          93.94,
          94.04599999999999,
          94.152,
          94.25800000000001,
          94.364,
          94.47,
          94.576,
          94.682,
          94.788,
          94.894
         ],
         "xaxis": "x",
         "y": [
          0.009076922386865097,
          0.009242904016030411,
          0.009409416358590566,
          0.009576392250822623,
          0.009743763858907503,
          0.009911462765774055,
          0.01007942006015469,
          0.01024756642772089,
          0.0104158322441601,
          0.01058414767004903,
          0.010752442747371698,
          0.010920647497524926,
          0.011088692020647013,
          0.011256506596100323,
          0.011424021783932403,
          0.011591168527135197,
          0.011757878254516347,
          0.011924082983992388,
          0.012089715426108481,
          0.012254709087585573,
          0.01241899837469152,
          0.012582518696229802,
          0.01274520656593539,
          0.0129069997040652,
          0.013067837137968056,
          0.013227659301416573,
          0.013386408132482286,
          0.013544027169734059,
          0.013700461646539082,
          0.013855658583245245,
          0.014009566877024529,
          0.014162137389157255,
          0.014313323029538522,
          0.014463078838190072,
          0.014611362063562835,
          0.014758132237418353,
          0.014903351246081097,
          0.015046983397856964,
          0.015188995486418423,
          0.01532935684996161,
          0.015468039425946394,
          0.01560501780123693,
          0.015740269257466747,
          0.01587377381146036,
          0.016005514250551287,
          0.01613547616264453,
          0.01626364796088196,
          0.016390020902777577,
          0.01651458910370101,
          0.01663734954459793,
          0.016758302073848038,
          0.01687744940317284,
          0.016994797097518412,
          0.017110353558850894,
          0.017224130003816823,
          0.01733614043523302,
          0.017446401607386662,
          0.017554932985139677,
          0.01766175669684753,
          0.017766897481117715,
          0.01787038262744871,
          0.017972241910806864,
          0.01807250752021403,
          0.018171213981436257,
          0.01826839807387925,
          0.018364098741813762,
          0.01845835700007044,
          0.018551215834360302,
          0.018642720096393433,
          0.018732916393985506,
          0.018821852976357172,
          0.018909579614848203,
          0.018996147479283552,
          0.019081609010244114,
          0.019166017787509825,
          0.01924942839495765,
          0.01933189628221056,
          0.019413477623347313,
          0.01949422917299577,
          0.019574208120144553,
          0.019653471940018947,
          0.01973207824437782,
          0.019810084630598402,
          0.019887548529923398,
          0.019964527055254245,
          0.02004107684888008,
          0.02011725393053824,
          0.020193113546206693,
          0.020268710018032404,
          0.020344096595802115,
          0.020419325310362803,
          0.02049444682939963,
          0.02056951031597735,
          0.020644563290249027,
          0.020719651494731466,
          0.020794818763542097,
          0.020870106895985348,
          0.020945555534868432,
          0.021021202049917923,
          0.021097081426657335,
          0.021173226161094974,
          0.02124966616055721,
          0.021326428650989288,
          0.021403538091029444,
          0.021481016093145167,
          0.021558881352103813,
          0.02163714958102917,
          0.021715833455276886,
          0.02179494256433977,
          0.021874483371972488,
          0.021954459184701614,
          0.022034870128864494,
          0.022115713136294336,
          0.022196981938745093,
          0.022278667071123408,
          0.022360755883568822,
          0.022443232562396356,
          0.022526078159889593,
          0.022609270632903987,
          0.02269278489021344,
          0.02277659284850586,
          0.022860663496905444,
          0.02294496296987281,
          0.02302945462830673,
          0.023114099148645043,
          0.023198854619735264,
          0.023283676647221,
          0.023368518465164075,
          0.023453331054599087,
          0.023538063268692597,
          0.02362266196415779,
          0.023707072138552936,
          0.023791237073072718,
          0.023875098480420874,
          0.02395859665733614,
          0.024041670641325934,
          0.024124258371147525,
          0.024206296850562355,
          0.02428772231487748,
          0.024368470399777062,
          0.02444847631193841,
          0.024527675000919288,
          0.024606001331797977,
          0.02468339025804409,
          0.02475977699409518,
          0.024835097187115174,
          0.024909287087411282,
          0.024982283716989823,
          0.02505402503573643,
          0.025124450104713227,
          0.025193499246074013,
          0.025261114199109074,
          0.025327238271943286,
          0.025391816488425197,
          0.02545479572975995,
          0.025516124870455768,
          0.02557575490817293,
          0.02563363908708288,
          0.0256897330143677,
          0.025743994769511905,
          0.025796385006062367,
          0.025846867045557782,
          0.02589540696335405,
          0.02594197366609957,
          0.025986538960642014,
          0.02602907761417619,
          0.026069567405472487,
          0.026107989167054105,
          0.02614432681822216,
          0.026178567388857273,
          0.026210701033957683,
          0.02624072103890355,
          0.026268623815468614,
          0.026294408888630084,
          0.026318078874258317,
          0.026339639447797263,
          0.026359099304076334,
          0.026376470108422912,
          0.026391766439272712,
          0.02640500572250275,
          0.02641620815773798,
          0.026425396636907728,
          0.026432596655353257,
          0.026437836215809963,
          0.026441145725610685,
          0.02644255788747654,
          0.02644210758428157,
          0.026439831758194827,
          0.026435769284620582,
          0.026429960841371492,
          0.026422448773523316,
          0.026413276954411338,
          0.026402490643238238,
          0.02639013633977188,
          0.026376261636618117,
          0.026360915069558028,
          0.026344145966442585,
          0.026326004295139288,
          0.026306540511024403,
          0.02628580540451322,
          0.026263849949116423,
          0.026240725150505653,
          0.026216481897064103,
          0.026191170812390262,
          0.026164842110211365,
          0.02613754545215296,
          0.026109329808797526,
          0.02608024332444991,
          0.02605033318601292,
          0.026019645496358716,
          0.025988225152563323,
          0.02595611572935302,
          0.0259233593680905,
          0.025889996671607917,
          0.025856066605171483,
          0.025821606403840045,
          0.0257866514864557,
          0.025751235376481416,
          0.02571538962987535,
          0.02567914377016635,
          0.025642525230871065,
          0.02560555930536566,
          0.025568269104301395,
          0.025530675520625712,
          0.025492797202246866,
          0.025454650532352394,
          0.025416249617368335,
          0.02537760628251997,
          0.02533873007493043,
          0.025299628274169778,
          0.025260305910143263,
          0.025220765788184402,
          0.025181008521196636,
          0.025141032568665688,
          0.02510083428234357,
          0.025060407958386613,
          0.025019745895709614,
          0.024978838460301616,
          0.02493767415523139,
          0.024896239696055256,
          0.02485452009132498,
          0.024812498727881105,
          0.024770157460603306,
          0.02472747670628048,
          0.024684435541251246,
          0.024641011802459294,
          0.024597182191559486,
          0.02455292238170511,
          0.0245082071266426,
          0.024463010371735754,
          0.02441730536654055,
          0.024371064778550413,
          0.024324260807732048,
          0.024276865301474444,
          0.024228849869575887,
          0.024180185998898922,
          0.024130845167327226,
          0.02408079895666638,
          0.024030019164136794,
          0.02397847791211669,
          0.02392614775580186,
          0.023873001788460087,
          0.02381901374396928,
          0.023764158096341366,
          0.023708410155946436,
          0.023651746162166084,
          0.023594143372219614,
          0.023535580145921862,
          0.023476036026147673,
          0.023415491814794118,
          0.02335392964404901,
          0.023291333042790813,
          0.023227686997963945,
          0.023162978010790234,
          0.023097194147696152,
          0.023030325085853717,
          0.022962362153251693,
          0.022893298363231326,
          0.0228231284434404,
          0.022751848859177044,
          0.02267945783111358,
          0.0226059553474081,
          0.022531343170229545,
          0.022455624836740167,
          0.022378805654594866,
          0.022300892692035317,
          0.022221894762672154,
          0.02214182240506361,
          0.022060687857216075,
          0.021978505026144395,
          0.021895289452645555,
          0.02181105827145135,
          0.021725830166938805,
          0.02163962532458936,
          0.02155246537839778,
          0.021464373354443077,
          0.02137537361084272,
          0.02128549177432005,
          0.021194754673622692,
          0.02110319027003658,
          0.02101082758524659,
          0.02091769662679889,
          0.02082382831142607,
          0.02072925438649778,
          0.02063400734986309,
          0.020538120368352012,
          0.020441627195204735,
          0.02034456208669584,
          0.020246959718221557,
          0.020148855100114375,
          0.02005028349344792,
          0.019951280326090875,
          0.019851881109264717,
          0.019752121354854782,
          0.019652036493718567,
          0.019551661795228582,
          0.019451032288280105,
          0.019350182683985872,
          0.019249147300271996,
          0.019147959988580064,
          0.019046654062870906,
          0.01894526223111532,
          0.01884381652944729,
          0.018742348259142953,
          0.01864088792657958,
          0.0185394651863143,
          0.018438108787413622,
          0.018336846523149656,
          0.0182357051841692,
          0.018134710515227612,
          0.018033887175567795,
          0.017933258703011226,
          0.01783284748181622,
          0.01773267471434477,
          0.017632760396567772,
          0.01753312329742512,
          0.017433780942045257,
          0.017334749598816302,
          0.01723604427028887,
          0.017137678687878976,
          0.017039665310328,
          0.01694201532586544,
          0.016844738658009294,
          0.01674784397492861,
          0.016651338702282248,
          0.016555229039439488,
          0.01645951997897704,
          0.0163642153293403,
          0.01626931774054693,
          0.016174828732804406,
          0.016080748727905103,
          0.015987077083256376,
          0.01589381212839727,
          0.01580095120384713,
          0.015708490702127893,
          0.015616426110796073,
          0.0155247520573181,
          0.0154334623556184,
          0.015342550054128063,
          0.015252007485159272,
          0.015161826315429684,
          0.01507199759756054,
          0.014982511822370963,
          0.014893358971792833,
          0.01480452857223008,
          0.014716009748188834,
          0.014627791276006146,
          0.014539861637507758,
          0.014452209073428778,
          0.014364821636433517,
          0.01427768724357591,
          0.014190793728045761,
          0.014104128890050376,
          0.014017680546687283,
          0.013931436580668305,
          0.013845384987762036,
          0.013759513922827041,
          0.01367381174431548,
          0.013588267057132838,
          0.01350286875374703,
          0.01341760605344716,
          0.013332468539659364,
          0.01324744619523533,
          0.013162529435636023,
          0.013077709139941973,
          0.012992976679628182,
          0.012908323945050823,
          0.012823743369600099,
          0.012739227951482164,
          0.012654771273100572,
          0.012570367518016202,
          0.012486011485472044,
          0.012401698602477106,
          0.012317424933452054,
          0.012233187187445692,
          0.012148982722939912,
          0.012064809550267246,
          0.01198066633167279,
          0.011896552379058779,
          0.01181246764945701,
          0.011728412738280578,
          0.011644388870412957,
          0.011560397889197667,
          0.011476442243398294,
          0.011392524972203449,
          0.011308649688356227,
          0.011224820559493146,
          0.011141042287781223,
          0.011057320087946427,
          0.010973659663790433,
          0.010890067183296038,
          0.010806549252424665,
          0.010723112887712095,
          0.01063976548777135,
          0.010556514803813033,
          0.010473368909295918,
          0.010390336168821028,
          0.010307425206384429,
          0.010224644873103955,
          0.010142004214535243,
          0.010059512437693144,
          0.009977178877893532,
          0.009895012965529705,
          0.00981302419289737,
          0.009731222081179842,
          0.009649616147703672,
          0.00956821587357337,
          0.00948703067179083,
          0.00940606985596286,
          0.009325342609697538,
          0.009244857956785982,
          0.009164624732264067,
          0.00908465155444366,
          0.009004946797999716,
          0.008925518568195203,
          0.008846374676321649,
          0.008767522616427997,
          0.008688969543406299,
          0.00861072225249767,
          0.008532787160276464,
          0.008455170287165921,
          0.008377877241533072,
          0.008300913205404608,
          0.008224282921840943,
          0.008147990683999124,
          0.008072040325910015,
          0.007996435214989352,
          0.00792117824629637,
          0.007846271838548136,
          0.007771717931891866,
          0.007697517987431769,
          0.007623672988501079,
          0.007550183443664732,
          0.0074770493914321475,
          0.007404270406654231,
          0.007331845608573677,
          0.007259773670491769,
          0.007188052831010416,
          0.007116680906802825,
          0.007045655306861652,
          0.006974973048168711,
          0.006904630772726184,
          0.0068346247658848756,
          0.006764950975901142,
          0.006695605034650697,
          0.006626582279423529,
          0.006557877775721518,
          0.006489486340977205,
          0.006421402569109113,
          0.006353620855827373,
          0.006286135424601062,
          0.006218940353196383,
          0.00615202960069439,
          0.0060853970348947635,
          0.0060190364600119775,
          0.0059529416445695356,
          0.005887106349397438,
          0.005821524355638737,
          0.0057561894926707905,
          0.005691095665848061,
          0.005626236883974165,
          0.005561607286412341,
          0.0054972011697447054,
          0.005433013013893468,
          0.0053690375076185515,
          0.005305269573309273,
          0.005241704390990075,
          0.0051783374214637344,
          0.005115164428518179,
          0.005052181500127122,
          0.0049893850685781655,
          0.004926771929465784,
          0.004864339259491179,
          0.004802084633014921,
          0.004740006037312642,
          0.004678101886489166,
          0.004616371034010678,
          0.0045548127838194365,
          0.004493426900000787,
          0.004432213614976756
         ],
         "yaxis": "y"
        },
        {
         "legendgroup": "Survived",
         "marker": {
          "color": "rgb(31, 119, 180)",
          "symbol": "line-ns-open"
         },
         "mode": "markers",
         "name": "Survived",
         "showlegend": false,
         "type": "scatter",
         "x": [
          49,
          65,
          53,
          50,
          60,
          72,
          70,
          60,
          55,
          45,
          41,
          58,
          65,
          70,
          42,
          75,
          55,
          70,
          67,
          79,
          51,
          55,
          65,
          44,
          57,
          70,
          60,
          42,
          58,
          58,
          63,
          70,
          60,
          63,
          65,
          75,
          80,
          42,
          60,
          55,
          45,
          63,
          45,
          55,
          50,
          60,
          58,
          60,
          85,
          65,
          60,
          66,
          60,
          60,
          43,
          58,
          61,
          53,
          53,
          60,
          46,
          63,
          81,
          75,
          65,
          68,
          62,
          50,
          46,
          50,
          61,
          50,
          52,
          64,
          60,
          62,
          50,
          50,
          65,
          60,
          52,
          50,
          85,
          59,
          66,
          45,
          63,
          53,
          65,
          70,
          51,
          52,
          70,
          50,
          65,
          60,
          69,
          49,
          63,
          55,
          40,
          60.667,
          40,
          80,
          64,
          50,
          73,
          45,
          65,
          50,
          60,
          63,
          45,
          70,
          60,
          78,
          50,
          40,
          85,
          60,
          49,
          70,
          50,
          78,
          65,
          73,
          70,
          68,
          55,
          65,
          42,
          47,
          58,
          75,
          58,
          55,
          65,
          72,
          70,
          40,
          53,
          53,
          77,
          75,
          70,
          65,
          55,
          70,
          65,
          40,
          73,
          54,
          61,
          64,
          40,
          53,
          50,
          55,
          50,
          70,
          53,
          52,
          65,
          58,
          45,
          53,
          55,
          62,
          68,
          61,
          50,
          56,
          45,
          40,
          44,
          51,
          67,
          42,
          60,
          45,
          70,
          70,
          50,
          55,
          70,
          70,
          42,
          65,
          50,
          55,
          60,
          45,
          65,
          90,
          45,
          60,
          52,
          63,
          62,
          55,
          45,
          45,
          50
         ],
         "xaxis": "x",
         "y": [
          "Survived",
          "Survived",
          "Survived",
          "Survived",
          "Survived",
          "Survived",
          "Survived",
          "Survived",
          "Survived",
          "Survived",
          "Survived",
          "Survived",
          "Survived",
          "Survived",
          "Survived",
          "Survived",
          "Survived",
          "Survived",
          "Survived",
          "Survived",
          "Survived",
          "Survived",
          "Survived",
          "Survived",
          "Survived",
          "Survived",
          "Survived",
          "Survived",
          "Survived",
          "Survived",
          "Survived",
          "Survived",
          "Survived",
          "Survived",
          "Survived",
          "Survived",
          "Survived",
          "Survived",
          "Survived",
          "Survived",
          "Survived",
          "Survived",
          "Survived",
          "Survived",
          "Survived",
          "Survived",
          "Survived",
          "Survived",
          "Survived",
          "Survived",
          "Survived",
          "Survived",
          "Survived",
          "Survived",
          "Survived",
          "Survived",
          "Survived",
          "Survived",
          "Survived",
          "Survived",
          "Survived",
          "Survived",
          "Survived",
          "Survived",
          "Survived",
          "Survived",
          "Survived",
          "Survived",
          "Survived",
          "Survived",
          "Survived",
          "Survived",
          "Survived",
          "Survived",
          "Survived",
          "Survived",
          "Survived",
          "Survived",
          "Survived",
          "Survived",
          "Survived",
          "Survived",
          "Survived",
          "Survived",
          "Survived",
          "Survived",
          "Survived",
          "Survived",
          "Survived",
          "Survived",
          "Survived",
          "Survived",
          "Survived",
          "Survived",
          "Survived",
          "Survived",
          "Survived",
          "Survived",
          "Survived",
          "Survived",
          "Survived",
          "Survived",
          "Survived",
          "Survived",
          "Survived",
          "Survived",
          "Survived",
          "Survived",
          "Survived",
          "Survived",
          "Survived",
          "Survived",
          "Survived",
          "Survived",
          "Survived",
          "Survived",
          "Survived",
          "Survived",
          "Survived",
          "Survived",
          "Survived",
          "Survived",
          "Survived",
          "Survived",
          "Survived",
          "Survived",
          "Survived",
          "Survived",
          "Survived",
          "Survived",
          "Survived",
          "Survived",
          "Survived",
          "Survived",
          "Survived",
          "Survived",
          "Survived",
          "Survived",
          "Survived",
          "Survived",
          "Survived",
          "Survived",
          "Survived",
          "Survived",
          "Survived",
          "Survived",
          "Survived",
          "Survived",
          "Survived",
          "Survived",
          "Survived",
          "Survived",
          "Survived",
          "Survived",
          "Survived",
          "Survived",
          "Survived",
          "Survived",
          "Survived",
          "Survived",
          "Survived",
          "Survived",
          "Survived",
          "Survived",
          "Survived",
          "Survived",
          "Survived",
          "Survived",
          "Survived",
          "Survived",
          "Survived",
          "Survived",
          "Survived",
          "Survived",
          "Survived",
          "Survived",
          "Survived",
          "Survived",
          "Survived",
          "Survived",
          "Survived",
          "Survived",
          "Survived",
          "Survived",
          "Survived",
          "Survived",
          "Survived",
          "Survived",
          "Survived",
          "Survived",
          "Survived",
          "Survived",
          "Survived",
          "Survived",
          "Survived",
          "Survived",
          "Survived",
          "Survived",
          "Survived",
          "Survived",
          "Survived",
          "Survived",
          "Survived"
         ],
         "yaxis": "y2"
        },
        {
         "legendgroup": "Not Survived",
         "marker": {
          "color": "rgb(255, 127, 14)",
          "symbol": "line-ns-open"
         },
         "mode": "markers",
         "name": "Not Survived",
         "showlegend": false,
         "type": "scatter",
         "x": [
          75,
          55,
          65,
          50,
          65,
          90,
          75,
          60,
          65,
          80,
          75,
          62,
          45,
          50,
          82,
          87,
          45,
          70,
          48,
          65,
          68,
          75,
          80,
          95,
          70,
          58,
          82,
          94,
          85,
          50,
          65,
          69,
          90,
          82,
          60,
          70,
          50,
          70,
          60,
          50,
          51,
          60,
          80,
          57,
          68,
          53,
          60,
          70,
          60,
          95,
          49,
          72,
          45,
          50,
          45,
          60,
          42,
          72,
          70,
          65,
          85,
          69,
          60,
          60,
          59,
          60,
          72,
          85,
          70,
          86,
          60,
          46,
          80,
          72,
          75,
          72,
          50,
          45,
          80,
          59,
          59,
          65,
          75,
          58,
          60.667,
          50,
          60,
          45,
          77,
          48,
          54,
          73,
          60,
          55,
          65,
          55
         ],
         "xaxis": "x",
         "y": [
          "Not Survived",
          "Not Survived",
          "Not Survived",
          "Not Survived",
          "Not Survived",
          "Not Survived",
          "Not Survived",
          "Not Survived",
          "Not Survived",
          "Not Survived",
          "Not Survived",
          "Not Survived",
          "Not Survived",
          "Not Survived",
          "Not Survived",
          "Not Survived",
          "Not Survived",
          "Not Survived",
          "Not Survived",
          "Not Survived",
          "Not Survived",
          "Not Survived",
          "Not Survived",
          "Not Survived",
          "Not Survived",
          "Not Survived",
          "Not Survived",
          "Not Survived",
          "Not Survived",
          "Not Survived",
          "Not Survived",
          "Not Survived",
          "Not Survived",
          "Not Survived",
          "Not Survived",
          "Not Survived",
          "Not Survived",
          "Not Survived",
          "Not Survived",
          "Not Survived",
          "Not Survived",
          "Not Survived",
          "Not Survived",
          "Not Survived",
          "Not Survived",
          "Not Survived",
          "Not Survived",
          "Not Survived",
          "Not Survived",
          "Not Survived",
          "Not Survived",
          "Not Survived",
          "Not Survived",
          "Not Survived",
          "Not Survived",
          "Not Survived",
          "Not Survived",
          "Not Survived",
          "Not Survived",
          "Not Survived",
          "Not Survived",
          "Not Survived",
          "Not Survived",
          "Not Survived",
          "Not Survived",
          "Not Survived",
          "Not Survived",
          "Not Survived",
          "Not Survived",
          "Not Survived",
          "Not Survived",
          "Not Survived",
          "Not Survived",
          "Not Survived",
          "Not Survived",
          "Not Survived",
          "Not Survived",
          "Not Survived",
          "Not Survived",
          "Not Survived",
          "Not Survived",
          "Not Survived",
          "Not Survived",
          "Not Survived",
          "Not Survived",
          "Not Survived",
          "Not Survived",
          "Not Survived",
          "Not Survived",
          "Not Survived",
          "Not Survived",
          "Not Survived",
          "Not Survived",
          "Not Survived",
          "Not Survived",
          "Not Survived"
         ],
         "yaxis": "y2"
        }
       ],
       "layout": {
        "barmode": "overlay",
        "hovermode": "closest",
        "legend": {
         "traceorder": "reversed"
        },
        "template": {
         "data": {
          "bar": [
           {
            "error_x": {
             "color": "#2a3f5f"
            },
            "error_y": {
             "color": "#2a3f5f"
            },
            "marker": {
             "line": {
              "color": "#E5ECF6",
              "width": 0.5
             },
             "pattern": {
              "fillmode": "overlay",
              "size": 10,
              "solidity": 0.2
             }
            },
            "type": "bar"
           }
          ],
          "barpolar": [
           {
            "marker": {
             "line": {
              "color": "#E5ECF6",
              "width": 0.5
             },
             "pattern": {
              "fillmode": "overlay",
              "size": 10,
              "solidity": 0.2
             }
            },
            "type": "barpolar"
           }
          ],
          "carpet": [
           {
            "aaxis": {
             "endlinecolor": "#2a3f5f",
             "gridcolor": "white",
             "linecolor": "white",
             "minorgridcolor": "white",
             "startlinecolor": "#2a3f5f"
            },
            "baxis": {
             "endlinecolor": "#2a3f5f",
             "gridcolor": "white",
             "linecolor": "white",
             "minorgridcolor": "white",
             "startlinecolor": "#2a3f5f"
            },
            "type": "carpet"
           }
          ],
          "choropleth": [
           {
            "colorbar": {
             "outlinewidth": 0,
             "ticks": ""
            },
            "type": "choropleth"
           }
          ],
          "contour": [
           {
            "colorbar": {
             "outlinewidth": 0,
             "ticks": ""
            },
            "colorscale": [
             [
              0,
              "#0d0887"
             ],
             [
              0.1111111111111111,
              "#46039f"
             ],
             [
              0.2222222222222222,
              "#7201a8"
             ],
             [
              0.3333333333333333,
              "#9c179e"
             ],
             [
              0.4444444444444444,
              "#bd3786"
             ],
             [
              0.5555555555555556,
              "#d8576b"
             ],
             [
              0.6666666666666666,
              "#ed7953"
             ],
             [
              0.7777777777777778,
              "#fb9f3a"
             ],
             [
              0.8888888888888888,
              "#fdca26"
             ],
             [
              1,
              "#f0f921"
             ]
            ],
            "type": "contour"
           }
          ],
          "contourcarpet": [
           {
            "colorbar": {
             "outlinewidth": 0,
             "ticks": ""
            },
            "type": "contourcarpet"
           }
          ],
          "heatmap": [
           {
            "colorbar": {
             "outlinewidth": 0,
             "ticks": ""
            },
            "colorscale": [
             [
              0,
              "#0d0887"
             ],
             [
              0.1111111111111111,
              "#46039f"
             ],
             [
              0.2222222222222222,
              "#7201a8"
             ],
             [
              0.3333333333333333,
              "#9c179e"
             ],
             [
              0.4444444444444444,
              "#bd3786"
             ],
             [
              0.5555555555555556,
              "#d8576b"
             ],
             [
              0.6666666666666666,
              "#ed7953"
             ],
             [
              0.7777777777777778,
              "#fb9f3a"
             ],
             [
              0.8888888888888888,
              "#fdca26"
             ],
             [
              1,
              "#f0f921"
             ]
            ],
            "type": "heatmap"
           }
          ],
          "heatmapgl": [
           {
            "colorbar": {
             "outlinewidth": 0,
             "ticks": ""
            },
            "colorscale": [
             [
              0,
              "#0d0887"
             ],
             [
              0.1111111111111111,
              "#46039f"
             ],
             [
              0.2222222222222222,
              "#7201a8"
             ],
             [
              0.3333333333333333,
              "#9c179e"
             ],
             [
              0.4444444444444444,
              "#bd3786"
             ],
             [
              0.5555555555555556,
              "#d8576b"
             ],
             [
              0.6666666666666666,
              "#ed7953"
             ],
             [
              0.7777777777777778,
              "#fb9f3a"
             ],
             [
              0.8888888888888888,
              "#fdca26"
             ],
             [
              1,
              "#f0f921"
             ]
            ],
            "type": "heatmapgl"
           }
          ],
          "histogram": [
           {
            "marker": {
             "pattern": {
              "fillmode": "overlay",
              "size": 10,
              "solidity": 0.2
             }
            },
            "type": "histogram"
           }
          ],
          "histogram2d": [
           {
            "colorbar": {
             "outlinewidth": 0,
             "ticks": ""
            },
            "colorscale": [
             [
              0,
              "#0d0887"
             ],
             [
              0.1111111111111111,
              "#46039f"
             ],
             [
              0.2222222222222222,
              "#7201a8"
             ],
             [
              0.3333333333333333,
              "#9c179e"
             ],
             [
              0.4444444444444444,
              "#bd3786"
             ],
             [
              0.5555555555555556,
              "#d8576b"
             ],
             [
              0.6666666666666666,
              "#ed7953"
             ],
             [
              0.7777777777777778,
              "#fb9f3a"
             ],
             [
              0.8888888888888888,
              "#fdca26"
             ],
             [
              1,
              "#f0f921"
             ]
            ],
            "type": "histogram2d"
           }
          ],
          "histogram2dcontour": [
           {
            "colorbar": {
             "outlinewidth": 0,
             "ticks": ""
            },
            "colorscale": [
             [
              0,
              "#0d0887"
             ],
             [
              0.1111111111111111,
              "#46039f"
             ],
             [
              0.2222222222222222,
              "#7201a8"
             ],
             [
              0.3333333333333333,
              "#9c179e"
             ],
             [
              0.4444444444444444,
              "#bd3786"
             ],
             [
              0.5555555555555556,
              "#d8576b"
             ],
             [
              0.6666666666666666,
              "#ed7953"
             ],
             [
              0.7777777777777778,
              "#fb9f3a"
             ],
             [
              0.8888888888888888,
              "#fdca26"
             ],
             [
              1,
              "#f0f921"
             ]
            ],
            "type": "histogram2dcontour"
           }
          ],
          "mesh3d": [
           {
            "colorbar": {
             "outlinewidth": 0,
             "ticks": ""
            },
            "type": "mesh3d"
           }
          ],
          "parcoords": [
           {
            "line": {
             "colorbar": {
              "outlinewidth": 0,
              "ticks": ""
             }
            },
            "type": "parcoords"
           }
          ],
          "pie": [
           {
            "automargin": true,
            "type": "pie"
           }
          ],
          "scatter": [
           {
            "fillpattern": {
             "fillmode": "overlay",
             "size": 10,
             "solidity": 0.2
            },
            "type": "scatter"
           }
          ],
          "scatter3d": [
           {
            "line": {
             "colorbar": {
              "outlinewidth": 0,
              "ticks": ""
             }
            },
            "marker": {
             "colorbar": {
              "outlinewidth": 0,
              "ticks": ""
             }
            },
            "type": "scatter3d"
           }
          ],
          "scattercarpet": [
           {
            "marker": {
             "colorbar": {
              "outlinewidth": 0,
              "ticks": ""
             }
            },
            "type": "scattercarpet"
           }
          ],
          "scattergeo": [
           {
            "marker": {
             "colorbar": {
              "outlinewidth": 0,
              "ticks": ""
             }
            },
            "type": "scattergeo"
           }
          ],
          "scattergl": [
           {
            "marker": {
             "colorbar": {
              "outlinewidth": 0,
              "ticks": ""
             }
            },
            "type": "scattergl"
           }
          ],
          "scattermapbox": [
           {
            "marker": {
             "colorbar": {
              "outlinewidth": 0,
              "ticks": ""
             }
            },
            "type": "scattermapbox"
           }
          ],
          "scatterpolar": [
           {
            "marker": {
             "colorbar": {
              "outlinewidth": 0,
              "ticks": ""
             }
            },
            "type": "scatterpolar"
           }
          ],
          "scatterpolargl": [
           {
            "marker": {
             "colorbar": {
              "outlinewidth": 0,
              "ticks": ""
             }
            },
            "type": "scatterpolargl"
           }
          ],
          "scatterternary": [
           {
            "marker": {
             "colorbar": {
              "outlinewidth": 0,
              "ticks": ""
             }
            },
            "type": "scatterternary"
           }
          ],
          "surface": [
           {
            "colorbar": {
             "outlinewidth": 0,
             "ticks": ""
            },
            "colorscale": [
             [
              0,
              "#0d0887"
             ],
             [
              0.1111111111111111,
              "#46039f"
             ],
             [
              0.2222222222222222,
              "#7201a8"
             ],
             [
              0.3333333333333333,
              "#9c179e"
             ],
             [
              0.4444444444444444,
              "#bd3786"
             ],
             [
              0.5555555555555556,
              "#d8576b"
             ],
             [
              0.6666666666666666,
              "#ed7953"
             ],
             [
              0.7777777777777778,
              "#fb9f3a"
             ],
             [
              0.8888888888888888,
              "#fdca26"
             ],
             [
              1,
              "#f0f921"
             ]
            ],
            "type": "surface"
           }
          ],
          "table": [
           {
            "cells": {
             "fill": {
              "color": "#EBF0F8"
             },
             "line": {
              "color": "white"
             }
            },
            "header": {
             "fill": {
              "color": "#C8D4E3"
             },
             "line": {
              "color": "white"
             }
            },
            "type": "table"
           }
          ]
         },
         "layout": {
          "annotationdefaults": {
           "arrowcolor": "#2a3f5f",
           "arrowhead": 0,
           "arrowwidth": 1
          },
          "autotypenumbers": "strict",
          "coloraxis": {
           "colorbar": {
            "outlinewidth": 0,
            "ticks": ""
           }
          },
          "colorscale": {
           "diverging": [
            [
             0,
             "#8e0152"
            ],
            [
             0.1,
             "#c51b7d"
            ],
            [
             0.2,
             "#de77ae"
            ],
            [
             0.3,
             "#f1b6da"
            ],
            [
             0.4,
             "#fde0ef"
            ],
            [
             0.5,
             "#f7f7f7"
            ],
            [
             0.6,
             "#e6f5d0"
            ],
            [
             0.7,
             "#b8e186"
            ],
            [
             0.8,
             "#7fbc41"
            ],
            [
             0.9,
             "#4d9221"
            ],
            [
             1,
             "#276419"
            ]
           ],
           "sequential": [
            [
             0,
             "#0d0887"
            ],
            [
             0.1111111111111111,
             "#46039f"
            ],
            [
             0.2222222222222222,
             "#7201a8"
            ],
            [
             0.3333333333333333,
             "#9c179e"
            ],
            [
             0.4444444444444444,
             "#bd3786"
            ],
            [
             0.5555555555555556,
             "#d8576b"
            ],
            [
             0.6666666666666666,
             "#ed7953"
            ],
            [
             0.7777777777777778,
             "#fb9f3a"
            ],
            [
             0.8888888888888888,
             "#fdca26"
            ],
            [
             1,
             "#f0f921"
            ]
           ],
           "sequentialminus": [
            [
             0,
             "#0d0887"
            ],
            [
             0.1111111111111111,
             "#46039f"
            ],
            [
             0.2222222222222222,
             "#7201a8"
            ],
            [
             0.3333333333333333,
             "#9c179e"
            ],
            [
             0.4444444444444444,
             "#bd3786"
            ],
            [
             0.5555555555555556,
             "#d8576b"
            ],
            [
             0.6666666666666666,
             "#ed7953"
            ],
            [
             0.7777777777777778,
             "#fb9f3a"
            ],
            [
             0.8888888888888888,
             "#fdca26"
            ],
            [
             1,
             "#f0f921"
            ]
           ]
          },
          "colorway": [
           "#636efa",
           "#EF553B",
           "#00cc96",
           "#ab63fa",
           "#FFA15A",
           "#19d3f3",
           "#FF6692",
           "#B6E880",
           "#FF97FF",
           "#FECB52"
          ],
          "font": {
           "color": "#2a3f5f"
          },
          "geo": {
           "bgcolor": "white",
           "lakecolor": "white",
           "landcolor": "#E5ECF6",
           "showlakes": true,
           "showland": true,
           "subunitcolor": "white"
          },
          "hoverlabel": {
           "align": "left"
          },
          "hovermode": "closest",
          "mapbox": {
           "style": "light"
          },
          "paper_bgcolor": "white",
          "plot_bgcolor": "#E5ECF6",
          "polar": {
           "angularaxis": {
            "gridcolor": "white",
            "linecolor": "white",
            "ticks": ""
           },
           "bgcolor": "#E5ECF6",
           "radialaxis": {
            "gridcolor": "white",
            "linecolor": "white",
            "ticks": ""
           }
          },
          "scene": {
           "xaxis": {
            "backgroundcolor": "#E5ECF6",
            "gridcolor": "white",
            "gridwidth": 2,
            "linecolor": "white",
            "showbackground": true,
            "ticks": "",
            "zerolinecolor": "white"
           },
           "yaxis": {
            "backgroundcolor": "#E5ECF6",
            "gridcolor": "white",
            "gridwidth": 2,
            "linecolor": "white",
            "showbackground": true,
            "ticks": "",
            "zerolinecolor": "white"
           },
           "zaxis": {
            "backgroundcolor": "#E5ECF6",
            "gridcolor": "white",
            "gridwidth": 2,
            "linecolor": "white",
            "showbackground": true,
            "ticks": "",
            "zerolinecolor": "white"
           }
          },
          "shapedefaults": {
           "line": {
            "color": "#2a3f5f"
           }
          },
          "ternary": {
           "aaxis": {
            "gridcolor": "white",
            "linecolor": "white",
            "ticks": ""
           },
           "baxis": {
            "gridcolor": "white",
            "linecolor": "white",
            "ticks": ""
           },
           "bgcolor": "#E5ECF6",
           "caxis": {
            "gridcolor": "white",
            "linecolor": "white",
            "ticks": ""
           }
          },
          "title": {
           "x": 0.05
          },
          "xaxis": {
           "automargin": true,
           "gridcolor": "white",
           "linecolor": "white",
           "ticks": "",
           "title": {
            "standoff": 15
           },
           "zerolinecolor": "white",
           "zerolinewidth": 2
          },
          "yaxis": {
           "automargin": true,
           "gridcolor": "white",
           "linecolor": "white",
           "ticks": "",
           "title": {
            "standoff": 15
           },
           "zerolinecolor": "white",
           "zerolinewidth": 2
          }
         }
        },
        "title": {
         "text": "Analysis in Age on Survival Status"
        },
        "xaxis": {
         "anchor": "y2",
         "domain": [
          0,
          1
         ],
         "zeroline": false
        },
        "yaxis": {
         "anchor": "free",
         "domain": [
          0.35,
          1
         ],
         "position": 0
        },
        "yaxis2": {
         "anchor": "x",
         "domain": [
          0,
          0.25
         ],
         "dtick": 1,
         "showticklabels": false
        }
       }
      }
     },
     "metadata": {},
     "output_type": "display_data"
    }
   ],
   "source": [
    "surv = df_clean[df_clean[\"death_event\"]==0][\"age\"]\n",
    "not_surv = df_clean[df_clean[\"death_event\"]==1][\"age\"]\n",
    "hist_data = [surv,not_surv]\n",
    "group_labels = ['Survived', 'Not Survived']\n",
    "fig = ff.create_distplot(hist_data, group_labels, bin_size=0.5)\n",
    "fig.update_layout(\n",
    "    title_text=\"Analysis in Age on Survival Status\")\n",
    "fig.show()"
   ]
  },
  {
   "cell_type": "markdown",
   "metadata": {},
   "source": [
    "**Keterangan**\n",
    "<br>\n",
    "Tingkat keselamatan lebih tinggi di umur 40 - 70 tahun, lalu menurun di atas umur 70 tahun."
   ]
  },
  {
   "cell_type": "code",
   "execution_count": 30,
   "metadata": {},
   "outputs": [
    {
     "data": {
      "application/vnd.plotly.v1+json": {
       "config": {
        "plotlyServerURL": "https://plot.ly"
       },
       "data": [
        {
         "alignmentgroup": "True",
         "box": {
          "visible": true
         },
         "customdata": [
          [
           0,
           582,
           0,
           20,
           1,
           265000,
           1.9,
           130,
           0,
           4,
           1
          ],
          [
           0,
           7861,
           0,
           38,
           0,
           263358.03,
           1.1,
           136,
           0,
           6,
           1
          ],
          [
           0,
           146,
           0,
           20,
           0,
           162000,
           1.3,
           129,
           1,
           7,
           1
          ],
          [
           1,
           111,
           0,
           20,
           0,
           210000,
           1.9,
           137,
           0,
           7,
           1
          ],
          [
           1,
           160,
           1,
           20,
           0,
           327000,
           2.7,
           116,
           0,
           8,
           1
          ],
          [
           1,
           47,
           0,
           40,
           1,
           204000,
           2.1,
           132,
           1,
           8,
           1
          ],
          [
           1,
           246,
           0,
           15,
           0,
           127000,
           1.2,
           137,
           0,
           10,
           1
          ],
          [
           1,
           315,
           1,
           60,
           0,
           454000,
           1.1,
           131,
           1,
           10,
           1
          ],
          [
           0,
           157,
           0,
           65,
           0,
           263358.03,
           1.5,
           138,
           0,
           10,
           1
          ],
          [
           1,
           123,
           0,
           35,
           1,
           388000,
           9.4,
           133,
           1,
           10,
           1
          ],
          [
           1,
           81,
           0,
           38,
           1,
           368000,
           4,
           131,
           1,
           10,
           1
          ],
          [
           0,
           231,
           0,
           25,
           1,
           253000,
           0.9,
           140,
           1,
           10,
           1
          ],
          [
           1,
           981,
           0,
           30,
           0,
           136000,
           1.1,
           137,
           0,
           11,
           1
          ],
          [
           1,
           168,
           0,
           38,
           1,
           276000,
           1.1,
           137,
           0,
           11,
           1
          ],
          [
           1,
           379,
           0,
           50,
           0,
           47000,
           1.3,
           136,
           0,
           13,
           1
          ],
          [
           1,
           149,
           0,
           38,
           0,
           262000,
           0.9,
           140,
           0,
           14,
           1
          ],
          [
           0,
           582,
           0,
           14,
           0,
           166000,
           0.8,
           127,
           0,
           14,
           1
          ],
          [
           1,
           125,
           0,
           25,
           1,
           237000,
           1,
           140,
           0,
           15,
           1
          ],
          [
           1,
           582,
           1,
           55,
           0,
           87000,
           1.9,
           121,
           0,
           15,
           1
          ],
          [
           1,
           128,
           1,
           30,
           1,
           297000,
           1.6,
           136,
           0,
           20,
           1
          ],
          [
           1,
           220,
           0,
           35,
           1,
           289000,
           0.9,
           140,
           1,
           20,
           1
          ],
          [
           0,
           582,
           1,
           30,
           1,
           263358.03,
           1.83,
           134,
           0,
           23,
           1
          ],
          [
           0,
           148,
           1,
           38,
           0,
           149000,
           1.9,
           144,
           1,
           23,
           1
          ],
          [
           1,
           112,
           0,
           40,
           1,
           196000,
           1,
           138,
           0,
           24,
           1
          ],
          [
           0,
           122,
           1,
           45,
           1,
           284000,
           1.3,
           136,
           1,
           26,
           1
          ],
          [
           1,
           60,
           0,
           38,
           0,
           153000,
           5.8,
           134,
           0,
           26,
           1
          ],
          [
           0,
           70,
           1,
           30,
           0,
           200000,
           1.2,
           132,
           1,
           26,
           1
          ],
          [
           0,
           582,
           1,
           38,
           1,
           263358.03,
           1.83,
           134,
           0,
           27,
           1
          ],
          [
           0,
           23,
           0,
           45,
           0,
           360000,
           3,
           132,
           0,
           28,
           1
          ],
          [
           1,
           249,
           1,
           35,
           1,
           319000,
           1,
           128,
           0,
           28,
           1
          ],
          [
           0,
           94,
           1,
           50,
           1,
           188000,
           1,
           140,
           0,
           29,
           1
          ],
          [
           0,
           582,
           1,
           35,
           0,
           228000,
           3.5,
           134,
           0,
           30,
           1
          ],
          [
           1,
           60,
           1,
           50,
           0,
           226000,
           1,
           134,
           0,
           30,
           1
          ],
          [
           1,
           855,
           1,
           50,
           1,
           321000,
           1,
           145,
           0,
           30,
           1
          ],
          [
           0,
           235,
           1,
           38,
           0,
           329000,
           3,
           142,
           0,
           30,
           1
          ],
          [
           0,
           582,
           0,
           20,
           1,
           263358.03,
           1.83,
           134,
           1,
           31,
           1
          ],
          [
           0,
           124,
           1,
           30,
           1,
           153000,
           1.2,
           136,
           1,
           32,
           1
          ],
          [
           0,
           571,
           1,
           45,
           1,
           185000,
           1.2,
           139,
           1,
           33,
           1
          ],
          [
           1,
           588,
           1,
           60,
           0,
           194000,
           1.1,
           142,
           0,
           33,
           1
          ],
          [
           0,
           582,
           1,
           38,
           0,
           310000,
           1.9,
           135,
           1,
           35,
           1
          ],
          [
           0,
           1380,
           0,
           25,
           1,
           271000,
           0.9,
           130,
           0,
           38,
           1
          ],
          [
           0,
           582,
           1,
           38,
           1,
           451000,
           0.6,
           138,
           1,
           40,
           1
          ],
          [
           1,
           553,
           0,
           20,
           1,
           140000,
           4.4,
           133,
           0,
           41,
           1
          ],
          [
           1,
           129,
           0,
           30,
           0,
           395000,
           1,
           140,
           0,
           42,
           1
          ],
          [
           1,
           577,
           0,
           25,
           1,
           166000,
           1,
           138,
           0,
           43,
           1
          ],
          [
           1,
           91,
           0,
           20,
           1,
           418000,
           1.4,
           139,
           0,
           43,
           1
          ],
          [
           0,
           3964,
           1,
           62,
           0,
           263358.03,
           6.8,
           146,
           0,
           43,
           1
          ],
          [
           1,
           69,
           1,
           50,
           1,
           351000,
           1,
           134,
           0,
           44,
           1
          ],
          [
           1,
           260,
           1,
           38,
           0,
           255000,
           2.2,
           132,
           1,
           45,
           1
          ],
          [
           1,
           371,
           0,
           30,
           0,
           461000,
           2,
           132,
           0,
           50,
           1
          ],
          [
           0,
           789,
           0,
           20,
           1,
           319000,
           1.1,
           136,
           1,
           55,
           1
          ],
          [
           0,
           364,
           1,
           20,
           1,
           254000,
           1.3,
           136,
           1,
           59,
           1
          ],
          [
           0,
           7702,
           1,
           25,
           1,
           390000,
           1,
           139,
           0,
           60,
           1
          ],
          [
           0,
           318,
           0,
           40,
           1,
           216000,
           2.3,
           131,
           0,
           60,
           1
          ],
          [
           0,
           582,
           0,
           35,
           0,
           385000,
           1,
           145,
           0,
           61,
           1
          ],
          [
           0,
           68,
           0,
           20,
           0,
           119000,
           2.9,
           127,
           1,
           64,
           1
          ],
          [
           1,
           250,
           1,
           15,
           0,
           213000,
           1.3,
           136,
           0,
           65,
           1
          ],
          [
           1,
           110,
           0,
           25,
           0,
           274000,
           1,
           140,
           1,
           65,
           1
          ],
          [
           0,
           161,
           0,
           25,
           0,
           244000,
           1.2,
           142,
           0,
           66,
           1
          ],
          [
           0,
           113,
           1,
           25,
           0,
           497000,
           1.83,
           135,
           0,
           67,
           1
          ],
          [
           0,
           5882,
           0,
           35,
           0,
           243000,
           1,
           132,
           1,
           72,
           1
          ],
          [
           0,
           582,
           0,
           20,
           0,
           266000,
           1.2,
           134,
           1,
           73,
           1
          ],
          [
           1,
           47,
           0,
           20,
           0,
           204000,
           0.7,
           139,
           1,
           73,
           1
          ],
          [
           1,
           76,
           1,
           25,
           0,
           196000,
           2.5,
           132,
           0,
           77,
           1
          ],
          [
           1,
           280,
           1,
           25,
           1,
           302000,
           1,
           141,
           0,
           78,
           1
          ],
          [
           1,
           154,
           0,
           25,
           0,
           210000,
           1.7,
           135,
           0,
           82,
           1
          ],
          [
           1,
           328,
           0,
           30,
           1,
           621000,
           1.7,
           138,
           1,
           88,
           1
          ],
          [
           0,
           129,
           0,
           60,
           0,
           306000,
           1.2,
           132,
           1,
           90,
           1
          ],
          [
           1,
           143,
           0,
           60,
           0,
           351000,
           1.3,
           137,
           0,
           90,
           1
          ],
          [
           0,
           582,
           0,
           38,
           0,
           263358.03,
           1.83,
           134,
           0,
           95,
           1
          ],
          [
           0,
           582,
           0,
           40,
           0,
           217000,
           3.7,
           134,
           0,
           96,
           1
          ],
          [
           0,
           168,
           1,
           17,
           1,
           271000,
           2.1,
           124,
           0,
           100,
           1
          ],
          [
           0,
           805,
           0,
           38,
           0,
           263358.03,
           1.1,
           134,
           0,
           109,
           1
          ],
          [
           1,
           943,
           0,
           25,
           1,
           338000,
           1.7,
           139,
           1,
           111,
           1
          ],
          [
           1,
           582,
           0,
           30,
           0,
           225000,
           1.83,
           134,
           0,
           113,
           1
          ],
          [
           0,
           233,
           0,
           45,
           1,
           235000,
           2.5,
           135,
           0,
           115,
           1
          ],
          [
           1,
           2334,
           1,
           35,
           0,
           75000,
           0.9,
           142,
           0,
           126,
           1
          ],
          [
           0,
           2442,
           1,
           30,
           0,
           334000,
           1.1,
           139,
           0,
           129,
           1
          ],
          [
           0,
           776,
           1,
           38,
           1,
           192000,
           1.3,
           135,
           0,
           130,
           1
          ],
          [
           0,
           66,
           1,
           20,
           0,
           70000,
           2.4,
           134,
           0,
           135,
           1
          ],
          [
           1,
           176,
           1,
           25,
           0,
           221000,
           1,
           136,
           1,
           150,
           1
          ],
          [
           0,
           395,
           1,
           25,
           0,
           265000,
           1.2,
           136,
           1,
           154,
           1
          ],
          [
           0,
           99,
           0,
           38,
           1,
           224000,
           2.5,
           134,
           0,
           162,
           1
          ],
          [
           1,
           145,
           0,
           25,
           0,
           219000,
           1.2,
           137,
           1,
           170,
           1
          ],
          [
           1,
           104,
           1,
           30,
           0,
           389000,
           1.5,
           136,
           0,
           171,
           1
          ],
          [
           0,
           582,
           0,
           50,
           0,
           153000,
           0.6,
           134,
           0,
           172,
           1
          ],
          [
           0,
           1896,
           1,
           25,
           0,
           365000,
           2.1,
           144,
           0,
           172,
           1
          ],
          [
           0,
           582,
           0,
           20,
           1,
           126000,
           1.6,
           135,
           0,
           180,
           1
          ],
          [
           1,
           418,
           0,
           45,
           0,
           223000,
           1.8,
           145,
           0,
           180,
           1
          ],
          [
           1,
           131,
           1,
           30,
           1,
           244000,
           1.6,
           130,
           0,
           193,
           1
          ],
          [
           1,
           427,
           0,
           70,
           1,
           151000,
           9,
           137,
           0,
           196,
           1
          ],
          [
           0,
           582,
           0,
           20,
           0,
           263358.03,
           1.83,
           134,
           0,
           198,
           1
          ],
          [
           0,
           166,
           0,
           30,
           0,
           62000,
           1.7,
           127,
           0,
           207,
           1
          ],
          [
           0,
           2017,
           0,
           25,
           0,
           314000,
           1.1,
           138,
           0,
           214,
           1
          ],
          [
           1,
           258,
           1,
           25,
           0,
           198000,
           1.4,
           129,
           0,
           235,
           1
          ],
          [
           0,
           1199,
           0,
           20,
           0,
           263358.03,
           1.83,
           134,
           1,
           241,
           1
          ]
         ],
         "hovertemplate": "death_event=%{customdata[10]}<br>sex=%{x}<br>age=%{y}<br>anaemia=%{customdata[0]}<br>cpk_level=%{customdata[1]}<br>diabetes=%{customdata[2]}<br>ejection_fraction=%{customdata[3]}<br>high_blood_pressure=%{customdata[4]}<br>platelets=%{customdata[5]}<br>serum_creatinine=%{customdata[6]}<br>serum_sodium=%{customdata[7]}<br>smoking=%{customdata[8]}<br>time=%{customdata[9]}<extra></extra>",
         "legendgroup": "1",
         "marker": {
          "color": "#636efa"
         },
         "name": "1",
         "offsetgroup": "1",
         "orientation": "v",
         "points": "all",
         "scalegroup": "True",
         "showlegend": true,
         "type": "violin",
         "x": [
          1,
          1,
          1,
          1,
          0,
          1,
          1,
          1,
          0,
          1,
          1,
          1,
          1,
          1,
          1,
          1,
          1,
          0,
          0,
          0,
          1,
          0,
          1,
          0,
          1,
          1,
          1,
          1,
          1,
          0,
          1,
          1,
          1,
          0,
          0,
          1,
          0,
          1,
          0,
          1,
          1,
          1,
          1,
          0,
          1,
          0,
          0,
          0,
          0,
          1,
          1,
          1,
          1,
          0,
          1,
          1,
          0,
          1,
          0,
          1,
          1,
          1,
          1,
          0,
          0,
          1,
          0,
          1,
          0,
          0,
          1,
          0,
          1,
          1,
          1,
          0,
          0,
          1,
          0,
          1,
          1,
          1,
          1,
          1,
          1,
          0,
          0,
          1,
          1,
          0,
          0,
          1,
          0,
          1,
          1,
          1
         ],
         "x0": " ",
         "xaxis": "x",
         "y": [
          75,
          55,
          65,
          50,
          65,
          90,
          75,
          60,
          65,
          80,
          75,
          62,
          45,
          50,
          82,
          87,
          45,
          70,
          48,
          65,
          68,
          75,
          80,
          95,
          70,
          58,
          82,
          94,
          85,
          50,
          65,
          69,
          90,
          82,
          60,
          70,
          50,
          70,
          60,
          50,
          51,
          60,
          80,
          57,
          68,
          53,
          60,
          70,
          60,
          95,
          49,
          72,
          45,
          50,
          45,
          60,
          42,
          72,
          70,
          65,
          85,
          69,
          60,
          60,
          59,
          60,
          72,
          85,
          70,
          86,
          60,
          46,
          80,
          72,
          75,
          72,
          50,
          45,
          80,
          59,
          59,
          65,
          75,
          58,
          60.667,
          50,
          60,
          45,
          77,
          48,
          54,
          73,
          60,
          55,
          65,
          55
         ],
         "y0": " ",
         "yaxis": "y"
        },
        {
         "alignmentgroup": "True",
         "box": {
          "visible": true
         },
         "customdata": [
          [
           1,
           80,
           0,
           30,
           1,
           427000,
           1,
           138,
           0,
           12,
           0
          ],
          [
           1,
           52,
           0,
           25,
           1,
           276000,
           1.3,
           137,
           0,
           16,
           0
          ],
          [
           0,
           63,
           1,
           60,
           0,
           368000,
           0.8,
           135,
           0,
           22,
           0
          ],
          [
           1,
           159,
           1,
           30,
           0,
           302000,
           1.2,
           138,
           0,
           29,
           0
          ],
          [
           0,
           2656,
           1,
           30,
           0,
           305000,
           2.3,
           137,
           0,
           30,
           0
          ],
          [
           0,
           127,
           1,
           50,
           1,
           218000,
           1,
           134,
           0,
           33,
           0
          ],
          [
           1,
           75,
           0,
           35,
           0,
           223000,
           2.7,
           138,
           1,
           54,
           0
          ],
          [
           1,
           607,
           0,
           40,
           0,
           216000,
           0.6,
           138,
           1,
           54,
           0
          ],
          [
           0,
           109,
           0,
           35,
           0,
           254000,
           1.1,
           139,
           1,
           60,
           0
          ],
          [
           0,
           582,
           0,
           80,
           0,
           263358.03,
           1.18,
           137,
           0,
           63,
           0
          ],
          [
           0,
           148,
           0,
           40,
           0,
           374000,
           0.8,
           140,
           1,
           68,
           0
          ],
          [
           0,
           582,
           1,
           35,
           0,
           122000,
           0.9,
           139,
           1,
           71,
           0
          ],
          [
           0,
           224,
           1,
           50,
           0,
           149000,
           1.3,
           137,
           1,
           72,
           0
          ],
          [
           0,
           92,
           0,
           60,
           1,
           317000,
           0.8,
           140,
           1,
           74,
           0
          ],
          [
           0,
           102,
           1,
           40,
           0,
           237000,
           1.2,
           140,
           0,
           74,
           0
          ],
          [
           1,
           203,
           1,
           38,
           1,
           283000,
           0.6,
           131,
           1,
           74,
           0
          ],
          [
           0,
           336,
           0,
           45,
           1,
           324000,
           0.9,
           140,
           0,
           74,
           0
          ],
          [
           0,
           69,
           0,
           40,
           0,
           293000,
           1.7,
           136,
           0,
           75,
           0
          ],
          [
           0,
           582,
           0,
           50,
           0,
           263358.03,
           1.18,
           137,
           1,
           76,
           0
          ],
          [
           1,
           55,
           0,
           50,
           1,
           172000,
           1.8,
           133,
           0,
           78,
           0
          ],
          [
           0,
           78,
           0,
           50,
           0,
           406000,
           0.7,
           140,
           0,
           79,
           0
          ],
          [
           0,
           47,
           0,
           35,
           1,
           173000,
           1.1,
           137,
           0,
           79,
           0
          ],
          [
           1,
           68,
           1,
           60,
           1,
           304000,
           0.8,
           140,
           0,
           79,
           0
          ],
          [
           0,
           84,
           1,
           40,
           1,
           235000,
           0.7,
           139,
           0,
           79,
           0
          ],
          [
           1,
           115,
           0,
           25,
           1,
           181000,
           1.1,
           144,
           0,
           79,
           0
          ],
          [
           0,
           66,
           1,
           45,
           0,
           249000,
           0.8,
           136,
           1,
           80,
           0
          ],
          [
           0,
           897,
           1,
           45,
           0,
           297000,
           1,
           133,
           0,
           80,
           0
          ],
          [
           0,
           582,
           0,
           60,
           0,
           263358.03,
           1.18,
           137,
           0,
           82,
           0
          ],
          [
           0,
           144,
           1,
           38,
           1,
           327000,
           0.7,
           142,
           0,
           83,
           0
          ],
          [
           1,
           133,
           0,
           60,
           1,
           219000,
           1,
           141,
           0,
           83,
           0
          ],
          [
           1,
           514,
           1,
           25,
           1,
           254000,
           1.3,
           134,
           0,
           83,
           0
          ],
          [
           1,
           59,
           0,
           60,
           0,
           255000,
           1.1,
           136,
           0,
           85,
           0
          ],
          [
           1,
           156,
           1,
           25,
           1,
           318000,
           1.2,
           137,
           0,
           85,
           0
          ],
          [
           1,
           61,
           1,
           40,
           0,
           221000,
           1.1,
           140,
           0,
           86,
           0
          ],
          [
           1,
           305,
           0,
           25,
           0,
           298000,
           1.1,
           141,
           0,
           87,
           0
          ],
          [
           0,
           582,
           0,
           45,
           1,
           263358.03,
           1.18,
           137,
           0,
           87,
           0
          ],
          [
           0,
           898,
           0,
           25,
           0,
           149000,
           1.1,
           144,
           1,
           87,
           0
          ],
          [
           0,
           5209,
           0,
           30,
           0,
           226000,
           1,
           140,
           1,
           87,
           0
          ],
          [
           0,
           53,
           0,
           50,
           1,
           286000,
           2.3,
           143,
           0,
           87,
           0
          ],
          [
           0,
           748,
           0,
           45,
           0,
           263000,
           1.3,
           137,
           0,
           88,
           0
          ],
          [
           1,
           1876,
           1,
           35,
           0,
           226000,
           0.9,
           138,
           0,
           88,
           0
          ],
          [
           0,
           936,
           0,
           38,
           0,
           304000,
           1.1,
           133,
           1,
           88,
           0
          ],
          [
           0,
           292,
           1,
           35,
           0,
           850000,
           1.3,
           142,
           1,
           88,
           0
          ],
          [
           0,
           60,
           0,
           35,
           0,
           228000,
           1.2,
           135,
           1,
           90,
           0
          ],
          [
           0,
           369,
           1,
           25,
           0,
           252000,
           1.6,
           136,
           0,
           90,
           0
          ],
          [
           1,
           754,
           1,
           40,
           1,
           328000,
           1.2,
           126,
           0,
           91,
           0
          ],
          [
           1,
           400,
           0,
           40,
           0,
           164000,
           1,
           139,
           0,
           91,
           0
          ],
          [
           1,
           96,
           1,
           60,
           1,
           271000,
           0.7,
           136,
           0,
           94,
           0
          ],
          [
           1,
           102,
           0,
           60,
           0,
           507000,
           3.2,
           138,
           0,
           94,
           0
          ],
          [
           1,
           113,
           1,
           60,
           1,
           203000,
           0.9,
           140,
           0,
           94,
           0
          ],
          [
           1,
           737,
           0,
           60,
           1,
           210000,
           1.5,
           135,
           1,
           95,
           0
          ],
          [
           1,
           68,
           1,
           38,
           1,
           162000,
           1,
           136,
           0,
           95,
           0
          ],
          [
           0,
           96,
           1,
           38,
           0,
           228000,
           0.75,
           140,
           0,
           95,
           0
          ],
          [
           1,
           582,
           0,
           30,
           1,
           127000,
           0.9,
           145,
           0,
           95,
           0
          ],
          [
           1,
           358,
           0,
           50,
           0,
           237000,
           1.3,
           135,
           0,
           97,
           0
          ],
          [
           1,
           200,
           1,
           60,
           0,
           300000,
           0.8,
           137,
           0,
           104,
           0
          ],
          [
           0,
           248,
           0,
           30,
           1,
           267000,
           0.7,
           136,
           1,
           104,
           0
          ],
          [
           1,
           270,
           1,
           35,
           0,
           227000,
           3.4,
           145,
           0,
           105,
           0
          ],
          [
           1,
           1808,
           0,
           60,
           1,
           249000,
           0.7,
           138,
           1,
           106,
           0
          ],
          [
           1,
           1082,
           1,
           45,
           0,
           250000,
           6.1,
           131,
           0,
           107,
           0
          ],
          [
           0,
           719,
           0,
           40,
           1,
           263358.03,
           1.18,
           137,
           0,
           107,
           0
          ],
          [
           0,
           193,
           0,
           60,
           1,
           295000,
           1.3,
           145,
           1,
           107,
           0
          ],
          [
           0,
           4540,
           0,
           35,
           0,
           231000,
           1.18,
           137,
           1,
           107,
           0
          ],
          [
           0,
           582,
           0,
           40,
           0,
           263358.03,
           1.18,
           137,
           0,
           107,
           0
          ],
          [
           1,
           59,
           1,
           60,
           0,
           172000,
           0.9,
           137,
           0,
           107,
           0
          ],
          [
           1,
           646,
           0,
           25,
           0,
           305000,
           2.1,
           130,
           0,
           108,
           0
          ],
          [
           0,
           281,
           1,
           35,
           0,
           221000,
           1,
           136,
           0,
           108,
           0
          ],
          [
           0,
           1548,
           0,
           30,
           1,
           211000,
           0.8,
           138,
           0,
           108,
           0
          ],
          [
           1,
           291,
           0,
           35,
           0,
           348000,
           0.9,
           140,
           0,
           109,
           0
          ],
          [
           0,
           482,
           1,
           30,
           0,
           329000,
           0.9,
           132,
           0,
           109,
           0
          ],
          [
           1,
           84,
           0,
           40,
           1,
           229000,
           0.9,
           141,
           0,
           110,
           0
          ],
          [
           0,
           185,
           0,
           30,
           0,
           266000,
           0.7,
           141,
           1,
           112,
           0
          ],
          [
           0,
           132,
           0,
           30,
           0,
           218000,
           0.7,
           136,
           1,
           112,
           0
          ],
          [
           0,
           1610,
           0,
           60,
           0,
           242000,
           1,
           137,
           0,
           113,
           0
          ],
          [
           0,
           2261,
           0,
           35,
           1,
           228000,
           0.9,
           136,
           0,
           115,
           0
          ],
          [
           0,
           30,
           1,
           60,
           1,
           244000,
           0.9,
           139,
           0,
           117,
           0
          ],
          [
           0,
           115,
           0,
           45,
           1,
           184000,
           0.9,
           134,
           1,
           118,
           0
          ],
          [
           0,
           1846,
           1,
           35,
           0,
           263358.03,
           1.18,
           137,
           1,
           119,
           0
          ],
          [
           1,
           335,
           0,
           35,
           1,
           235000,
           0.8,
           136,
           0,
           120,
           0
          ],
          [
           1,
           231,
           1,
           25,
           0,
           194000,
           1.7,
           140,
           0,
           120,
           0
          ],
          [
           1,
           58,
           0,
           35,
           0,
           277000,
           1.4,
           136,
           0,
           120,
           0
          ],
          [
           0,
           250,
           0,
           25,
           0,
           262000,
           1,
           136,
           1,
           120,
           0
          ],
          [
           1,
           910,
           0,
           50,
           0,
           235000,
           1.3,
           134,
           0,
           121,
           0
          ],
          [
           1,
           129,
           0,
           45,
           1,
           362000,
           1.1,
           139,
           1,
           121,
           0
          ],
          [
           1,
           72,
           0,
           40,
           1,
           242000,
           1.2,
           134,
           0,
           121,
           0
          ],
          [
           1,
           130,
           0,
           35,
           0,
           174000,
           0.8,
           139,
           1,
           121,
           0
          ],
          [
           1,
           582,
           0,
           40,
           0,
           448000,
           0.9,
           137,
           1,
           123,
           0
          ],
          [
           0,
           196,
           0,
           60,
           0,
           220000,
           0.7,
           133,
           1,
           134,
           0
          ],
          [
           0,
           582,
           1,
           40,
           0,
           270000,
           1,
           138,
           0,
           140,
           0
          ],
          [
           0,
           835,
           0,
           35,
           1,
           305000,
           0.8,
           133,
           0,
           145,
           0
          ],
          [
           1,
           582,
           1,
           35,
           0,
           263358.03,
           1.5,
           136,
           1,
           145,
           0
          ],
          [
           0,
           3966,
           0,
           40,
           0,
           325000,
           0.9,
           140,
           1,
           146,
           0
          ],
          [
           1,
           171,
           0,
           60,
           1,
           176000,
           1.1,
           145,
           1,
           146,
           0
          ],
          [
           1,
           115,
           0,
           20,
           0,
           189000,
           0.8,
           139,
           0,
           146,
           0
          ],
          [
           0,
           198,
           1,
           35,
           1,
           281000,
           0.9,
           137,
           1,
           146,
           0
          ],
          [
           1,
           95,
           0,
           60,
           0,
           337000,
           1,
           138,
           1,
           146,
           0
          ],
          [
           0,
           1419,
           0,
           40,
           0,
           105000,
           1,
           135,
           1,
           147,
           0
          ],
          [
           1,
           69,
           0,
           50,
           0,
           132000,
           1,
           140,
           0,
           147,
           0
          ],
          [
           1,
           122,
           1,
           60,
           0,
           267000,
           1.2,
           145,
           0,
           147,
           0
          ],
          [
           0,
           835,
           0,
           40,
           0,
           279000,
           0.7,
           140,
           1,
           147,
           0
          ],
          [
           0,
           478,
           1,
           30,
           0,
           303000,
           0.9,
           136,
           0,
           148,
           0
          ],
          [
           1,
           151,
           1,
           40,
           1,
           201000,
           1,
           136,
           0,
           172,
           0
          ],
          [
           0,
           244,
           0,
           45,
           1,
           275000,
           0.9,
           140,
           0,
           174,
           0
          ],
          [
           0,
           582,
           1,
           35,
           0,
           350000,
           2.1,
           134,
           0,
           174,
           0
          ],
          [
           1,
           62,
           0,
           60,
           0,
           309000,
           1.5,
           135,
           0,
           174,
           0
          ],
          [
           1,
           121,
           1,
           40,
           0,
           260000,
           0.7,
           130,
           0,
           175,
           0
          ],
          [
           1,
           231,
           1,
           30,
           0,
           160000,
           1.18,
           142,
           1,
           180,
           0
          ],
          [
           0,
           582,
           1,
           38,
           1,
           263358.03,
           1.18,
           137,
           0,
           185,
           0
          ],
          [
           0,
           167,
           0,
           30,
           0,
           259000,
           0.8,
           138,
           0,
           186,
           0
          ],
          [
           1,
           582,
           1,
           20,
           1,
           279000,
           1,
           134,
           0,
           186,
           0
          ],
          [
           0,
           1211,
           1,
           35,
           0,
           263358.03,
           1.8,
           113,
           1,
           186,
           0
          ],
          [
           1,
           1767,
           0,
           45,
           0,
           73000,
           0.7,
           137,
           0,
           186,
           0
          ],
          [
           0,
           308,
           1,
           60,
           1,
           377000,
           1,
           136,
           0,
           186,
           0
          ],
          [
           0,
           97,
           0,
           60,
           1,
           220000,
           0.9,
           138,
           0,
           186,
           0
          ],
          [
           0,
           59,
           0,
           25,
           1,
           212000,
           3.5,
           136,
           1,
           187,
           0
          ],
          [
           1,
           64,
           0,
           40,
           0,
           277000,
           0.7,
           137,
           1,
           187,
           0
          ],
          [
           1,
           167,
           1,
           45,
           0,
           362000,
           1,
           136,
           0,
           187,
           0
          ],
          [
           1,
           101,
           0,
           40,
           0,
           226000,
           0.8,
           141,
           0,
           187,
           0
          ],
          [
           0,
           212,
           0,
           38,
           0,
           186000,
           0.9,
           136,
           0,
           187,
           0
          ],
          [
           1,
           2281,
           1,
           40,
           0,
           283000,
           1,
           141,
           0,
           187,
           0
          ],
          [
           0,
           972,
           1,
           35,
           1,
           268000,
           0.8,
           130,
           0,
           187,
           0
          ],
          [
           0,
           212,
           1,
           17,
           1,
           389000,
           1,
           136,
           1,
           188,
           0
          ],
          [
           0,
           582,
           0,
           62,
           1,
           147000,
           0.8,
           140,
           1,
           192,
           0
          ],
          [
           0,
           224,
           0,
           50,
           0,
           481000,
           1.4,
           138,
           1,
           192,
           0
          ],
          [
           1,
           135,
           0,
           35,
           1,
           290000,
           0.8,
           134,
           0,
           194,
           0
          ],
          [
           0,
           582,
           0,
           35,
           1,
           203000,
           1.3,
           134,
           0,
           195,
           0
          ],
          [
           0,
           1202,
           0,
           50,
           1,
           358000,
           0.9,
           141,
           0,
           196,
           0
          ],
          [
           1,
           1021,
           1,
           35,
           0,
           271000,
           1.1,
           134,
           0,
           197,
           0
          ],
          [
           0,
           582,
           1,
           35,
           1,
           371000,
           0.7,
           140,
           0,
           197,
           0
          ],
          [
           0,
           118,
           0,
           50,
           0,
           194000,
           1.1,
           145,
           1,
           200,
           0
          ],
          [
           1,
           86,
           0,
           35,
           0,
           365000,
           1.1,
           139,
           1,
           201,
           0
          ],
          [
           0,
           582,
           0,
           25,
           0,
           130000,
           0.8,
           134,
           0,
           201,
           0
          ],
          [
           0,
           582,
           1,
           25,
           0,
           504000,
           1,
           138,
           0,
           205,
           0
          ],
          [
           0,
           675,
           1,
           60,
           0,
           265000,
           1.4,
           125,
           0,
           205,
           0
          ],
          [
           1,
           57,
           0,
           25,
           0,
           189000,
           1.3,
           132,
           1,
           205,
           0
          ],
          [
           1,
           2794,
           0,
           35,
           1,
           141000,
           1,
           140,
           0,
           206,
           0
          ],
          [
           0,
           56,
           0,
           25,
           0,
           237000,
           5,
           130,
           0,
           207,
           0
          ],
          [
           0,
           211,
           0,
           25,
           0,
           274000,
           1.2,
           134,
           0,
           207,
           0
          ],
          [
           0,
           93,
           0,
           35,
           0,
           185000,
           1.1,
           134,
           1,
           208,
           0
          ],
          [
           1,
           129,
           0,
           35,
           0,
           255000,
           0.9,
           137,
           0,
           209,
           0
          ],
          [
           1,
           707,
           0,
           38,
           0,
           330000,
           1.4,
           137,
           1,
           209,
           0
          ],
          [
           1,
           582,
           0,
           45,
           0,
           305000,
           1.1,
           137,
           1,
           209,
           0
          ],
          [
           1,
           109,
           0,
           50,
           1,
           406000,
           1.1,
           137,
           0,
           209,
           0
          ],
          [
           0,
           119,
           0,
           50,
           1,
           248000,
           1.1,
           148,
           0,
           209,
           0
          ],
          [
           0,
           232,
           0,
           30,
           0,
           173000,
           1.2,
           132,
           0,
           210,
           0
          ],
          [
           1,
           720,
           1,
           40,
           0,
           257000,
           1,
           136,
           0,
           210,
           0
          ],
          [
           1,
           180,
           0,
           45,
           0,
           263358.03,
           1.18,
           137,
           1,
           211,
           0
          ],
          [
           0,
           81,
           1,
           35,
           1,
           533000,
           1.3,
           139,
           0,
           212,
           0
          ],
          [
           0,
           582,
           1,
           30,
           0,
           249000,
           1.3,
           136,
           1,
           212,
           0
          ],
          [
           0,
           90,
           0,
           35,
           0,
           255000,
           1.1,
           136,
           1,
           212,
           0
          ],
          [
           1,
           1185,
           0,
           40,
           1,
           220000,
           0.9,
           141,
           0,
           213,
           0
          ],
          [
           0,
           582,
           1,
           38,
           0,
           264000,
           1.8,
           134,
           0,
           213,
           0
          ],
          [
           1,
           80,
           1,
           38,
           0,
           282000,
           1.4,
           137,
           0,
           213,
           0
          ],
          [
           0,
           143,
           0,
           25,
           0,
           246000,
           2.4,
           135,
           0,
           214,
           0
          ],
          [
           0,
           624,
           0,
           35,
           0,
           301000,
           1,
           142,
           1,
           214,
           0
          ],
          [
           0,
           207,
           1,
           40,
           0,
           223000,
           1.2,
           130,
           0,
           214,
           0
          ],
          [
           0,
           2522,
           0,
           30,
           1,
           404000,
           0.5,
           139,
           0,
           214,
           0
          ],
          [
           0,
           572,
           1,
           35,
           0,
           231000,
           0.8,
           143,
           0,
           215,
           0
          ],
          [
           0,
           245,
           0,
           45,
           1,
           274000,
           1,
           133,
           0,
           215,
           0
          ],
          [
           0,
           88,
           1,
           35,
           1,
           236000,
           1.2,
           132,
           0,
           215,
           0
          ],
          [
           1,
           446,
           0,
           60,
           1,
           263358.03,
           1,
           139,
           0,
           215,
           0
          ],
          [
           1,
           191,
           1,
           30,
           1,
           334000,
           1,
           142,
           1,
           216,
           0
          ],
          [
           0,
           326,
           0,
           38,
           0,
           294000,
           1.7,
           139,
           0,
           220,
           0
          ],
          [
           0,
           132,
           1,
           38,
           1,
           253000,
           1,
           139,
           0,
           230,
           0
          ],
          [
           1,
           66,
           1,
           25,
           0,
           233000,
           0.8,
           135,
           0,
           230,
           0
          ],
          [
           0,
           56,
           0,
           50,
           0,
           308000,
           0.7,
           135,
           1,
           231,
           0
          ],
          [
           0,
           66,
           0,
           40,
           0,
           203000,
           1,
           138,
           0,
           233,
           0
          ],
          [
           1,
           655,
           0,
           40,
           0,
           283000,
           0.7,
           133,
           0,
           233,
           0
          ],
          [
           1,
           157,
           1,
           60,
           0,
           208000,
           1,
           140,
           0,
           237,
           0
          ],
          [
           0,
           582,
           1,
           38,
           0,
           147000,
           1.2,
           141,
           0,
           237,
           0
          ],
          [
           1,
           298,
           0,
           35,
           0,
           362000,
           0.9,
           140,
           1,
           240,
           0
          ],
          [
           1,
           135,
           1,
           38,
           0,
           133000,
           1.7,
           140,
           0,
           244,
           0
          ],
          [
           0,
           582,
           1,
           38,
           0,
           302000,
           0.9,
           140,
           0,
           244,
           0
          ],
          [
           0,
           582,
           1,
           35,
           0,
           222000,
           1,
           132,
           0,
           244,
           0
          ],
          [
           0,
           582,
           1,
           30,
           1,
           263358.03,
           1.6,
           130,
           1,
           244,
           0
          ],
          [
           0,
           582,
           1,
           40,
           0,
           221000,
           0.9,
           134,
           0,
           244,
           0
          ],
          [
           0,
           213,
           0,
           38,
           0,
           215000,
           1.2,
           133,
           0,
           245,
           0
          ],
          [
           0,
           64,
           0,
           40,
           0,
           189000,
           0.7,
           140,
           0,
           245,
           0
          ],
          [
           1,
           257,
           1,
           30,
           0,
           150000,
           1,
           137,
           1,
           245,
           0
          ],
          [
           0,
           582,
           0,
           38,
           1,
           422000,
           0.8,
           137,
           0,
           245,
           0
          ],
          [
           0,
           618,
           0,
           35,
           0,
           327000,
           1.1,
           142,
           0,
           245,
           0
          ],
          [
           0,
           582,
           1,
           38,
           0,
           25100,
           1.1,
           140,
           0,
           246,
           0
          ],
          [
           1,
           1051,
           1,
           30,
           0,
           232000,
           0.7,
           136,
           0,
           246,
           0
          ],
          [
           0,
           84,
           1,
           38,
           0,
           451000,
           1.3,
           136,
           0,
           246,
           0
          ],
          [
           0,
           2695,
           1,
           40,
           0,
           241000,
           1,
           137,
           0,
           247,
           0
          ],
          [
           0,
           582,
           0,
           40,
           0,
           51000,
           2.7,
           136,
           1,
           250,
           0
          ],
          [
           0,
           64,
           0,
           30,
           0,
           215000,
           3.8,
           128,
           1,
           250,
           0
          ],
          [
           0,
           1688,
           0,
           38,
           0,
           263358.03,
           1.1,
           138,
           1,
           250,
           0
          ],
          [
           1,
           54,
           0,
           40,
           0,
           279000,
           0.8,
           141,
           0,
           250,
           0
          ],
          [
           1,
           170,
           1,
           40,
           0,
           336000,
           1.2,
           135,
           0,
           250,
           0
          ],
          [
           0,
           253,
           0,
           35,
           0,
           279000,
           1.7,
           140,
           0,
           250,
           0
          ],
          [
           0,
           582,
           1,
           55,
           0,
           543000,
           1,
           132,
           0,
           250,
           0
          ],
          [
           0,
           892,
           1,
           35,
           0,
           263358.03,
           1.1,
           142,
           0,
           256,
           0
          ],
          [
           1,
           337,
           0,
           38,
           0,
           390000,
           0.9,
           144,
           0,
           256,
           0
          ],
          [
           0,
           615,
           1,
           55,
           0,
           222000,
           0.8,
           141,
           0,
           257,
           0
          ],
          [
           0,
           320,
           0,
           35,
           0,
           133000,
           1.4,
           139,
           0,
           258,
           0
          ],
          [
           0,
           190,
           1,
           38,
           0,
           382000,
           1,
           140,
           1,
           258,
           0
          ],
          [
           1,
           103,
           1,
           35,
           0,
           179000,
           0.9,
           136,
           1,
           270,
           0
          ],
          [
           0,
           61,
           1,
           38,
           1,
           155000,
           1.1,
           143,
           1,
           270,
           0
          ],
          [
           0,
           1820,
           0,
           38,
           0,
           270000,
           1.2,
           139,
           0,
           271,
           0
          ],
          [
           0,
           2060,
           1,
           60,
           0,
           742000,
           0.8,
           138,
           0,
           278,
           0
          ],
          [
           0,
           2413,
           0,
           38,
           0,
           140000,
           1.4,
           140,
           1,
           280,
           0
          ],
          [
           0,
           196,
           0,
           45,
           0,
           395000,
           1.6,
           136,
           1,
           285,
           0
          ]
         ],
         "hovertemplate": "death_event=%{customdata[10]}<br>sex=%{x}<br>age=%{y}<br>anaemia=%{customdata[0]}<br>cpk_level=%{customdata[1]}<br>diabetes=%{customdata[2]}<br>ejection_fraction=%{customdata[3]}<br>high_blood_pressure=%{customdata[4]}<br>platelets=%{customdata[5]}<br>serum_creatinine=%{customdata[6]}<br>serum_sodium=%{customdata[7]}<br>smoking=%{customdata[8]}<br>time=%{customdata[9]}<extra></extra>",
         "legendgroup": "0",
         "marker": {
          "color": "#EF553B"
         },
         "name": "0",
         "offsetgroup": "0",
         "orientation": "v",
         "points": "all",
         "scalegroup": "True",
         "showlegend": true,
         "type": "violin",
         "x": [
          0,
          0,
          1,
          0,
          1,
          1,
          1,
          1,
          1,
          0,
          1,
          1,
          1,
          0,
          1,
          1,
          0,
          0,
          1,
          1,
          1,
          1,
          1,
          1,
          1,
          1,
          1,
          0,
          0,
          1,
          1,
          0,
          0,
          0,
          1,
          1,
          1,
          1,
          0,
          1,
          1,
          1,
          1,
          1,
          1,
          1,
          0,
          0,
          0,
          0,
          1,
          0,
          0,
          0,
          0,
          0,
          1,
          1,
          1,
          1,
          0,
          1,
          1,
          1,
          0,
          1,
          0,
          1,
          0,
          0,
          0,
          1,
          1,
          1,
          1,
          1,
          1,
          1,
          0,
          1,
          0,
          1,
          1,
          1,
          1,
          1,
          1,
          1,
          0,
          0,
          1,
          1,
          1,
          1,
          1,
          1,
          1,
          0,
          1,
          1,
          1,
          0,
          0,
          1,
          0,
          1,
          1,
          0,
          0,
          0,
          1,
          1,
          1,
          1,
          1,
          1,
          0,
          0,
          1,
          0,
          0,
          1,
          1,
          1,
          1,
          1,
          0,
          1,
          0,
          1,
          1,
          1,
          1,
          0,
          1,
          1,
          0,
          0,
          1,
          1,
          1,
          1,
          1,
          1,
          1,
          0,
          1,
          0,
          1,
          1,
          0,
          1,
          1,
          1,
          1,
          0,
          0,
          0,
          1,
          0,
          1,
          1,
          0,
          1,
          1,
          1,
          1,
          0,
          0,
          1,
          1,
          1,
          0,
          1,
          1,
          0,
          0,
          1,
          1,
          0,
          0,
          1,
          0,
          0,
          1,
          1,
          1,
          1,
          1,
          1,
          1,
          0,
          0,
          0,
          0,
          1,
          1,
          1,
          1,
          0,
          0,
          1,
          1
         ],
         "x0": " ",
         "xaxis": "x",
         "y": [
          49,
          65,
          53,
          50,
          60,
          72,
          70,
          60,
          55,
          45,
          41,
          58,
          65,
          70,
          42,
          75,
          55,
          70,
          67,
          79,
          51,
          55,
          65,
          44,
          57,
          70,
          60,
          42,
          58,
          58,
          63,
          70,
          60,
          63,
          65,
          75,
          80,
          42,
          60,
          55,
          45,
          63,
          45,
          55,
          50,
          60,
          58,
          60,
          85,
          65,
          60,
          66,
          60,
          60,
          43,
          58,
          61,
          53,
          53,
          60,
          46,
          63,
          81,
          75,
          65,
          68,
          62,
          50,
          46,
          50,
          61,
          50,
          52,
          64,
          60,
          62,
          50,
          50,
          65,
          60,
          52,
          50,
          85,
          59,
          66,
          45,
          63,
          53,
          65,
          70,
          51,
          52,
          70,
          50,
          65,
          60,
          69,
          49,
          63,
          55,
          40,
          60.667,
          40,
          80,
          64,
          50,
          73,
          45,
          65,
          50,
          60,
          63,
          45,
          70,
          60,
          78,
          50,
          40,
          85,
          60,
          49,
          70,
          50,
          78,
          65,
          73,
          70,
          68,
          55,
          65,
          42,
          47,
          58,
          75,
          58,
          55,
          65,
          72,
          70,
          40,
          53,
          53,
          77,
          75,
          70,
          65,
          55,
          70,
          65,
          40,
          73,
          54,
          61,
          64,
          40,
          53,
          50,
          55,
          50,
          70,
          53,
          52,
          65,
          58,
          45,
          53,
          55,
          62,
          68,
          61,
          50,
          56,
          45,
          40,
          44,
          51,
          67,
          42,
          60,
          45,
          70,
          70,
          50,
          55,
          70,
          70,
          42,
          65,
          50,
          55,
          60,
          45,
          65,
          90,
          45,
          60,
          52,
          63,
          62,
          55,
          45,
          45,
          50
         ],
         "y0": " ",
         "yaxis": "y"
        }
       ],
       "layout": {
        "legend": {
         "title": {
          "text": "death_event"
         },
         "tracegroupgap": 0
        },
        "margin": {
         "t": 60
        },
        "template": {
         "data": {
          "bar": [
           {
            "error_x": {
             "color": "#2a3f5f"
            },
            "error_y": {
             "color": "#2a3f5f"
            },
            "marker": {
             "line": {
              "color": "#E5ECF6",
              "width": 0.5
             },
             "pattern": {
              "fillmode": "overlay",
              "size": 10,
              "solidity": 0.2
             }
            },
            "type": "bar"
           }
          ],
          "barpolar": [
           {
            "marker": {
             "line": {
              "color": "#E5ECF6",
              "width": 0.5
             },
             "pattern": {
              "fillmode": "overlay",
              "size": 10,
              "solidity": 0.2
             }
            },
            "type": "barpolar"
           }
          ],
          "carpet": [
           {
            "aaxis": {
             "endlinecolor": "#2a3f5f",
             "gridcolor": "white",
             "linecolor": "white",
             "minorgridcolor": "white",
             "startlinecolor": "#2a3f5f"
            },
            "baxis": {
             "endlinecolor": "#2a3f5f",
             "gridcolor": "white",
             "linecolor": "white",
             "minorgridcolor": "white",
             "startlinecolor": "#2a3f5f"
            },
            "type": "carpet"
           }
          ],
          "choropleth": [
           {
            "colorbar": {
             "outlinewidth": 0,
             "ticks": ""
            },
            "type": "choropleth"
           }
          ],
          "contour": [
           {
            "colorbar": {
             "outlinewidth": 0,
             "ticks": ""
            },
            "colorscale": [
             [
              0,
              "#0d0887"
             ],
             [
              0.1111111111111111,
              "#46039f"
             ],
             [
              0.2222222222222222,
              "#7201a8"
             ],
             [
              0.3333333333333333,
              "#9c179e"
             ],
             [
              0.4444444444444444,
              "#bd3786"
             ],
             [
              0.5555555555555556,
              "#d8576b"
             ],
             [
              0.6666666666666666,
              "#ed7953"
             ],
             [
              0.7777777777777778,
              "#fb9f3a"
             ],
             [
              0.8888888888888888,
              "#fdca26"
             ],
             [
              1,
              "#f0f921"
             ]
            ],
            "type": "contour"
           }
          ],
          "contourcarpet": [
           {
            "colorbar": {
             "outlinewidth": 0,
             "ticks": ""
            },
            "type": "contourcarpet"
           }
          ],
          "heatmap": [
           {
            "colorbar": {
             "outlinewidth": 0,
             "ticks": ""
            },
            "colorscale": [
             [
              0,
              "#0d0887"
             ],
             [
              0.1111111111111111,
              "#46039f"
             ],
             [
              0.2222222222222222,
              "#7201a8"
             ],
             [
              0.3333333333333333,
              "#9c179e"
             ],
             [
              0.4444444444444444,
              "#bd3786"
             ],
             [
              0.5555555555555556,
              "#d8576b"
             ],
             [
              0.6666666666666666,
              "#ed7953"
             ],
             [
              0.7777777777777778,
              "#fb9f3a"
             ],
             [
              0.8888888888888888,
              "#fdca26"
             ],
             [
              1,
              "#f0f921"
             ]
            ],
            "type": "heatmap"
           }
          ],
          "heatmapgl": [
           {
            "colorbar": {
             "outlinewidth": 0,
             "ticks": ""
            },
            "colorscale": [
             [
              0,
              "#0d0887"
             ],
             [
              0.1111111111111111,
              "#46039f"
             ],
             [
              0.2222222222222222,
              "#7201a8"
             ],
             [
              0.3333333333333333,
              "#9c179e"
             ],
             [
              0.4444444444444444,
              "#bd3786"
             ],
             [
              0.5555555555555556,
              "#d8576b"
             ],
             [
              0.6666666666666666,
              "#ed7953"
             ],
             [
              0.7777777777777778,
              "#fb9f3a"
             ],
             [
              0.8888888888888888,
              "#fdca26"
             ],
             [
              1,
              "#f0f921"
             ]
            ],
            "type": "heatmapgl"
           }
          ],
          "histogram": [
           {
            "marker": {
             "pattern": {
              "fillmode": "overlay",
              "size": 10,
              "solidity": 0.2
             }
            },
            "type": "histogram"
           }
          ],
          "histogram2d": [
           {
            "colorbar": {
             "outlinewidth": 0,
             "ticks": ""
            },
            "colorscale": [
             [
              0,
              "#0d0887"
             ],
             [
              0.1111111111111111,
              "#46039f"
             ],
             [
              0.2222222222222222,
              "#7201a8"
             ],
             [
              0.3333333333333333,
              "#9c179e"
             ],
             [
              0.4444444444444444,
              "#bd3786"
             ],
             [
              0.5555555555555556,
              "#d8576b"
             ],
             [
              0.6666666666666666,
              "#ed7953"
             ],
             [
              0.7777777777777778,
              "#fb9f3a"
             ],
             [
              0.8888888888888888,
              "#fdca26"
             ],
             [
              1,
              "#f0f921"
             ]
            ],
            "type": "histogram2d"
           }
          ],
          "histogram2dcontour": [
           {
            "colorbar": {
             "outlinewidth": 0,
             "ticks": ""
            },
            "colorscale": [
             [
              0,
              "#0d0887"
             ],
             [
              0.1111111111111111,
              "#46039f"
             ],
             [
              0.2222222222222222,
              "#7201a8"
             ],
             [
              0.3333333333333333,
              "#9c179e"
             ],
             [
              0.4444444444444444,
              "#bd3786"
             ],
             [
              0.5555555555555556,
              "#d8576b"
             ],
             [
              0.6666666666666666,
              "#ed7953"
             ],
             [
              0.7777777777777778,
              "#fb9f3a"
             ],
             [
              0.8888888888888888,
              "#fdca26"
             ],
             [
              1,
              "#f0f921"
             ]
            ],
            "type": "histogram2dcontour"
           }
          ],
          "mesh3d": [
           {
            "colorbar": {
             "outlinewidth": 0,
             "ticks": ""
            },
            "type": "mesh3d"
           }
          ],
          "parcoords": [
           {
            "line": {
             "colorbar": {
              "outlinewidth": 0,
              "ticks": ""
             }
            },
            "type": "parcoords"
           }
          ],
          "pie": [
           {
            "automargin": true,
            "type": "pie"
           }
          ],
          "scatter": [
           {
            "fillpattern": {
             "fillmode": "overlay",
             "size": 10,
             "solidity": 0.2
            },
            "type": "scatter"
           }
          ],
          "scatter3d": [
           {
            "line": {
             "colorbar": {
              "outlinewidth": 0,
              "ticks": ""
             }
            },
            "marker": {
             "colorbar": {
              "outlinewidth": 0,
              "ticks": ""
             }
            },
            "type": "scatter3d"
           }
          ],
          "scattercarpet": [
           {
            "marker": {
             "colorbar": {
              "outlinewidth": 0,
              "ticks": ""
             }
            },
            "type": "scattercarpet"
           }
          ],
          "scattergeo": [
           {
            "marker": {
             "colorbar": {
              "outlinewidth": 0,
              "ticks": ""
             }
            },
            "type": "scattergeo"
           }
          ],
          "scattergl": [
           {
            "marker": {
             "colorbar": {
              "outlinewidth": 0,
              "ticks": ""
             }
            },
            "type": "scattergl"
           }
          ],
          "scattermapbox": [
           {
            "marker": {
             "colorbar": {
              "outlinewidth": 0,
              "ticks": ""
             }
            },
            "type": "scattermapbox"
           }
          ],
          "scatterpolar": [
           {
            "marker": {
             "colorbar": {
              "outlinewidth": 0,
              "ticks": ""
             }
            },
            "type": "scatterpolar"
           }
          ],
          "scatterpolargl": [
           {
            "marker": {
             "colorbar": {
              "outlinewidth": 0,
              "ticks": ""
             }
            },
            "type": "scatterpolargl"
           }
          ],
          "scatterternary": [
           {
            "marker": {
             "colorbar": {
              "outlinewidth": 0,
              "ticks": ""
             }
            },
            "type": "scatterternary"
           }
          ],
          "surface": [
           {
            "colorbar": {
             "outlinewidth": 0,
             "ticks": ""
            },
            "colorscale": [
             [
              0,
              "#0d0887"
             ],
             [
              0.1111111111111111,
              "#46039f"
             ],
             [
              0.2222222222222222,
              "#7201a8"
             ],
             [
              0.3333333333333333,
              "#9c179e"
             ],
             [
              0.4444444444444444,
              "#bd3786"
             ],
             [
              0.5555555555555556,
              "#d8576b"
             ],
             [
              0.6666666666666666,
              "#ed7953"
             ],
             [
              0.7777777777777778,
              "#fb9f3a"
             ],
             [
              0.8888888888888888,
              "#fdca26"
             ],
             [
              1,
              "#f0f921"
             ]
            ],
            "type": "surface"
           }
          ],
          "table": [
           {
            "cells": {
             "fill": {
              "color": "#EBF0F8"
             },
             "line": {
              "color": "white"
             }
            },
            "header": {
             "fill": {
              "color": "#C8D4E3"
             },
             "line": {
              "color": "white"
             }
            },
            "type": "table"
           }
          ]
         },
         "layout": {
          "annotationdefaults": {
           "arrowcolor": "#2a3f5f",
           "arrowhead": 0,
           "arrowwidth": 1
          },
          "autotypenumbers": "strict",
          "coloraxis": {
           "colorbar": {
            "outlinewidth": 0,
            "ticks": ""
           }
          },
          "colorscale": {
           "diverging": [
            [
             0,
             "#8e0152"
            ],
            [
             0.1,
             "#c51b7d"
            ],
            [
             0.2,
             "#de77ae"
            ],
            [
             0.3,
             "#f1b6da"
            ],
            [
             0.4,
             "#fde0ef"
            ],
            [
             0.5,
             "#f7f7f7"
            ],
            [
             0.6,
             "#e6f5d0"
            ],
            [
             0.7,
             "#b8e186"
            ],
            [
             0.8,
             "#7fbc41"
            ],
            [
             0.9,
             "#4d9221"
            ],
            [
             1,
             "#276419"
            ]
           ],
           "sequential": [
            [
             0,
             "#0d0887"
            ],
            [
             0.1111111111111111,
             "#46039f"
            ],
            [
             0.2222222222222222,
             "#7201a8"
            ],
            [
             0.3333333333333333,
             "#9c179e"
            ],
            [
             0.4444444444444444,
             "#bd3786"
            ],
            [
             0.5555555555555556,
             "#d8576b"
            ],
            [
             0.6666666666666666,
             "#ed7953"
            ],
            [
             0.7777777777777778,
             "#fb9f3a"
            ],
            [
             0.8888888888888888,
             "#fdca26"
            ],
            [
             1,
             "#f0f921"
            ]
           ],
           "sequentialminus": [
            [
             0,
             "#0d0887"
            ],
            [
             0.1111111111111111,
             "#46039f"
            ],
            [
             0.2222222222222222,
             "#7201a8"
            ],
            [
             0.3333333333333333,
             "#9c179e"
            ],
            [
             0.4444444444444444,
             "#bd3786"
            ],
            [
             0.5555555555555556,
             "#d8576b"
            ],
            [
             0.6666666666666666,
             "#ed7953"
            ],
            [
             0.7777777777777778,
             "#fb9f3a"
            ],
            [
             0.8888888888888888,
             "#fdca26"
            ],
            [
             1,
             "#f0f921"
            ]
           ]
          },
          "colorway": [
           "#636efa",
           "#EF553B",
           "#00cc96",
           "#ab63fa",
           "#FFA15A",
           "#19d3f3",
           "#FF6692",
           "#B6E880",
           "#FF97FF",
           "#FECB52"
          ],
          "font": {
           "color": "#2a3f5f"
          },
          "geo": {
           "bgcolor": "white",
           "lakecolor": "white",
           "landcolor": "#E5ECF6",
           "showlakes": true,
           "showland": true,
           "subunitcolor": "white"
          },
          "hoverlabel": {
           "align": "left"
          },
          "hovermode": "closest",
          "mapbox": {
           "style": "light"
          },
          "paper_bgcolor": "white",
          "plot_bgcolor": "#E5ECF6",
          "polar": {
           "angularaxis": {
            "gridcolor": "white",
            "linecolor": "white",
            "ticks": ""
           },
           "bgcolor": "#E5ECF6",
           "radialaxis": {
            "gridcolor": "white",
            "linecolor": "white",
            "ticks": ""
           }
          },
          "scene": {
           "xaxis": {
            "backgroundcolor": "#E5ECF6",
            "gridcolor": "white",
            "gridwidth": 2,
            "linecolor": "white",
            "showbackground": true,
            "ticks": "",
            "zerolinecolor": "white"
           },
           "yaxis": {
            "backgroundcolor": "#E5ECF6",
            "gridcolor": "white",
            "gridwidth": 2,
            "linecolor": "white",
            "showbackground": true,
            "ticks": "",
            "zerolinecolor": "white"
           },
           "zaxis": {
            "backgroundcolor": "#E5ECF6",
            "gridcolor": "white",
            "gridwidth": 2,
            "linecolor": "white",
            "showbackground": true,
            "ticks": "",
            "zerolinecolor": "white"
           }
          },
          "shapedefaults": {
           "line": {
            "color": "#2a3f5f"
           }
          },
          "ternary": {
           "aaxis": {
            "gridcolor": "white",
            "linecolor": "white",
            "ticks": ""
           },
           "baxis": {
            "gridcolor": "white",
            "linecolor": "white",
            "ticks": ""
           },
           "bgcolor": "#E5ECF6",
           "caxis": {
            "gridcolor": "white",
            "linecolor": "white",
            "ticks": ""
           }
          },
          "title": {
           "x": 0.05
          },
          "xaxis": {
           "automargin": true,
           "gridcolor": "white",
           "linecolor": "white",
           "ticks": "",
           "title": {
            "standoff": 15
           },
           "zerolinecolor": "white",
           "zerolinewidth": 2
          },
          "yaxis": {
           "automargin": true,
           "gridcolor": "white",
           "linecolor": "white",
           "ticks": "",
           "title": {
            "standoff": 15
           },
           "zerolinecolor": "white",
           "zerolinewidth": 2
          }
         }
        },
        "title": {
         "text": "Analysis in Age and Gender on Survival Status"
        },
        "violinmode": "group",
        "xaxis": {
         "anchor": "y",
         "domain": [
          0,
          1
         ],
         "title": {
          "text": "sex"
         }
        },
        "yaxis": {
         "anchor": "x",
         "domain": [
          0,
          1
         ],
         "title": {
          "text": "age"
         }
        }
       }
      }
     },
     "metadata": {},
     "output_type": "display_data"
    }
   ],
   "source": [
    "fig = px.violin(df_clean, y=\"age\", x=\"sex\", color=\"death_event\", box=True, points=\"all\", hover_data=df_clean.columns)\n",
    "fig.update_layout(title_text=\"Analysis in Age and Gender on Survival Status\")\n",
    "fig.show()"
   ]
  },
  {
   "cell_type": "markdown",
   "metadata": {},
   "source": [
    "**Keterangan**\n",
    "<br>\n",
    "Tingkat keselamatan lelaki tinggi di umur 50-60, sementara wanita di umur 60-70."
   ]
  },
  {
   "cell_type": "code",
   "execution_count": 31,
   "metadata": {},
   "outputs": [
    {
     "data": {
      "application/vnd.plotly.v1+json": {
       "config": {
        "plotlyServerURL": "https://plot.ly"
       },
       "data": [
        {
         "alignmentgroup": "True",
         "box": {
          "visible": true
         },
         "customdata": [
          [
           0,
           582,
           0,
           20,
           1,
           265000,
           1.9,
           130,
           1,
           4,
           1
          ],
          [
           0,
           7861,
           0,
           38,
           0,
           263358.03,
           1.1,
           136,
           1,
           6,
           1
          ],
          [
           0,
           146,
           0,
           20,
           0,
           162000,
           1.3,
           129,
           1,
           7,
           1
          ],
          [
           1,
           111,
           0,
           20,
           0,
           210000,
           1.9,
           137,
           1,
           7,
           1
          ],
          [
           1,
           160,
           1,
           20,
           0,
           327000,
           2.7,
           116,
           0,
           8,
           1
          ],
          [
           1,
           47,
           0,
           40,
           1,
           204000,
           2.1,
           132,
           1,
           8,
           1
          ],
          [
           1,
           246,
           0,
           15,
           0,
           127000,
           1.2,
           137,
           1,
           10,
           1
          ],
          [
           1,
           315,
           1,
           60,
           0,
           454000,
           1.1,
           131,
           1,
           10,
           1
          ],
          [
           0,
           157,
           0,
           65,
           0,
           263358.03,
           1.5,
           138,
           0,
           10,
           1
          ],
          [
           1,
           123,
           0,
           35,
           1,
           388000,
           9.4,
           133,
           1,
           10,
           1
          ],
          [
           1,
           81,
           0,
           38,
           1,
           368000,
           4,
           131,
           1,
           10,
           1
          ],
          [
           0,
           231,
           0,
           25,
           1,
           253000,
           0.9,
           140,
           1,
           10,
           1
          ],
          [
           1,
           981,
           0,
           30,
           0,
           136000,
           1.1,
           137,
           1,
           11,
           1
          ],
          [
           1,
           168,
           0,
           38,
           1,
           276000,
           1.1,
           137,
           1,
           11,
           1
          ],
          [
           1,
           379,
           0,
           50,
           0,
           47000,
           1.3,
           136,
           1,
           13,
           1
          ],
          [
           1,
           149,
           0,
           38,
           0,
           262000,
           0.9,
           140,
           1,
           14,
           1
          ],
          [
           0,
           582,
           0,
           14,
           0,
           166000,
           0.8,
           127,
           1,
           14,
           1
          ],
          [
           1,
           125,
           0,
           25,
           1,
           237000,
           1,
           140,
           0,
           15,
           1
          ],
          [
           1,
           582,
           1,
           55,
           0,
           87000,
           1.9,
           121,
           0,
           15,
           1
          ],
          [
           1,
           128,
           1,
           30,
           1,
           297000,
           1.6,
           136,
           0,
           20,
           1
          ],
          [
           1,
           220,
           0,
           35,
           1,
           289000,
           0.9,
           140,
           1,
           20,
           1
          ],
          [
           0,
           582,
           1,
           30,
           1,
           263358.03,
           1.83,
           134,
           0,
           23,
           1
          ],
          [
           0,
           148,
           1,
           38,
           0,
           149000,
           1.9,
           144,
           1,
           23,
           1
          ],
          [
           1,
           112,
           0,
           40,
           1,
           196000,
           1,
           138,
           0,
           24,
           1
          ],
          [
           0,
           122,
           1,
           45,
           1,
           284000,
           1.3,
           136,
           1,
           26,
           1
          ],
          [
           1,
           60,
           0,
           38,
           0,
           153000,
           5.8,
           134,
           1,
           26,
           1
          ],
          [
           0,
           70,
           1,
           30,
           0,
           200000,
           1.2,
           132,
           1,
           26,
           1
          ],
          [
           0,
           582,
           1,
           38,
           1,
           263358.03,
           1.83,
           134,
           1,
           27,
           1
          ],
          [
           0,
           23,
           0,
           45,
           0,
           360000,
           3,
           132,
           1,
           28,
           1
          ],
          [
           1,
           249,
           1,
           35,
           1,
           319000,
           1,
           128,
           0,
           28,
           1
          ],
          [
           0,
           94,
           1,
           50,
           1,
           188000,
           1,
           140,
           1,
           29,
           1
          ],
          [
           0,
           582,
           1,
           35,
           0,
           228000,
           3.5,
           134,
           1,
           30,
           1
          ],
          [
           1,
           60,
           1,
           50,
           0,
           226000,
           1,
           134,
           1,
           30,
           1
          ],
          [
           1,
           855,
           1,
           50,
           1,
           321000,
           1,
           145,
           0,
           30,
           1
          ],
          [
           0,
           235,
           1,
           38,
           0,
           329000,
           3,
           142,
           0,
           30,
           1
          ],
          [
           0,
           582,
           0,
           20,
           1,
           263358.03,
           1.83,
           134,
           1,
           31,
           1
          ],
          [
           0,
           124,
           1,
           30,
           1,
           153000,
           1.2,
           136,
           0,
           32,
           1
          ],
          [
           0,
           571,
           1,
           45,
           1,
           185000,
           1.2,
           139,
           1,
           33,
           1
          ],
          [
           1,
           588,
           1,
           60,
           0,
           194000,
           1.1,
           142,
           0,
           33,
           1
          ],
          [
           0,
           582,
           1,
           38,
           0,
           310000,
           1.9,
           135,
           1,
           35,
           1
          ],
          [
           0,
           1380,
           0,
           25,
           1,
           271000,
           0.9,
           130,
           1,
           38,
           1
          ],
          [
           0,
           582,
           1,
           38,
           1,
           451000,
           0.6,
           138,
           1,
           40,
           1
          ],
          [
           1,
           553,
           0,
           20,
           1,
           140000,
           4.4,
           133,
           1,
           41,
           1
          ],
          [
           1,
           129,
           0,
           30,
           0,
           395000,
           1,
           140,
           0,
           42,
           1
          ],
          [
           1,
           577,
           0,
           25,
           1,
           166000,
           1,
           138,
           1,
           43,
           1
          ],
          [
           1,
           91,
           0,
           20,
           1,
           418000,
           1.4,
           139,
           0,
           43,
           1
          ],
          [
           0,
           3964,
           1,
           62,
           0,
           263358.03,
           6.8,
           146,
           0,
           43,
           1
          ],
          [
           1,
           69,
           1,
           50,
           1,
           351000,
           1,
           134,
           0,
           44,
           1
          ],
          [
           1,
           260,
           1,
           38,
           0,
           255000,
           2.2,
           132,
           0,
           45,
           1
          ],
          [
           1,
           371,
           0,
           30,
           0,
           461000,
           2,
           132,
           1,
           50,
           1
          ],
          [
           0,
           789,
           0,
           20,
           1,
           319000,
           1.1,
           136,
           1,
           55,
           1
          ],
          [
           0,
           364,
           1,
           20,
           1,
           254000,
           1.3,
           136,
           1,
           59,
           1
          ],
          [
           0,
           7702,
           1,
           25,
           1,
           390000,
           1,
           139,
           1,
           60,
           1
          ],
          [
           0,
           318,
           0,
           40,
           1,
           216000,
           2.3,
           131,
           0,
           60,
           1
          ],
          [
           0,
           582,
           0,
           35,
           0,
           385000,
           1,
           145,
           1,
           61,
           1
          ],
          [
           0,
           68,
           0,
           20,
           0,
           119000,
           2.9,
           127,
           1,
           64,
           1
          ],
          [
           1,
           250,
           1,
           15,
           0,
           213000,
           1.3,
           136,
           0,
           65,
           1
          ],
          [
           1,
           110,
           0,
           25,
           0,
           274000,
           1,
           140,
           1,
           65,
           1
          ],
          [
           0,
           161,
           0,
           25,
           0,
           244000,
           1.2,
           142,
           0,
           66,
           1
          ],
          [
           0,
           113,
           1,
           25,
           0,
           497000,
           1.83,
           135,
           1,
           67,
           1
          ],
          [
           0,
           5882,
           0,
           35,
           0,
           243000,
           1,
           132,
           1,
           72,
           1
          ],
          [
           0,
           582,
           0,
           20,
           0,
           266000,
           1.2,
           134,
           1,
           73,
           1
          ],
          [
           1,
           47,
           0,
           20,
           0,
           204000,
           0.7,
           139,
           1,
           73,
           1
          ],
          [
           1,
           76,
           1,
           25,
           0,
           196000,
           2.5,
           132,
           0,
           77,
           1
          ],
          [
           1,
           280,
           1,
           25,
           1,
           302000,
           1,
           141,
           0,
           78,
           1
          ],
          [
           1,
           154,
           0,
           25,
           0,
           210000,
           1.7,
           135,
           1,
           82,
           1
          ],
          [
           1,
           328,
           0,
           30,
           1,
           621000,
           1.7,
           138,
           0,
           88,
           1
          ],
          [
           0,
           129,
           0,
           60,
           0,
           306000,
           1.2,
           132,
           1,
           90,
           1
          ],
          [
           1,
           143,
           0,
           60,
           0,
           351000,
           1.3,
           137,
           0,
           90,
           1
          ],
          [
           0,
           582,
           0,
           38,
           0,
           263358.03,
           1.83,
           134,
           0,
           95,
           1
          ],
          [
           0,
           582,
           0,
           40,
           0,
           217000,
           3.7,
           134,
           1,
           96,
           1
          ],
          [
           0,
           168,
           1,
           17,
           1,
           271000,
           2.1,
           124,
           0,
           100,
           1
          ],
          [
           0,
           805,
           0,
           38,
           0,
           263358.03,
           1.1,
           134,
           1,
           109,
           1
          ],
          [
           1,
           943,
           0,
           25,
           1,
           338000,
           1.7,
           139,
           1,
           111,
           1
          ],
          [
           1,
           582,
           0,
           30,
           0,
           225000,
           1.83,
           134,
           1,
           113,
           1
          ],
          [
           0,
           233,
           0,
           45,
           1,
           235000,
           2.5,
           135,
           0,
           115,
           1
          ],
          [
           1,
           2334,
           1,
           35,
           0,
           75000,
           0.9,
           142,
           0,
           126,
           1
          ],
          [
           0,
           2442,
           1,
           30,
           0,
           334000,
           1.1,
           139,
           1,
           129,
           1
          ],
          [
           0,
           776,
           1,
           38,
           1,
           192000,
           1.3,
           135,
           0,
           130,
           1
          ],
          [
           0,
           66,
           1,
           20,
           0,
           70000,
           2.4,
           134,
           1,
           135,
           1
          ],
          [
           1,
           176,
           1,
           25,
           0,
           221000,
           1,
           136,
           1,
           150,
           1
          ],
          [
           0,
           395,
           1,
           25,
           0,
           265000,
           1.2,
           136,
           1,
           154,
           1
          ],
          [
           0,
           99,
           0,
           38,
           1,
           224000,
           2.5,
           134,
           1,
           162,
           1
          ],
          [
           1,
           145,
           0,
           25,
           0,
           219000,
           1.2,
           137,
           1,
           170,
           1
          ],
          [
           1,
           104,
           1,
           30,
           0,
           389000,
           1.5,
           136,
           1,
           171,
           1
          ],
          [
           0,
           582,
           0,
           50,
           0,
           153000,
           0.6,
           134,
           0,
           172,
           1
          ],
          [
           0,
           1896,
           1,
           25,
           0,
           365000,
           2.1,
           144,
           0,
           172,
           1
          ],
          [
           0,
           582,
           0,
           20,
           1,
           126000,
           1.6,
           135,
           1,
           180,
           1
          ],
          [
           1,
           418,
           0,
           45,
           0,
           223000,
           1.8,
           145,
           1,
           180,
           1
          ],
          [
           1,
           131,
           1,
           30,
           1,
           244000,
           1.6,
           130,
           0,
           193,
           1
          ],
          [
           1,
           427,
           0,
           70,
           1,
           151000,
           9,
           137,
           0,
           196,
           1
          ],
          [
           0,
           582,
           0,
           20,
           0,
           263358.03,
           1.83,
           134,
           1,
           198,
           1
          ],
          [
           0,
           166,
           0,
           30,
           0,
           62000,
           1.7,
           127,
           0,
           207,
           1
          ],
          [
           0,
           2017,
           0,
           25,
           0,
           314000,
           1.1,
           138,
           1,
           214,
           1
          ],
          [
           1,
           258,
           1,
           25,
           0,
           198000,
           1.4,
           129,
           1,
           235,
           1
          ],
          [
           0,
           1199,
           0,
           20,
           0,
           263358.03,
           1.83,
           134,
           1,
           241,
           1
          ]
         ],
         "hovertemplate": "death_event=%{customdata[10]}<br>smoking=%{x}<br>age=%{y}<br>anaemia=%{customdata[0]}<br>cpk_level=%{customdata[1]}<br>diabetes=%{customdata[2]}<br>ejection_fraction=%{customdata[3]}<br>high_blood_pressure=%{customdata[4]}<br>platelets=%{customdata[5]}<br>serum_creatinine=%{customdata[6]}<br>serum_sodium=%{customdata[7]}<br>sex=%{customdata[8]}<br>time=%{customdata[9]}<extra></extra>",
         "legendgroup": "1",
         "marker": {
          "color": "#636efa"
         },
         "name": "1",
         "offsetgroup": "1",
         "orientation": "v",
         "points": "all",
         "scalegroup": "True",
         "showlegend": true,
         "type": "violin",
         "x": [
          0,
          0,
          1,
          0,
          0,
          1,
          0,
          1,
          0,
          1,
          1,
          1,
          0,
          0,
          0,
          0,
          0,
          0,
          0,
          0,
          1,
          0,
          1,
          0,
          1,
          0,
          1,
          0,
          0,
          0,
          0,
          0,
          0,
          0,
          0,
          1,
          1,
          1,
          0,
          1,
          0,
          1,
          0,
          0,
          0,
          0,
          0,
          0,
          1,
          0,
          1,
          1,
          0,
          0,
          0,
          1,
          0,
          1,
          0,
          0,
          1,
          1,
          1,
          0,
          0,
          0,
          1,
          1,
          0,
          0,
          0,
          0,
          0,
          1,
          0,
          0,
          0,
          0,
          0,
          0,
          1,
          1,
          0,
          1,
          0,
          0,
          0,
          0,
          0,
          0,
          0,
          0,
          0,
          0,
          0,
          1
         ],
         "x0": " ",
         "xaxis": "x",
         "y": [
          75,
          55,
          65,
          50,
          65,
          90,
          75,
          60,
          65,
          80,
          75,
          62,
          45,
          50,
          82,
          87,
          45,
          70,
          48,
          65,
          68,
          75,
          80,
          95,
          70,
          58,
          82,
          94,
          85,
          50,
          65,
          69,
          90,
          82,
          60,
          70,
          50,
          70,
          60,
          50,
          51,
          60,
          80,
          57,
          68,
          53,
          60,
          70,
          60,
          95,
          49,
          72,
          45,
          50,
          45,
          60,
          42,
          72,
          70,
          65,
          85,
          69,
          60,
          60,
          59,
          60,
          72,
          85,
          70,
          86,
          60,
          46,
          80,
          72,
          75,
          72,
          50,
          45,
          80,
          59,
          59,
          65,
          75,
          58,
          60.667,
          50,
          60,
          45,
          77,
          48,
          54,
          73,
          60,
          55,
          65,
          55
         ],
         "y0": " ",
         "yaxis": "y"
        },
        {
         "alignmentgroup": "True",
         "box": {
          "visible": true
         },
         "customdata": [
          [
           1,
           80,
           0,
           30,
           1,
           427000,
           1,
           138,
           0,
           12,
           0
          ],
          [
           1,
           52,
           0,
           25,
           1,
           276000,
           1.3,
           137,
           0,
           16,
           0
          ],
          [
           0,
           63,
           1,
           60,
           0,
           368000,
           0.8,
           135,
           1,
           22,
           0
          ],
          [
           1,
           159,
           1,
           30,
           0,
           302000,
           1.2,
           138,
           0,
           29,
           0
          ],
          [
           0,
           2656,
           1,
           30,
           0,
           305000,
           2.3,
           137,
           1,
           30,
           0
          ],
          [
           0,
           127,
           1,
           50,
           1,
           218000,
           1,
           134,
           1,
           33,
           0
          ],
          [
           1,
           75,
           0,
           35,
           0,
           223000,
           2.7,
           138,
           1,
           54,
           0
          ],
          [
           1,
           607,
           0,
           40,
           0,
           216000,
           0.6,
           138,
           1,
           54,
           0
          ],
          [
           0,
           109,
           0,
           35,
           0,
           254000,
           1.1,
           139,
           1,
           60,
           0
          ],
          [
           0,
           582,
           0,
           80,
           0,
           263358.03,
           1.18,
           137,
           0,
           63,
           0
          ],
          [
           0,
           148,
           0,
           40,
           0,
           374000,
           0.8,
           140,
           1,
           68,
           0
          ],
          [
           0,
           582,
           1,
           35,
           0,
           122000,
           0.9,
           139,
           1,
           71,
           0
          ],
          [
           0,
           224,
           1,
           50,
           0,
           149000,
           1.3,
           137,
           1,
           72,
           0
          ],
          [
           0,
           92,
           0,
           60,
           1,
           317000,
           0.8,
           140,
           0,
           74,
           0
          ],
          [
           0,
           102,
           1,
           40,
           0,
           237000,
           1.2,
           140,
           1,
           74,
           0
          ],
          [
           1,
           203,
           1,
           38,
           1,
           283000,
           0.6,
           131,
           1,
           74,
           0
          ],
          [
           0,
           336,
           0,
           45,
           1,
           324000,
           0.9,
           140,
           0,
           74,
           0
          ],
          [
           0,
           69,
           0,
           40,
           0,
           293000,
           1.7,
           136,
           0,
           75,
           0
          ],
          [
           0,
           582,
           0,
           50,
           0,
           263358.03,
           1.18,
           137,
           1,
           76,
           0
          ],
          [
           1,
           55,
           0,
           50,
           1,
           172000,
           1.8,
           133,
           1,
           78,
           0
          ],
          [
           0,
           78,
           0,
           50,
           0,
           406000,
           0.7,
           140,
           1,
           79,
           0
          ],
          [
           0,
           47,
           0,
           35,
           1,
           173000,
           1.1,
           137,
           1,
           79,
           0
          ],
          [
           1,
           68,
           1,
           60,
           1,
           304000,
           0.8,
           140,
           1,
           79,
           0
          ],
          [
           0,
           84,
           1,
           40,
           1,
           235000,
           0.7,
           139,
           1,
           79,
           0
          ],
          [
           1,
           115,
           0,
           25,
           1,
           181000,
           1.1,
           144,
           1,
           79,
           0
          ],
          [
           0,
           66,
           1,
           45,
           0,
           249000,
           0.8,
           136,
           1,
           80,
           0
          ],
          [
           0,
           897,
           1,
           45,
           0,
           297000,
           1,
           133,
           1,
           80,
           0
          ],
          [
           0,
           582,
           0,
           60,
           0,
           263358.03,
           1.18,
           137,
           0,
           82,
           0
          ],
          [
           0,
           144,
           1,
           38,
           1,
           327000,
           0.7,
           142,
           0,
           83,
           0
          ],
          [
           1,
           133,
           0,
           60,
           1,
           219000,
           1,
           141,
           1,
           83,
           0
          ],
          [
           1,
           514,
           1,
           25,
           1,
           254000,
           1.3,
           134,
           1,
           83,
           0
          ],
          [
           1,
           59,
           0,
           60,
           0,
           255000,
           1.1,
           136,
           0,
           85,
           0
          ],
          [
           1,
           156,
           1,
           25,
           1,
           318000,
           1.2,
           137,
           0,
           85,
           0
          ],
          [
           1,
           61,
           1,
           40,
           0,
           221000,
           1.1,
           140,
           0,
           86,
           0
          ],
          [
           1,
           305,
           0,
           25,
           0,
           298000,
           1.1,
           141,
           1,
           87,
           0
          ],
          [
           0,
           582,
           0,
           45,
           1,
           263358.03,
           1.18,
           137,
           1,
           87,
           0
          ],
          [
           0,
           898,
           0,
           25,
           0,
           149000,
           1.1,
           144,
           1,
           87,
           0
          ],
          [
           0,
           5209,
           0,
           30,
           0,
           226000,
           1,
           140,
           1,
           87,
           0
          ],
          [
           0,
           53,
           0,
           50,
           1,
           286000,
           2.3,
           143,
           0,
           87,
           0
          ],
          [
           0,
           748,
           0,
           45,
           0,
           263000,
           1.3,
           137,
           1,
           88,
           0
          ],
          [
           1,
           1876,
           1,
           35,
           0,
           226000,
           0.9,
           138,
           1,
           88,
           0
          ],
          [
           0,
           936,
           0,
           38,
           0,
           304000,
           1.1,
           133,
           1,
           88,
           0
          ],
          [
           0,
           292,
           1,
           35,
           0,
           850000,
           1.3,
           142,
           1,
           88,
           0
          ],
          [
           0,
           60,
           0,
           35,
           0,
           228000,
           1.2,
           135,
           1,
           90,
           0
          ],
          [
           0,
           369,
           1,
           25,
           0,
           252000,
           1.6,
           136,
           1,
           90,
           0
          ],
          [
           1,
           754,
           1,
           40,
           1,
           328000,
           1.2,
           126,
           1,
           91,
           0
          ],
          [
           1,
           400,
           0,
           40,
           0,
           164000,
           1,
           139,
           0,
           91,
           0
          ],
          [
           1,
           96,
           1,
           60,
           1,
           271000,
           0.7,
           136,
           0,
           94,
           0
          ],
          [
           1,
           102,
           0,
           60,
           0,
           507000,
           3.2,
           138,
           0,
           94,
           0
          ],
          [
           1,
           113,
           1,
           60,
           1,
           203000,
           0.9,
           140,
           0,
           94,
           0
          ],
          [
           1,
           737,
           0,
           60,
           1,
           210000,
           1.5,
           135,
           1,
           95,
           0
          ],
          [
           1,
           68,
           1,
           38,
           1,
           162000,
           1,
           136,
           0,
           95,
           0
          ],
          [
           0,
           96,
           1,
           38,
           0,
           228000,
           0.75,
           140,
           0,
           95,
           0
          ],
          [
           1,
           582,
           0,
           30,
           1,
           127000,
           0.9,
           145,
           0,
           95,
           0
          ],
          [
           1,
           358,
           0,
           50,
           0,
           237000,
           1.3,
           135,
           0,
           97,
           0
          ],
          [
           1,
           200,
           1,
           60,
           0,
           300000,
           0.8,
           137,
           0,
           104,
           0
          ],
          [
           0,
           248,
           0,
           30,
           1,
           267000,
           0.7,
           136,
           1,
           104,
           0
          ],
          [
           1,
           270,
           1,
           35,
           0,
           227000,
           3.4,
           145,
           1,
           105,
           0
          ],
          [
           1,
           1808,
           0,
           60,
           1,
           249000,
           0.7,
           138,
           1,
           106,
           0
          ],
          [
           1,
           1082,
           1,
           45,
           0,
           250000,
           6.1,
           131,
           1,
           107,
           0
          ],
          [
           0,
           719,
           0,
           40,
           1,
           263358.03,
           1.18,
           137,
           0,
           107,
           0
          ],
          [
           0,
           193,
           0,
           60,
           1,
           295000,
           1.3,
           145,
           1,
           107,
           0
          ],
          [
           0,
           4540,
           0,
           35,
           0,
           231000,
           1.18,
           137,
           1,
           107,
           0
          ],
          [
           0,
           582,
           0,
           40,
           0,
           263358.03,
           1.18,
           137,
           1,
           107,
           0
          ],
          [
           1,
           59,
           1,
           60,
           0,
           172000,
           0.9,
           137,
           0,
           107,
           0
          ],
          [
           1,
           646,
           0,
           25,
           0,
           305000,
           2.1,
           130,
           1,
           108,
           0
          ],
          [
           0,
           281,
           1,
           35,
           0,
           221000,
           1,
           136,
           0,
           108,
           0
          ],
          [
           0,
           1548,
           0,
           30,
           1,
           211000,
           0.8,
           138,
           1,
           108,
           0
          ],
          [
           1,
           291,
           0,
           35,
           0,
           348000,
           0.9,
           140,
           0,
           109,
           0
          ],
          [
           0,
           482,
           1,
           30,
           0,
           329000,
           0.9,
           132,
           0,
           109,
           0
          ],
          [
           1,
           84,
           0,
           40,
           1,
           229000,
           0.9,
           141,
           0,
           110,
           0
          ],
          [
           0,
           185,
           0,
           30,
           0,
           266000,
           0.7,
           141,
           1,
           112,
           0
          ],
          [
           0,
           132,
           0,
           30,
           0,
           218000,
           0.7,
           136,
           1,
           112,
           0
          ],
          [
           0,
           1610,
           0,
           60,
           0,
           242000,
           1,
           137,
           1,
           113,
           0
          ],
          [
           0,
           2261,
           0,
           35,
           1,
           228000,
           0.9,
           136,
           1,
           115,
           0
          ],
          [
           0,
           30,
           1,
           60,
           1,
           244000,
           0.9,
           139,
           1,
           117,
           0
          ],
          [
           0,
           115,
           0,
           45,
           1,
           184000,
           0.9,
           134,
           1,
           118,
           0
          ],
          [
           0,
           1846,
           1,
           35,
           0,
           263358.03,
           1.18,
           137,
           1,
           119,
           0
          ],
          [
           1,
           335,
           0,
           35,
           1,
           235000,
           0.8,
           136,
           0,
           120,
           0
          ],
          [
           1,
           231,
           1,
           25,
           0,
           194000,
           1.7,
           140,
           1,
           120,
           0
          ],
          [
           1,
           58,
           0,
           35,
           0,
           277000,
           1.4,
           136,
           0,
           120,
           0
          ],
          [
           0,
           250,
           0,
           25,
           0,
           262000,
           1,
           136,
           1,
           120,
           0
          ],
          [
           1,
           910,
           0,
           50,
           0,
           235000,
           1.3,
           134,
           1,
           121,
           0
          ],
          [
           1,
           129,
           0,
           45,
           1,
           362000,
           1.1,
           139,
           1,
           121,
           0
          ],
          [
           1,
           72,
           0,
           40,
           1,
           242000,
           1.2,
           134,
           1,
           121,
           0
          ],
          [
           1,
           130,
           0,
           35,
           0,
           174000,
           0.8,
           139,
           1,
           121,
           0
          ],
          [
           1,
           582,
           0,
           40,
           0,
           448000,
           0.9,
           137,
           1,
           123,
           0
          ],
          [
           0,
           196,
           0,
           60,
           0,
           220000,
           0.7,
           133,
           1,
           134,
           0
          ],
          [
           0,
           582,
           1,
           40,
           0,
           270000,
           1,
           138,
           0,
           140,
           0
          ],
          [
           0,
           835,
           0,
           35,
           1,
           305000,
           0.8,
           133,
           0,
           145,
           0
          ],
          [
           1,
           582,
           1,
           35,
           0,
           263358.03,
           1.5,
           136,
           1,
           145,
           0
          ],
          [
           0,
           3966,
           0,
           40,
           0,
           325000,
           0.9,
           140,
           1,
           146,
           0
          ],
          [
           1,
           171,
           0,
           60,
           1,
           176000,
           1.1,
           145,
           1,
           146,
           0
          ],
          [
           1,
           115,
           0,
           20,
           0,
           189000,
           0.8,
           139,
           1,
           146,
           0
          ],
          [
           0,
           198,
           1,
           35,
           1,
           281000,
           0.9,
           137,
           1,
           146,
           0
          ],
          [
           1,
           95,
           0,
           60,
           0,
           337000,
           1,
           138,
           1,
           146,
           0
          ],
          [
           0,
           1419,
           0,
           40,
           0,
           105000,
           1,
           135,
           1,
           147,
           0
          ],
          [
           1,
           69,
           0,
           50,
           0,
           132000,
           1,
           140,
           0,
           147,
           0
          ],
          [
           1,
           122,
           1,
           60,
           0,
           267000,
           1.2,
           145,
           1,
           147,
           0
          ],
          [
           0,
           835,
           0,
           40,
           0,
           279000,
           0.7,
           140,
           1,
           147,
           0
          ],
          [
           0,
           478,
           1,
           30,
           0,
           303000,
           0.9,
           136,
           1,
           148,
           0
          ],
          [
           1,
           151,
           1,
           40,
           1,
           201000,
           1,
           136,
           0,
           172,
           0
          ],
          [
           0,
           244,
           0,
           45,
           1,
           275000,
           0.9,
           140,
           0,
           174,
           0
          ],
          [
           0,
           582,
           1,
           35,
           0,
           350000,
           2.1,
           134,
           1,
           174,
           0
          ],
          [
           1,
           62,
           0,
           60,
           0,
           309000,
           1.5,
           135,
           0,
           174,
           0
          ],
          [
           1,
           121,
           1,
           40,
           0,
           260000,
           0.7,
           130,
           1,
           175,
           0
          ],
          [
           1,
           231,
           1,
           30,
           0,
           160000,
           1.18,
           142,
           1,
           180,
           0
          ],
          [
           0,
           582,
           1,
           38,
           1,
           263358.03,
           1.18,
           137,
           0,
           185,
           0
          ],
          [
           0,
           167,
           0,
           30,
           0,
           259000,
           0.8,
           138,
           0,
           186,
           0
          ],
          [
           1,
           582,
           1,
           20,
           1,
           279000,
           1,
           134,
           0,
           186,
           0
          ],
          [
           0,
           1211,
           1,
           35,
           0,
           263358.03,
           1.8,
           113,
           1,
           186,
           0
          ],
          [
           1,
           1767,
           0,
           45,
           0,
           73000,
           0.7,
           137,
           1,
           186,
           0
          ],
          [
           0,
           308,
           1,
           60,
           1,
           377000,
           1,
           136,
           1,
           186,
           0
          ],
          [
           0,
           97,
           0,
           60,
           1,
           220000,
           0.9,
           138,
           1,
           186,
           0
          ],
          [
           0,
           59,
           0,
           25,
           1,
           212000,
           3.5,
           136,
           1,
           187,
           0
          ],
          [
           1,
           64,
           0,
           40,
           0,
           277000,
           0.7,
           137,
           1,
           187,
           0
          ],
          [
           1,
           167,
           1,
           45,
           0,
           362000,
           1,
           136,
           0,
           187,
           0
          ],
          [
           1,
           101,
           0,
           40,
           0,
           226000,
           0.8,
           141,
           0,
           187,
           0
          ],
          [
           0,
           212,
           0,
           38,
           0,
           186000,
           0.9,
           136,
           1,
           187,
           0
          ],
          [
           1,
           2281,
           1,
           40,
           0,
           283000,
           1,
           141,
           0,
           187,
           0
          ],
          [
           0,
           972,
           1,
           35,
           1,
           268000,
           0.8,
           130,
           0,
           187,
           0
          ],
          [
           0,
           212,
           1,
           17,
           1,
           389000,
           1,
           136,
           1,
           188,
           0
          ],
          [
           0,
           582,
           0,
           62,
           1,
           147000,
           0.8,
           140,
           1,
           192,
           0
          ],
          [
           0,
           224,
           0,
           50,
           0,
           481000,
           1.4,
           138,
           1,
           192,
           0
          ],
          [
           1,
           135,
           0,
           35,
           1,
           290000,
           0.8,
           134,
           1,
           194,
           0
          ],
          [
           0,
           582,
           0,
           35,
           1,
           203000,
           1.3,
           134,
           1,
           195,
           0
          ],
          [
           0,
           1202,
           0,
           50,
           1,
           358000,
           0.9,
           141,
           0,
           196,
           0
          ],
          [
           1,
           1021,
           1,
           35,
           0,
           271000,
           1.1,
           134,
           1,
           197,
           0
          ],
          [
           0,
           582,
           1,
           35,
           1,
           371000,
           0.7,
           140,
           0,
           197,
           0
          ],
          [
           0,
           118,
           0,
           50,
           0,
           194000,
           1.1,
           145,
           1,
           200,
           0
          ],
          [
           1,
           86,
           0,
           35,
           0,
           365000,
           1.1,
           139,
           1,
           201,
           0
          ],
          [
           0,
           582,
           0,
           25,
           0,
           130000,
           0.8,
           134,
           1,
           201,
           0
          ],
          [
           0,
           582,
           1,
           25,
           0,
           504000,
           1,
           138,
           1,
           205,
           0
          ],
          [
           0,
           675,
           1,
           60,
           0,
           265000,
           1.4,
           125,
           0,
           205,
           0
          ],
          [
           1,
           57,
           0,
           25,
           0,
           189000,
           1.3,
           132,
           1,
           205,
           0
          ],
          [
           1,
           2794,
           0,
           35,
           1,
           141000,
           1,
           140,
           1,
           206,
           0
          ],
          [
           0,
           56,
           0,
           25,
           0,
           237000,
           5,
           130,
           0,
           207,
           0
          ],
          [
           0,
           211,
           0,
           25,
           0,
           274000,
           1.2,
           134,
           0,
           207,
           0
          ],
          [
           0,
           93,
           0,
           35,
           0,
           185000,
           1.1,
           134,
           1,
           208,
           0
          ],
          [
           1,
           129,
           0,
           35,
           0,
           255000,
           0.9,
           137,
           1,
           209,
           0
          ],
          [
           1,
           707,
           0,
           38,
           0,
           330000,
           1.4,
           137,
           1,
           209,
           0
          ],
          [
           1,
           582,
           0,
           45,
           0,
           305000,
           1.1,
           137,
           1,
           209,
           0
          ],
          [
           1,
           109,
           0,
           50,
           1,
           406000,
           1.1,
           137,
           1,
           209,
           0
          ],
          [
           0,
           119,
           0,
           50,
           1,
           248000,
           1.1,
           148,
           1,
           209,
           0
          ],
          [
           0,
           232,
           0,
           30,
           0,
           173000,
           1.2,
           132,
           1,
           210,
           0
          ],
          [
           1,
           720,
           1,
           40,
           0,
           257000,
           1,
           136,
           0,
           210,
           0
          ],
          [
           1,
           180,
           0,
           45,
           0,
           263358.03,
           1.18,
           137,
           1,
           211,
           0
          ],
          [
           0,
           81,
           1,
           35,
           1,
           533000,
           1.3,
           139,
           0,
           212,
           0
          ],
          [
           0,
           582,
           1,
           30,
           0,
           249000,
           1.3,
           136,
           1,
           212,
           0
          ],
          [
           0,
           90,
           0,
           35,
           0,
           255000,
           1.1,
           136,
           1,
           212,
           0
          ],
          [
           1,
           1185,
           0,
           40,
           1,
           220000,
           0.9,
           141,
           0,
           213,
           0
          ],
          [
           0,
           582,
           1,
           38,
           0,
           264000,
           1.8,
           134,
           1,
           213,
           0
          ],
          [
           1,
           80,
           1,
           38,
           0,
           282000,
           1.4,
           137,
           1,
           213,
           0
          ],
          [
           0,
           143,
           0,
           25,
           0,
           246000,
           2.4,
           135,
           1,
           214,
           0
          ],
          [
           0,
           624,
           0,
           35,
           0,
           301000,
           1,
           142,
           1,
           214,
           0
          ],
          [
           0,
           207,
           1,
           40,
           0,
           223000,
           1.2,
           130,
           0,
           214,
           0
          ],
          [
           0,
           2522,
           0,
           30,
           1,
           404000,
           0.5,
           139,
           0,
           214,
           0
          ],
          [
           0,
           572,
           1,
           35,
           0,
           231000,
           0.8,
           143,
           0,
           215,
           0
          ],
          [
           0,
           245,
           0,
           45,
           1,
           274000,
           1,
           133,
           1,
           215,
           0
          ],
          [
           0,
           88,
           1,
           35,
           1,
           236000,
           1.2,
           132,
           0,
           215,
           0
          ],
          [
           1,
           446,
           0,
           60,
           1,
           263358.03,
           1,
           139,
           1,
           215,
           0
          ],
          [
           1,
           191,
           1,
           30,
           1,
           334000,
           1,
           142,
           1,
           216,
           0
          ],
          [
           0,
           326,
           0,
           38,
           0,
           294000,
           1.7,
           139,
           0,
           220,
           0
          ],
          [
           0,
           132,
           1,
           38,
           1,
           253000,
           1,
           139,
           1,
           230,
           0
          ],
          [
           1,
           66,
           1,
           25,
           0,
           233000,
           0.8,
           135,
           1,
           230,
           0
          ],
          [
           0,
           56,
           0,
           50,
           0,
           308000,
           0.7,
           135,
           1,
           231,
           0
          ],
          [
           0,
           66,
           0,
           40,
           0,
           203000,
           1,
           138,
           1,
           233,
           0
          ],
          [
           1,
           655,
           0,
           40,
           0,
           283000,
           0.7,
           133,
           0,
           233,
           0
          ],
          [
           1,
           157,
           1,
           60,
           0,
           208000,
           1,
           140,
           0,
           237,
           0
          ],
          [
           0,
           582,
           1,
           38,
           0,
           147000,
           1.2,
           141,
           1,
           237,
           0
          ],
          [
           1,
           298,
           0,
           35,
           0,
           362000,
           0.9,
           140,
           1,
           240,
           0
          ],
          [
           1,
           135,
           1,
           38,
           0,
           133000,
           1.7,
           140,
           1,
           244,
           0
          ],
          [
           0,
           582,
           1,
           38,
           0,
           302000,
           0.9,
           140,
           0,
           244,
           0
          ],
          [
           0,
           582,
           1,
           35,
           0,
           222000,
           1,
           132,
           1,
           244,
           0
          ],
          [
           0,
           582,
           1,
           30,
           1,
           263358.03,
           1.6,
           130,
           1,
           244,
           0
          ],
          [
           0,
           582,
           1,
           40,
           0,
           221000,
           0.9,
           134,
           0,
           244,
           0
          ],
          [
           0,
           213,
           0,
           38,
           0,
           215000,
           1.2,
           133,
           0,
           245,
           0
          ],
          [
           0,
           64,
           0,
           40,
           0,
           189000,
           0.7,
           140,
           1,
           245,
           0
          ],
          [
           1,
           257,
           1,
           30,
           0,
           150000,
           1,
           137,
           1,
           245,
           0
          ],
          [
           0,
           582,
           0,
           38,
           1,
           422000,
           0.8,
           137,
           0,
           245,
           0
          ],
          [
           0,
           618,
           0,
           35,
           0,
           327000,
           1.1,
           142,
           0,
           245,
           0
          ],
          [
           0,
           582,
           1,
           38,
           0,
           25100,
           1.1,
           140,
           1,
           246,
           0
          ],
          [
           1,
           1051,
           1,
           30,
           0,
           232000,
           0.7,
           136,
           0,
           246,
           0
          ],
          [
           0,
           84,
           1,
           38,
           0,
           451000,
           1.3,
           136,
           0,
           246,
           0
          ],
          [
           0,
           2695,
           1,
           40,
           0,
           241000,
           1,
           137,
           1,
           247,
           0
          ],
          [
           0,
           582,
           0,
           40,
           0,
           51000,
           2.7,
           136,
           1,
           250,
           0
          ],
          [
           0,
           64,
           0,
           30,
           0,
           215000,
           3.8,
           128,
           1,
           250,
           0
          ],
          [
           0,
           1688,
           0,
           38,
           0,
           263358.03,
           1.1,
           138,
           1,
           250,
           0
          ],
          [
           1,
           54,
           0,
           40,
           0,
           279000,
           0.8,
           141,
           1,
           250,
           0
          ],
          [
           1,
           170,
           1,
           40,
           0,
           336000,
           1.2,
           135,
           1,
           250,
           0
          ],
          [
           0,
           253,
           0,
           35,
           0,
           279000,
           1.7,
           140,
           1,
           250,
           0
          ],
          [
           0,
           582,
           1,
           55,
           0,
           543000,
           1,
           132,
           0,
           250,
           0
          ],
          [
           0,
           892,
           1,
           35,
           0,
           263358.03,
           1.1,
           142,
           0,
           256,
           0
          ],
          [
           1,
           337,
           0,
           38,
           0,
           390000,
           0.9,
           144,
           0,
           256,
           0
          ],
          [
           0,
           615,
           1,
           55,
           0,
           222000,
           0.8,
           141,
           0,
           257,
           0
          ],
          [
           0,
           320,
           0,
           35,
           0,
           133000,
           1.4,
           139,
           1,
           258,
           0
          ],
          [
           0,
           190,
           1,
           38,
           0,
           382000,
           1,
           140,
           1,
           258,
           0
          ],
          [
           1,
           103,
           1,
           35,
           0,
           179000,
           0.9,
           136,
           1,
           270,
           0
          ],
          [
           0,
           61,
           1,
           38,
           1,
           155000,
           1.1,
           143,
           1,
           270,
           0
          ],
          [
           0,
           1820,
           0,
           38,
           0,
           270000,
           1.2,
           139,
           0,
           271,
           0
          ],
          [
           0,
           2060,
           1,
           60,
           0,
           742000,
           0.8,
           138,
           0,
           278,
           0
          ],
          [
           0,
           2413,
           0,
           38,
           0,
           140000,
           1.4,
           140,
           1,
           280,
           0
          ],
          [
           0,
           196,
           0,
           45,
           0,
           395000,
           1.6,
           136,
           1,
           285,
           0
          ]
         ],
         "hovertemplate": "death_event=%{customdata[10]}<br>smoking=%{x}<br>age=%{y}<br>anaemia=%{customdata[0]}<br>cpk_level=%{customdata[1]}<br>diabetes=%{customdata[2]}<br>ejection_fraction=%{customdata[3]}<br>high_blood_pressure=%{customdata[4]}<br>platelets=%{customdata[5]}<br>serum_creatinine=%{customdata[6]}<br>serum_sodium=%{customdata[7]}<br>sex=%{customdata[8]}<br>time=%{customdata[9]}<extra></extra>",
         "legendgroup": "0",
         "marker": {
          "color": "#EF553B"
         },
         "name": "0",
         "offsetgroup": "0",
         "orientation": "v",
         "points": "all",
         "scalegroup": "True",
         "showlegend": true,
         "type": "violin",
         "x": [
          0,
          0,
          0,
          0,
          0,
          0,
          1,
          1,
          1,
          0,
          1,
          1,
          1,
          1,
          0,
          1,
          0,
          0,
          1,
          0,
          0,
          0,
          0,
          0,
          0,
          1,
          0,
          0,
          0,
          0,
          0,
          0,
          0,
          0,
          0,
          0,
          1,
          1,
          0,
          0,
          0,
          1,
          1,
          1,
          0,
          0,
          0,
          0,
          0,
          0,
          1,
          0,
          0,
          0,
          0,
          0,
          1,
          0,
          1,
          0,
          0,
          1,
          1,
          0,
          0,
          0,
          0,
          0,
          0,
          0,
          0,
          1,
          1,
          0,
          0,
          0,
          1,
          1,
          0,
          0,
          0,
          1,
          0,
          1,
          0,
          1,
          1,
          1,
          0,
          0,
          1,
          1,
          1,
          0,
          1,
          1,
          1,
          0,
          0,
          1,
          0,
          0,
          0,
          0,
          0,
          0,
          1,
          0,
          0,
          0,
          1,
          0,
          0,
          0,
          1,
          1,
          0,
          0,
          0,
          0,
          0,
          1,
          1,
          1,
          0,
          0,
          0,
          0,
          0,
          1,
          1,
          0,
          0,
          0,
          1,
          0,
          0,
          0,
          1,
          0,
          1,
          1,
          0,
          0,
          0,
          0,
          1,
          0,
          1,
          1,
          0,
          0,
          0,
          0,
          1,
          0,
          0,
          0,
          0,
          0,
          0,
          1,
          0,
          0,
          0,
          1,
          0,
          0,
          0,
          0,
          1,
          0,
          0,
          0,
          1,
          0,
          0,
          0,
          1,
          0,
          0,
          0,
          0,
          0,
          0,
          1,
          1,
          1,
          0,
          0,
          0,
          0,
          0,
          0,
          0,
          0,
          1,
          1,
          1,
          0,
          0,
          1,
          1
         ],
         "x0": " ",
         "xaxis": "x",
         "y": [
          49,
          65,
          53,
          50,
          60,
          72,
          70,
          60,
          55,
          45,
          41,
          58,
          65,
          70,
          42,
          75,
          55,
          70,
          67,
          79,
          51,
          55,
          65,
          44,
          57,
          70,
          60,
          42,
          58,
          58,
          63,
          70,
          60,
          63,
          65,
          75,
          80,
          42,
          60,
          55,
          45,
          63,
          45,
          55,
          50,
          60,
          58,
          60,
          85,
          65,
          60,
          66,
          60,
          60,
          43,
          58,
          61,
          53,
          53,
          60,
          46,
          63,
          81,
          75,
          65,
          68,
          62,
          50,
          46,
          50,
          61,
          50,
          52,
          64,
          60,
          62,
          50,
          50,
          65,
          60,
          52,
          50,
          85,
          59,
          66,
          45,
          63,
          53,
          65,
          70,
          51,
          52,
          70,
          50,
          65,
          60,
          69,
          49,
          63,
          55,
          40,
          60.667,
          40,
          80,
          64,
          50,
          73,
          45,
          65,
          50,
          60,
          63,
          45,
          70,
          60,
          78,
          50,
          40,
          85,
          60,
          49,
          70,
          50,
          78,
          65,
          73,
          70,
          68,
          55,
          65,
          42,
          47,
          58,
          75,
          58,
          55,
          65,
          72,
          70,
          40,
          53,
          53,
          77,
          75,
          70,
          65,
          55,
          70,
          65,
          40,
          73,
          54,
          61,
          64,
          40,
          53,
          50,
          55,
          50,
          70,
          53,
          52,
          65,
          58,
          45,
          53,
          55,
          62,
          68,
          61,
          50,
          56,
          45,
          40,
          44,
          51,
          67,
          42,
          60,
          45,
          70,
          70,
          50,
          55,
          70,
          70,
          42,
          65,
          50,
          55,
          60,
          45,
          65,
          90,
          45,
          60,
          52,
          63,
          62,
          55,
          45,
          45,
          50
         ],
         "y0": " ",
         "yaxis": "y"
        }
       ],
       "layout": {
        "legend": {
         "title": {
          "text": "death_event"
         },
         "tracegroupgap": 0
        },
        "margin": {
         "t": 60
        },
        "template": {
         "data": {
          "bar": [
           {
            "error_x": {
             "color": "#2a3f5f"
            },
            "error_y": {
             "color": "#2a3f5f"
            },
            "marker": {
             "line": {
              "color": "#E5ECF6",
              "width": 0.5
             },
             "pattern": {
              "fillmode": "overlay",
              "size": 10,
              "solidity": 0.2
             }
            },
            "type": "bar"
           }
          ],
          "barpolar": [
           {
            "marker": {
             "line": {
              "color": "#E5ECF6",
              "width": 0.5
             },
             "pattern": {
              "fillmode": "overlay",
              "size": 10,
              "solidity": 0.2
             }
            },
            "type": "barpolar"
           }
          ],
          "carpet": [
           {
            "aaxis": {
             "endlinecolor": "#2a3f5f",
             "gridcolor": "white",
             "linecolor": "white",
             "minorgridcolor": "white",
             "startlinecolor": "#2a3f5f"
            },
            "baxis": {
             "endlinecolor": "#2a3f5f",
             "gridcolor": "white",
             "linecolor": "white",
             "minorgridcolor": "white",
             "startlinecolor": "#2a3f5f"
            },
            "type": "carpet"
           }
          ],
          "choropleth": [
           {
            "colorbar": {
             "outlinewidth": 0,
             "ticks": ""
            },
            "type": "choropleth"
           }
          ],
          "contour": [
           {
            "colorbar": {
             "outlinewidth": 0,
             "ticks": ""
            },
            "colorscale": [
             [
              0,
              "#0d0887"
             ],
             [
              0.1111111111111111,
              "#46039f"
             ],
             [
              0.2222222222222222,
              "#7201a8"
             ],
             [
              0.3333333333333333,
              "#9c179e"
             ],
             [
              0.4444444444444444,
              "#bd3786"
             ],
             [
              0.5555555555555556,
              "#d8576b"
             ],
             [
              0.6666666666666666,
              "#ed7953"
             ],
             [
              0.7777777777777778,
              "#fb9f3a"
             ],
             [
              0.8888888888888888,
              "#fdca26"
             ],
             [
              1,
              "#f0f921"
             ]
            ],
            "type": "contour"
           }
          ],
          "contourcarpet": [
           {
            "colorbar": {
             "outlinewidth": 0,
             "ticks": ""
            },
            "type": "contourcarpet"
           }
          ],
          "heatmap": [
           {
            "colorbar": {
             "outlinewidth": 0,
             "ticks": ""
            },
            "colorscale": [
             [
              0,
              "#0d0887"
             ],
             [
              0.1111111111111111,
              "#46039f"
             ],
             [
              0.2222222222222222,
              "#7201a8"
             ],
             [
              0.3333333333333333,
              "#9c179e"
             ],
             [
              0.4444444444444444,
              "#bd3786"
             ],
             [
              0.5555555555555556,
              "#d8576b"
             ],
             [
              0.6666666666666666,
              "#ed7953"
             ],
             [
              0.7777777777777778,
              "#fb9f3a"
             ],
             [
              0.8888888888888888,
              "#fdca26"
             ],
             [
              1,
              "#f0f921"
             ]
            ],
            "type": "heatmap"
           }
          ],
          "heatmapgl": [
           {
            "colorbar": {
             "outlinewidth": 0,
             "ticks": ""
            },
            "colorscale": [
             [
              0,
              "#0d0887"
             ],
             [
              0.1111111111111111,
              "#46039f"
             ],
             [
              0.2222222222222222,
              "#7201a8"
             ],
             [
              0.3333333333333333,
              "#9c179e"
             ],
             [
              0.4444444444444444,
              "#bd3786"
             ],
             [
              0.5555555555555556,
              "#d8576b"
             ],
             [
              0.6666666666666666,
              "#ed7953"
             ],
             [
              0.7777777777777778,
              "#fb9f3a"
             ],
             [
              0.8888888888888888,
              "#fdca26"
             ],
             [
              1,
              "#f0f921"
             ]
            ],
            "type": "heatmapgl"
           }
          ],
          "histogram": [
           {
            "marker": {
             "pattern": {
              "fillmode": "overlay",
              "size": 10,
              "solidity": 0.2
             }
            },
            "type": "histogram"
           }
          ],
          "histogram2d": [
           {
            "colorbar": {
             "outlinewidth": 0,
             "ticks": ""
            },
            "colorscale": [
             [
              0,
              "#0d0887"
             ],
             [
              0.1111111111111111,
              "#46039f"
             ],
             [
              0.2222222222222222,
              "#7201a8"
             ],
             [
              0.3333333333333333,
              "#9c179e"
             ],
             [
              0.4444444444444444,
              "#bd3786"
             ],
             [
              0.5555555555555556,
              "#d8576b"
             ],
             [
              0.6666666666666666,
              "#ed7953"
             ],
             [
              0.7777777777777778,
              "#fb9f3a"
             ],
             [
              0.8888888888888888,
              "#fdca26"
             ],
             [
              1,
              "#f0f921"
             ]
            ],
            "type": "histogram2d"
           }
          ],
          "histogram2dcontour": [
           {
            "colorbar": {
             "outlinewidth": 0,
             "ticks": ""
            },
            "colorscale": [
             [
              0,
              "#0d0887"
             ],
             [
              0.1111111111111111,
              "#46039f"
             ],
             [
              0.2222222222222222,
              "#7201a8"
             ],
             [
              0.3333333333333333,
              "#9c179e"
             ],
             [
              0.4444444444444444,
              "#bd3786"
             ],
             [
              0.5555555555555556,
              "#d8576b"
             ],
             [
              0.6666666666666666,
              "#ed7953"
             ],
             [
              0.7777777777777778,
              "#fb9f3a"
             ],
             [
              0.8888888888888888,
              "#fdca26"
             ],
             [
              1,
              "#f0f921"
             ]
            ],
            "type": "histogram2dcontour"
           }
          ],
          "mesh3d": [
           {
            "colorbar": {
             "outlinewidth": 0,
             "ticks": ""
            },
            "type": "mesh3d"
           }
          ],
          "parcoords": [
           {
            "line": {
             "colorbar": {
              "outlinewidth": 0,
              "ticks": ""
             }
            },
            "type": "parcoords"
           }
          ],
          "pie": [
           {
            "automargin": true,
            "type": "pie"
           }
          ],
          "scatter": [
           {
            "fillpattern": {
             "fillmode": "overlay",
             "size": 10,
             "solidity": 0.2
            },
            "type": "scatter"
           }
          ],
          "scatter3d": [
           {
            "line": {
             "colorbar": {
              "outlinewidth": 0,
              "ticks": ""
             }
            },
            "marker": {
             "colorbar": {
              "outlinewidth": 0,
              "ticks": ""
             }
            },
            "type": "scatter3d"
           }
          ],
          "scattercarpet": [
           {
            "marker": {
             "colorbar": {
              "outlinewidth": 0,
              "ticks": ""
             }
            },
            "type": "scattercarpet"
           }
          ],
          "scattergeo": [
           {
            "marker": {
             "colorbar": {
              "outlinewidth": 0,
              "ticks": ""
             }
            },
            "type": "scattergeo"
           }
          ],
          "scattergl": [
           {
            "marker": {
             "colorbar": {
              "outlinewidth": 0,
              "ticks": ""
             }
            },
            "type": "scattergl"
           }
          ],
          "scattermapbox": [
           {
            "marker": {
             "colorbar": {
              "outlinewidth": 0,
              "ticks": ""
             }
            },
            "type": "scattermapbox"
           }
          ],
          "scatterpolar": [
           {
            "marker": {
             "colorbar": {
              "outlinewidth": 0,
              "ticks": ""
             }
            },
            "type": "scatterpolar"
           }
          ],
          "scatterpolargl": [
           {
            "marker": {
             "colorbar": {
              "outlinewidth": 0,
              "ticks": ""
             }
            },
            "type": "scatterpolargl"
           }
          ],
          "scatterternary": [
           {
            "marker": {
             "colorbar": {
              "outlinewidth": 0,
              "ticks": ""
             }
            },
            "type": "scatterternary"
           }
          ],
          "surface": [
           {
            "colorbar": {
             "outlinewidth": 0,
             "ticks": ""
            },
            "colorscale": [
             [
              0,
              "#0d0887"
             ],
             [
              0.1111111111111111,
              "#46039f"
             ],
             [
              0.2222222222222222,
              "#7201a8"
             ],
             [
              0.3333333333333333,
              "#9c179e"
             ],
             [
              0.4444444444444444,
              "#bd3786"
             ],
             [
              0.5555555555555556,
              "#d8576b"
             ],
             [
              0.6666666666666666,
              "#ed7953"
             ],
             [
              0.7777777777777778,
              "#fb9f3a"
             ],
             [
              0.8888888888888888,
              "#fdca26"
             ],
             [
              1,
              "#f0f921"
             ]
            ],
            "type": "surface"
           }
          ],
          "table": [
           {
            "cells": {
             "fill": {
              "color": "#EBF0F8"
             },
             "line": {
              "color": "white"
             }
            },
            "header": {
             "fill": {
              "color": "#C8D4E3"
             },
             "line": {
              "color": "white"
             }
            },
            "type": "table"
           }
          ]
         },
         "layout": {
          "annotationdefaults": {
           "arrowcolor": "#2a3f5f",
           "arrowhead": 0,
           "arrowwidth": 1
          },
          "autotypenumbers": "strict",
          "coloraxis": {
           "colorbar": {
            "outlinewidth": 0,
            "ticks": ""
           }
          },
          "colorscale": {
           "diverging": [
            [
             0,
             "#8e0152"
            ],
            [
             0.1,
             "#c51b7d"
            ],
            [
             0.2,
             "#de77ae"
            ],
            [
             0.3,
             "#f1b6da"
            ],
            [
             0.4,
             "#fde0ef"
            ],
            [
             0.5,
             "#f7f7f7"
            ],
            [
             0.6,
             "#e6f5d0"
            ],
            [
             0.7,
             "#b8e186"
            ],
            [
             0.8,
             "#7fbc41"
            ],
            [
             0.9,
             "#4d9221"
            ],
            [
             1,
             "#276419"
            ]
           ],
           "sequential": [
            [
             0,
             "#0d0887"
            ],
            [
             0.1111111111111111,
             "#46039f"
            ],
            [
             0.2222222222222222,
             "#7201a8"
            ],
            [
             0.3333333333333333,
             "#9c179e"
            ],
            [
             0.4444444444444444,
             "#bd3786"
            ],
            [
             0.5555555555555556,
             "#d8576b"
            ],
            [
             0.6666666666666666,
             "#ed7953"
            ],
            [
             0.7777777777777778,
             "#fb9f3a"
            ],
            [
             0.8888888888888888,
             "#fdca26"
            ],
            [
             1,
             "#f0f921"
            ]
           ],
           "sequentialminus": [
            [
             0,
             "#0d0887"
            ],
            [
             0.1111111111111111,
             "#46039f"
            ],
            [
             0.2222222222222222,
             "#7201a8"
            ],
            [
             0.3333333333333333,
             "#9c179e"
            ],
            [
             0.4444444444444444,
             "#bd3786"
            ],
            [
             0.5555555555555556,
             "#d8576b"
            ],
            [
             0.6666666666666666,
             "#ed7953"
            ],
            [
             0.7777777777777778,
             "#fb9f3a"
            ],
            [
             0.8888888888888888,
             "#fdca26"
            ],
            [
             1,
             "#f0f921"
            ]
           ]
          },
          "colorway": [
           "#636efa",
           "#EF553B",
           "#00cc96",
           "#ab63fa",
           "#FFA15A",
           "#19d3f3",
           "#FF6692",
           "#B6E880",
           "#FF97FF",
           "#FECB52"
          ],
          "font": {
           "color": "#2a3f5f"
          },
          "geo": {
           "bgcolor": "white",
           "lakecolor": "white",
           "landcolor": "#E5ECF6",
           "showlakes": true,
           "showland": true,
           "subunitcolor": "white"
          },
          "hoverlabel": {
           "align": "left"
          },
          "hovermode": "closest",
          "mapbox": {
           "style": "light"
          },
          "paper_bgcolor": "white",
          "plot_bgcolor": "#E5ECF6",
          "polar": {
           "angularaxis": {
            "gridcolor": "white",
            "linecolor": "white",
            "ticks": ""
           },
           "bgcolor": "#E5ECF6",
           "radialaxis": {
            "gridcolor": "white",
            "linecolor": "white",
            "ticks": ""
           }
          },
          "scene": {
           "xaxis": {
            "backgroundcolor": "#E5ECF6",
            "gridcolor": "white",
            "gridwidth": 2,
            "linecolor": "white",
            "showbackground": true,
            "ticks": "",
            "zerolinecolor": "white"
           },
           "yaxis": {
            "backgroundcolor": "#E5ECF6",
            "gridcolor": "white",
            "gridwidth": 2,
            "linecolor": "white",
            "showbackground": true,
            "ticks": "",
            "zerolinecolor": "white"
           },
           "zaxis": {
            "backgroundcolor": "#E5ECF6",
            "gridcolor": "white",
            "gridwidth": 2,
            "linecolor": "white",
            "showbackground": true,
            "ticks": "",
            "zerolinecolor": "white"
           }
          },
          "shapedefaults": {
           "line": {
            "color": "#2a3f5f"
           }
          },
          "ternary": {
           "aaxis": {
            "gridcolor": "white",
            "linecolor": "white",
            "ticks": ""
           },
           "baxis": {
            "gridcolor": "white",
            "linecolor": "white",
            "ticks": ""
           },
           "bgcolor": "#E5ECF6",
           "caxis": {
            "gridcolor": "white",
            "linecolor": "white",
            "ticks": ""
           }
          },
          "title": {
           "x": 0.05
          },
          "xaxis": {
           "automargin": true,
           "gridcolor": "white",
           "linecolor": "white",
           "ticks": "",
           "title": {
            "standoff": 15
           },
           "zerolinecolor": "white",
           "zerolinewidth": 2
          },
          "yaxis": {
           "automargin": true,
           "gridcolor": "white",
           "linecolor": "white",
           "ticks": "",
           "title": {
            "standoff": 15
           },
           "zerolinecolor": "white",
           "zerolinewidth": 2
          }
         }
        },
        "title": {
         "text": "Analysis in Age and Smoking on Survival Status"
        },
        "violinmode": "group",
        "xaxis": {
         "anchor": "y",
         "domain": [
          0,
          1
         ],
         "title": {
          "text": "smoking"
         }
        },
        "yaxis": {
         "anchor": "x",
         "domain": [
          0,
          1
         ],
         "title": {
          "text": "age"
         }
        }
       }
      }
     },
     "metadata": {},
     "output_type": "display_data"
    }
   ],
   "source": [
    "fig = px.violin(df_clean, y=\"age\", x=\"smoking\", color=\"death_event\", box=True, points=\"all\", hover_data=df_clean.columns)\n",
    "fig.update_layout(title_text=\"Analysis in Age and Smoking on Survival Status\")\n",
    "fig.show()"
   ]
  },
  {
   "cell_type": "markdown",
   "metadata": {},
   "source": [
    "**Keterangan**\n",
    "<br>\n",
    "Untuk yang bukan perokok, tingkat keselamatan tinggi di umur 55-65. Sedangkan, untuk perokok sekitar umur 50-60."
   ]
  },
  {
   "cell_type": "code",
   "execution_count": 33,
   "metadata": {},
   "outputs": [
    {
     "data": {
      "application/vnd.plotly.v1+json": {
       "config": {
        "plotlyServerURL": "https://plot.ly"
       },
       "data": [
        {
         "alignmentgroup": "True",
         "box": {
          "visible": true
         },
         "customdata": [
          [
           0,
           582,
           20,
           1,
           265000,
           1.9,
           130,
           1,
           0,
           4,
           1
          ],
          [
           0,
           7861,
           38,
           0,
           263358.03,
           1.1,
           136,
           1,
           0,
           6,
           1
          ],
          [
           0,
           146,
           20,
           0,
           162000,
           1.3,
           129,
           1,
           1,
           7,
           1
          ],
          [
           1,
           111,
           20,
           0,
           210000,
           1.9,
           137,
           1,
           0,
           7,
           1
          ],
          [
           1,
           160,
           20,
           0,
           327000,
           2.7,
           116,
           0,
           0,
           8,
           1
          ],
          [
           1,
           47,
           40,
           1,
           204000,
           2.1,
           132,
           1,
           1,
           8,
           1
          ],
          [
           1,
           246,
           15,
           0,
           127000,
           1.2,
           137,
           1,
           0,
           10,
           1
          ],
          [
           1,
           315,
           60,
           0,
           454000,
           1.1,
           131,
           1,
           1,
           10,
           1
          ],
          [
           0,
           157,
           65,
           0,
           263358.03,
           1.5,
           138,
           0,
           0,
           10,
           1
          ],
          [
           1,
           123,
           35,
           1,
           388000,
           9.4,
           133,
           1,
           1,
           10,
           1
          ],
          [
           1,
           81,
           38,
           1,
           368000,
           4,
           131,
           1,
           1,
           10,
           1
          ],
          [
           0,
           231,
           25,
           1,
           253000,
           0.9,
           140,
           1,
           1,
           10,
           1
          ],
          [
           1,
           981,
           30,
           0,
           136000,
           1.1,
           137,
           1,
           0,
           11,
           1
          ],
          [
           1,
           168,
           38,
           1,
           276000,
           1.1,
           137,
           1,
           0,
           11,
           1
          ],
          [
           1,
           379,
           50,
           0,
           47000,
           1.3,
           136,
           1,
           0,
           13,
           1
          ],
          [
           1,
           149,
           38,
           0,
           262000,
           0.9,
           140,
           1,
           0,
           14,
           1
          ],
          [
           0,
           582,
           14,
           0,
           166000,
           0.8,
           127,
           1,
           0,
           14,
           1
          ],
          [
           1,
           125,
           25,
           1,
           237000,
           1,
           140,
           0,
           0,
           15,
           1
          ],
          [
           1,
           582,
           55,
           0,
           87000,
           1.9,
           121,
           0,
           0,
           15,
           1
          ],
          [
           1,
           128,
           30,
           1,
           297000,
           1.6,
           136,
           0,
           0,
           20,
           1
          ],
          [
           1,
           220,
           35,
           1,
           289000,
           0.9,
           140,
           1,
           1,
           20,
           1
          ],
          [
           0,
           582,
           30,
           1,
           263358.03,
           1.83,
           134,
           0,
           0,
           23,
           1
          ],
          [
           0,
           148,
           38,
           0,
           149000,
           1.9,
           144,
           1,
           1,
           23,
           1
          ],
          [
           1,
           112,
           40,
           1,
           196000,
           1,
           138,
           0,
           0,
           24,
           1
          ],
          [
           0,
           122,
           45,
           1,
           284000,
           1.3,
           136,
           1,
           1,
           26,
           1
          ],
          [
           1,
           60,
           38,
           0,
           153000,
           5.8,
           134,
           1,
           0,
           26,
           1
          ],
          [
           0,
           70,
           30,
           0,
           200000,
           1.2,
           132,
           1,
           1,
           26,
           1
          ],
          [
           0,
           582,
           38,
           1,
           263358.03,
           1.83,
           134,
           1,
           0,
           27,
           1
          ],
          [
           0,
           23,
           45,
           0,
           360000,
           3,
           132,
           1,
           0,
           28,
           1
          ],
          [
           1,
           249,
           35,
           1,
           319000,
           1,
           128,
           0,
           0,
           28,
           1
          ],
          [
           0,
           94,
           50,
           1,
           188000,
           1,
           140,
           1,
           0,
           29,
           1
          ],
          [
           0,
           582,
           35,
           0,
           228000,
           3.5,
           134,
           1,
           0,
           30,
           1
          ],
          [
           1,
           60,
           50,
           0,
           226000,
           1,
           134,
           1,
           0,
           30,
           1
          ],
          [
           1,
           855,
           50,
           1,
           321000,
           1,
           145,
           0,
           0,
           30,
           1
          ],
          [
           0,
           235,
           38,
           0,
           329000,
           3,
           142,
           0,
           0,
           30,
           1
          ],
          [
           0,
           582,
           20,
           1,
           263358.03,
           1.83,
           134,
           1,
           1,
           31,
           1
          ],
          [
           0,
           124,
           30,
           1,
           153000,
           1.2,
           136,
           0,
           1,
           32,
           1
          ],
          [
           0,
           571,
           45,
           1,
           185000,
           1.2,
           139,
           1,
           1,
           33,
           1
          ],
          [
           1,
           588,
           60,
           0,
           194000,
           1.1,
           142,
           0,
           0,
           33,
           1
          ],
          [
           0,
           582,
           38,
           0,
           310000,
           1.9,
           135,
           1,
           1,
           35,
           1
          ],
          [
           0,
           1380,
           25,
           1,
           271000,
           0.9,
           130,
           1,
           0,
           38,
           1
          ],
          [
           0,
           582,
           38,
           1,
           451000,
           0.6,
           138,
           1,
           1,
           40,
           1
          ],
          [
           1,
           553,
           20,
           1,
           140000,
           4.4,
           133,
           1,
           0,
           41,
           1
          ],
          [
           1,
           129,
           30,
           0,
           395000,
           1,
           140,
           0,
           0,
           42,
           1
          ],
          [
           1,
           577,
           25,
           1,
           166000,
           1,
           138,
           1,
           0,
           43,
           1
          ],
          [
           1,
           91,
           20,
           1,
           418000,
           1.4,
           139,
           0,
           0,
           43,
           1
          ],
          [
           0,
           3964,
           62,
           0,
           263358.03,
           6.8,
           146,
           0,
           0,
           43,
           1
          ],
          [
           1,
           69,
           50,
           1,
           351000,
           1,
           134,
           0,
           0,
           44,
           1
          ],
          [
           1,
           260,
           38,
           0,
           255000,
           2.2,
           132,
           0,
           1,
           45,
           1
          ],
          [
           1,
           371,
           30,
           0,
           461000,
           2,
           132,
           1,
           0,
           50,
           1
          ],
          [
           0,
           789,
           20,
           1,
           319000,
           1.1,
           136,
           1,
           1,
           55,
           1
          ],
          [
           0,
           364,
           20,
           1,
           254000,
           1.3,
           136,
           1,
           1,
           59,
           1
          ],
          [
           0,
           7702,
           25,
           1,
           390000,
           1,
           139,
           1,
           0,
           60,
           1
          ],
          [
           0,
           318,
           40,
           1,
           216000,
           2.3,
           131,
           0,
           0,
           60,
           1
          ],
          [
           0,
           582,
           35,
           0,
           385000,
           1,
           145,
           1,
           0,
           61,
           1
          ],
          [
           0,
           68,
           20,
           0,
           119000,
           2.9,
           127,
           1,
           1,
           64,
           1
          ],
          [
           1,
           250,
           15,
           0,
           213000,
           1.3,
           136,
           0,
           0,
           65,
           1
          ],
          [
           1,
           110,
           25,
           0,
           274000,
           1,
           140,
           1,
           1,
           65,
           1
          ],
          [
           0,
           161,
           25,
           0,
           244000,
           1.2,
           142,
           0,
           0,
           66,
           1
          ],
          [
           0,
           113,
           25,
           0,
           497000,
           1.83,
           135,
           1,
           0,
           67,
           1
          ],
          [
           0,
           5882,
           35,
           0,
           243000,
           1,
           132,
           1,
           1,
           72,
           1
          ],
          [
           0,
           582,
           20,
           0,
           266000,
           1.2,
           134,
           1,
           1,
           73,
           1
          ],
          [
           1,
           47,
           20,
           0,
           204000,
           0.7,
           139,
           1,
           1,
           73,
           1
          ],
          [
           1,
           76,
           25,
           0,
           196000,
           2.5,
           132,
           0,
           0,
           77,
           1
          ],
          [
           1,
           280,
           25,
           1,
           302000,
           1,
           141,
           0,
           0,
           78,
           1
          ],
          [
           1,
           154,
           25,
           0,
           210000,
           1.7,
           135,
           1,
           0,
           82,
           1
          ],
          [
           1,
           328,
           30,
           1,
           621000,
           1.7,
           138,
           0,
           1,
           88,
           1
          ],
          [
           0,
           129,
           60,
           0,
           306000,
           1.2,
           132,
           1,
           1,
           90,
           1
          ],
          [
           1,
           143,
           60,
           0,
           351000,
           1.3,
           137,
           0,
           0,
           90,
           1
          ],
          [
           0,
           582,
           38,
           0,
           263358.03,
           1.83,
           134,
           0,
           0,
           95,
           1
          ],
          [
           0,
           582,
           40,
           0,
           217000,
           3.7,
           134,
           1,
           0,
           96,
           1
          ],
          [
           0,
           168,
           17,
           1,
           271000,
           2.1,
           124,
           0,
           0,
           100,
           1
          ],
          [
           0,
           805,
           38,
           0,
           263358.03,
           1.1,
           134,
           1,
           0,
           109,
           1
          ],
          [
           1,
           943,
           25,
           1,
           338000,
           1.7,
           139,
           1,
           1,
           111,
           1
          ],
          [
           1,
           582,
           30,
           0,
           225000,
           1.83,
           134,
           1,
           0,
           113,
           1
          ],
          [
           0,
           233,
           45,
           1,
           235000,
           2.5,
           135,
           0,
           0,
           115,
           1
          ],
          [
           1,
           2334,
           35,
           0,
           75000,
           0.9,
           142,
           0,
           0,
           126,
           1
          ],
          [
           0,
           2442,
           30,
           0,
           334000,
           1.1,
           139,
           1,
           0,
           129,
           1
          ],
          [
           0,
           776,
           38,
           1,
           192000,
           1.3,
           135,
           0,
           0,
           130,
           1
          ],
          [
           0,
           66,
           20,
           0,
           70000,
           2.4,
           134,
           1,
           0,
           135,
           1
          ],
          [
           1,
           176,
           25,
           0,
           221000,
           1,
           136,
           1,
           1,
           150,
           1
          ],
          [
           0,
           395,
           25,
           0,
           265000,
           1.2,
           136,
           1,
           1,
           154,
           1
          ],
          [
           0,
           99,
           38,
           1,
           224000,
           2.5,
           134,
           1,
           0,
           162,
           1
          ],
          [
           1,
           145,
           25,
           0,
           219000,
           1.2,
           137,
           1,
           1,
           170,
           1
          ],
          [
           1,
           104,
           30,
           0,
           389000,
           1.5,
           136,
           1,
           0,
           171,
           1
          ],
          [
           0,
           582,
           50,
           0,
           153000,
           0.6,
           134,
           0,
           0,
           172,
           1
          ],
          [
           0,
           1896,
           25,
           0,
           365000,
           2.1,
           144,
           0,
           0,
           172,
           1
          ],
          [
           0,
           582,
           20,
           1,
           126000,
           1.6,
           135,
           1,
           0,
           180,
           1
          ],
          [
           1,
           418,
           45,
           0,
           223000,
           1.8,
           145,
           1,
           0,
           180,
           1
          ],
          [
           1,
           131,
           30,
           1,
           244000,
           1.6,
           130,
           0,
           0,
           193,
           1
          ],
          [
           1,
           427,
           70,
           1,
           151000,
           9,
           137,
           0,
           0,
           196,
           1
          ],
          [
           0,
           582,
           20,
           0,
           263358.03,
           1.83,
           134,
           1,
           0,
           198,
           1
          ],
          [
           0,
           166,
           30,
           0,
           62000,
           1.7,
           127,
           0,
           0,
           207,
           1
          ],
          [
           0,
           2017,
           25,
           0,
           314000,
           1.1,
           138,
           1,
           0,
           214,
           1
          ],
          [
           1,
           258,
           25,
           0,
           198000,
           1.4,
           129,
           1,
           0,
           235,
           1
          ],
          [
           0,
           1199,
           20,
           0,
           263358.03,
           1.83,
           134,
           1,
           1,
           241,
           1
          ]
         ],
         "hovertemplate": "death_event=%{customdata[10]}<br>diabetes=%{x}<br>age=%{y}<br>anaemia=%{customdata[0]}<br>cpk_level=%{customdata[1]}<br>ejection_fraction=%{customdata[2]}<br>high_blood_pressure=%{customdata[3]}<br>platelets=%{customdata[4]}<br>serum_creatinine=%{customdata[5]}<br>serum_sodium=%{customdata[6]}<br>sex=%{customdata[7]}<br>smoking=%{customdata[8]}<br>time=%{customdata[9]}<extra></extra>",
         "legendgroup": "1",
         "marker": {
          "color": "#636efa"
         },
         "name": "1",
         "offsetgroup": "1",
         "orientation": "v",
         "points": "all",
         "scalegroup": "True",
         "showlegend": true,
         "type": "violin",
         "x": [
          0,
          0,
          0,
          0,
          1,
          0,
          0,
          1,
          0,
          0,
          0,
          0,
          0,
          0,
          0,
          0,
          0,
          0,
          1,
          1,
          0,
          1,
          1,
          0,
          1,
          0,
          1,
          1,
          0,
          1,
          1,
          1,
          1,
          1,
          1,
          0,
          1,
          1,
          1,
          1,
          0,
          1,
          0,
          0,
          0,
          0,
          1,
          1,
          1,
          0,
          0,
          1,
          1,
          0,
          0,
          0,
          1,
          0,
          0,
          1,
          0,
          0,
          0,
          1,
          1,
          0,
          0,
          0,
          0,
          0,
          0,
          1,
          0,
          0,
          0,
          0,
          1,
          1,
          1,
          1,
          1,
          1,
          0,
          0,
          1,
          0,
          1,
          0,
          0,
          1,
          0,
          0,
          0,
          0,
          1,
          0
         ],
         "x0": " ",
         "xaxis": "x",
         "y": [
          75,
          55,
          65,
          50,
          65,
          90,
          75,
          60,
          65,
          80,
          75,
          62,
          45,
          50,
          82,
          87,
          45,
          70,
          48,
          65,
          68,
          75,
          80,
          95,
          70,
          58,
          82,
          94,
          85,
          50,
          65,
          69,
          90,
          82,
          60,
          70,
          50,
          70,
          60,
          50,
          51,
          60,
          80,
          57,
          68,
          53,
          60,
          70,
          60,
          95,
          49,
          72,
          45,
          50,
          45,
          60,
          42,
          72,
          70,
          65,
          85,
          69,
          60,
          60,
          59,
          60,
          72,
          85,
          70,
          86,
          60,
          46,
          80,
          72,
          75,
          72,
          50,
          45,
          80,
          59,
          59,
          65,
          75,
          58,
          60.667,
          50,
          60,
          45,
          77,
          48,
          54,
          73,
          60,
          55,
          65,
          55
         ],
         "y0": " ",
         "yaxis": "y"
        },
        {
         "alignmentgroup": "True",
         "box": {
          "visible": true
         },
         "customdata": [
          [
           1,
           80,
           30,
           1,
           427000,
           1,
           138,
           0,
           0,
           12,
           0
          ],
          [
           1,
           52,
           25,
           1,
           276000,
           1.3,
           137,
           0,
           0,
           16,
           0
          ],
          [
           0,
           63,
           60,
           0,
           368000,
           0.8,
           135,
           1,
           0,
           22,
           0
          ],
          [
           1,
           159,
           30,
           0,
           302000,
           1.2,
           138,
           0,
           0,
           29,
           0
          ],
          [
           0,
           2656,
           30,
           0,
           305000,
           2.3,
           137,
           1,
           0,
           30,
           0
          ],
          [
           0,
           127,
           50,
           1,
           218000,
           1,
           134,
           1,
           0,
           33,
           0
          ],
          [
           1,
           75,
           35,
           0,
           223000,
           2.7,
           138,
           1,
           1,
           54,
           0
          ],
          [
           1,
           607,
           40,
           0,
           216000,
           0.6,
           138,
           1,
           1,
           54,
           0
          ],
          [
           0,
           109,
           35,
           0,
           254000,
           1.1,
           139,
           1,
           1,
           60,
           0
          ],
          [
           0,
           582,
           80,
           0,
           263358.03,
           1.18,
           137,
           0,
           0,
           63,
           0
          ],
          [
           0,
           148,
           40,
           0,
           374000,
           0.8,
           140,
           1,
           1,
           68,
           0
          ],
          [
           0,
           582,
           35,
           0,
           122000,
           0.9,
           139,
           1,
           1,
           71,
           0
          ],
          [
           0,
           224,
           50,
           0,
           149000,
           1.3,
           137,
           1,
           1,
           72,
           0
          ],
          [
           0,
           92,
           60,
           1,
           317000,
           0.8,
           140,
           0,
           1,
           74,
           0
          ],
          [
           0,
           102,
           40,
           0,
           237000,
           1.2,
           140,
           1,
           0,
           74,
           0
          ],
          [
           1,
           203,
           38,
           1,
           283000,
           0.6,
           131,
           1,
           1,
           74,
           0
          ],
          [
           0,
           336,
           45,
           1,
           324000,
           0.9,
           140,
           0,
           0,
           74,
           0
          ],
          [
           0,
           69,
           40,
           0,
           293000,
           1.7,
           136,
           0,
           0,
           75,
           0
          ],
          [
           0,
           582,
           50,
           0,
           263358.03,
           1.18,
           137,
           1,
           1,
           76,
           0
          ],
          [
           1,
           55,
           50,
           1,
           172000,
           1.8,
           133,
           1,
           0,
           78,
           0
          ],
          [
           0,
           78,
           50,
           0,
           406000,
           0.7,
           140,
           1,
           0,
           79,
           0
          ],
          [
           0,
           47,
           35,
           1,
           173000,
           1.1,
           137,
           1,
           0,
           79,
           0
          ],
          [
           1,
           68,
           60,
           1,
           304000,
           0.8,
           140,
           1,
           0,
           79,
           0
          ],
          [
           0,
           84,
           40,
           1,
           235000,
           0.7,
           139,
           1,
           0,
           79,
           0
          ],
          [
           1,
           115,
           25,
           1,
           181000,
           1.1,
           144,
           1,
           0,
           79,
           0
          ],
          [
           0,
           66,
           45,
           0,
           249000,
           0.8,
           136,
           1,
           1,
           80,
           0
          ],
          [
           0,
           897,
           45,
           0,
           297000,
           1,
           133,
           1,
           0,
           80,
           0
          ],
          [
           0,
           582,
           60,
           0,
           263358.03,
           1.18,
           137,
           0,
           0,
           82,
           0
          ],
          [
           0,
           144,
           38,
           1,
           327000,
           0.7,
           142,
           0,
           0,
           83,
           0
          ],
          [
           1,
           133,
           60,
           1,
           219000,
           1,
           141,
           1,
           0,
           83,
           0
          ],
          [
           1,
           514,
           25,
           1,
           254000,
           1.3,
           134,
           1,
           0,
           83,
           0
          ],
          [
           1,
           59,
           60,
           0,
           255000,
           1.1,
           136,
           0,
           0,
           85,
           0
          ],
          [
           1,
           156,
           25,
           1,
           318000,
           1.2,
           137,
           0,
           0,
           85,
           0
          ],
          [
           1,
           61,
           40,
           0,
           221000,
           1.1,
           140,
           0,
           0,
           86,
           0
          ],
          [
           1,
           305,
           25,
           0,
           298000,
           1.1,
           141,
           1,
           0,
           87,
           0
          ],
          [
           0,
           582,
           45,
           1,
           263358.03,
           1.18,
           137,
           1,
           0,
           87,
           0
          ],
          [
           0,
           898,
           25,
           0,
           149000,
           1.1,
           144,
           1,
           1,
           87,
           0
          ],
          [
           0,
           5209,
           30,
           0,
           226000,
           1,
           140,
           1,
           1,
           87,
           0
          ],
          [
           0,
           53,
           50,
           1,
           286000,
           2.3,
           143,
           0,
           0,
           87,
           0
          ],
          [
           0,
           748,
           45,
           0,
           263000,
           1.3,
           137,
           1,
           0,
           88,
           0
          ],
          [
           1,
           1876,
           35,
           0,
           226000,
           0.9,
           138,
           1,
           0,
           88,
           0
          ],
          [
           0,
           936,
           38,
           0,
           304000,
           1.1,
           133,
           1,
           1,
           88,
           0
          ],
          [
           0,
           292,
           35,
           0,
           850000,
           1.3,
           142,
           1,
           1,
           88,
           0
          ],
          [
           0,
           60,
           35,
           0,
           228000,
           1.2,
           135,
           1,
           1,
           90,
           0
          ],
          [
           0,
           369,
           25,
           0,
           252000,
           1.6,
           136,
           1,
           0,
           90,
           0
          ],
          [
           1,
           754,
           40,
           1,
           328000,
           1.2,
           126,
           1,
           0,
           91,
           0
          ],
          [
           1,
           400,
           40,
           0,
           164000,
           1,
           139,
           0,
           0,
           91,
           0
          ],
          [
           1,
           96,
           60,
           1,
           271000,
           0.7,
           136,
           0,
           0,
           94,
           0
          ],
          [
           1,
           102,
           60,
           0,
           507000,
           3.2,
           138,
           0,
           0,
           94,
           0
          ],
          [
           1,
           113,
           60,
           1,
           203000,
           0.9,
           140,
           0,
           0,
           94,
           0
          ],
          [
           1,
           737,
           60,
           1,
           210000,
           1.5,
           135,
           1,
           1,
           95,
           0
          ],
          [
           1,
           68,
           38,
           1,
           162000,
           1,
           136,
           0,
           0,
           95,
           0
          ],
          [
           0,
           96,
           38,
           0,
           228000,
           0.75,
           140,
           0,
           0,
           95,
           0
          ],
          [
           1,
           582,
           30,
           1,
           127000,
           0.9,
           145,
           0,
           0,
           95,
           0
          ],
          [
           1,
           358,
           50,
           0,
           237000,
           1.3,
           135,
           0,
           0,
           97,
           0
          ],
          [
           1,
           200,
           60,
           0,
           300000,
           0.8,
           137,
           0,
           0,
           104,
           0
          ],
          [
           0,
           248,
           30,
           1,
           267000,
           0.7,
           136,
           1,
           1,
           104,
           0
          ],
          [
           1,
           270,
           35,
           0,
           227000,
           3.4,
           145,
           1,
           0,
           105,
           0
          ],
          [
           1,
           1808,
           60,
           1,
           249000,
           0.7,
           138,
           1,
           1,
           106,
           0
          ],
          [
           1,
           1082,
           45,
           0,
           250000,
           6.1,
           131,
           1,
           0,
           107,
           0
          ],
          [
           0,
           719,
           40,
           1,
           263358.03,
           1.18,
           137,
           0,
           0,
           107,
           0
          ],
          [
           0,
           193,
           60,
           1,
           295000,
           1.3,
           145,
           1,
           1,
           107,
           0
          ],
          [
           0,
           4540,
           35,
           0,
           231000,
           1.18,
           137,
           1,
           1,
           107,
           0
          ],
          [
           0,
           582,
           40,
           0,
           263358.03,
           1.18,
           137,
           1,
           0,
           107,
           0
          ],
          [
           1,
           59,
           60,
           0,
           172000,
           0.9,
           137,
           0,
           0,
           107,
           0
          ],
          [
           1,
           646,
           25,
           0,
           305000,
           2.1,
           130,
           1,
           0,
           108,
           0
          ],
          [
           0,
           281,
           35,
           0,
           221000,
           1,
           136,
           0,
           0,
           108,
           0
          ],
          [
           0,
           1548,
           30,
           1,
           211000,
           0.8,
           138,
           1,
           0,
           108,
           0
          ],
          [
           1,
           291,
           35,
           0,
           348000,
           0.9,
           140,
           0,
           0,
           109,
           0
          ],
          [
           0,
           482,
           30,
           0,
           329000,
           0.9,
           132,
           0,
           0,
           109,
           0
          ],
          [
           1,
           84,
           40,
           1,
           229000,
           0.9,
           141,
           0,
           0,
           110,
           0
          ],
          [
           0,
           185,
           30,
           0,
           266000,
           0.7,
           141,
           1,
           1,
           112,
           0
          ],
          [
           0,
           132,
           30,
           0,
           218000,
           0.7,
           136,
           1,
           1,
           112,
           0
          ],
          [
           0,
           1610,
           60,
           0,
           242000,
           1,
           137,
           1,
           0,
           113,
           0
          ],
          [
           0,
           2261,
           35,
           1,
           228000,
           0.9,
           136,
           1,
           0,
           115,
           0
          ],
          [
           0,
           30,
           60,
           1,
           244000,
           0.9,
           139,
           1,
           0,
           117,
           0
          ],
          [
           0,
           115,
           45,
           1,
           184000,
           0.9,
           134,
           1,
           1,
           118,
           0
          ],
          [
           0,
           1846,
           35,
           0,
           263358.03,
           1.18,
           137,
           1,
           1,
           119,
           0
          ],
          [
           1,
           335,
           35,
           1,
           235000,
           0.8,
           136,
           0,
           0,
           120,
           0
          ],
          [
           1,
           231,
           25,
           0,
           194000,
           1.7,
           140,
           1,
           0,
           120,
           0
          ],
          [
           1,
           58,
           35,
           0,
           277000,
           1.4,
           136,
           0,
           0,
           120,
           0
          ],
          [
           0,
           250,
           25,
           0,
           262000,
           1,
           136,
           1,
           1,
           120,
           0
          ],
          [
           1,
           910,
           50,
           0,
           235000,
           1.3,
           134,
           1,
           0,
           121,
           0
          ],
          [
           1,
           129,
           45,
           1,
           362000,
           1.1,
           139,
           1,
           1,
           121,
           0
          ],
          [
           1,
           72,
           40,
           1,
           242000,
           1.2,
           134,
           1,
           0,
           121,
           0
          ],
          [
           1,
           130,
           35,
           0,
           174000,
           0.8,
           139,
           1,
           1,
           121,
           0
          ],
          [
           1,
           582,
           40,
           0,
           448000,
           0.9,
           137,
           1,
           1,
           123,
           0
          ],
          [
           0,
           196,
           60,
           0,
           220000,
           0.7,
           133,
           1,
           1,
           134,
           0
          ],
          [
           0,
           582,
           40,
           0,
           270000,
           1,
           138,
           0,
           0,
           140,
           0
          ],
          [
           0,
           835,
           35,
           1,
           305000,
           0.8,
           133,
           0,
           0,
           145,
           0
          ],
          [
           1,
           582,
           35,
           0,
           263358.03,
           1.5,
           136,
           1,
           1,
           145,
           0
          ],
          [
           0,
           3966,
           40,
           0,
           325000,
           0.9,
           140,
           1,
           1,
           146,
           0
          ],
          [
           1,
           171,
           60,
           1,
           176000,
           1.1,
           145,
           1,
           1,
           146,
           0
          ],
          [
           1,
           115,
           20,
           0,
           189000,
           0.8,
           139,
           1,
           0,
           146,
           0
          ],
          [
           0,
           198,
           35,
           1,
           281000,
           0.9,
           137,
           1,
           1,
           146,
           0
          ],
          [
           1,
           95,
           60,
           0,
           337000,
           1,
           138,
           1,
           1,
           146,
           0
          ],
          [
           0,
           1419,
           40,
           0,
           105000,
           1,
           135,
           1,
           1,
           147,
           0
          ],
          [
           1,
           69,
           50,
           0,
           132000,
           1,
           140,
           0,
           0,
           147,
           0
          ],
          [
           1,
           122,
           60,
           0,
           267000,
           1.2,
           145,
           1,
           0,
           147,
           0
          ],
          [
           0,
           835,
           40,
           0,
           279000,
           0.7,
           140,
           1,
           1,
           147,
           0
          ],
          [
           0,
           478,
           30,
           0,
           303000,
           0.9,
           136,
           1,
           0,
           148,
           0
          ],
          [
           1,
           151,
           40,
           1,
           201000,
           1,
           136,
           0,
           0,
           172,
           0
          ],
          [
           0,
           244,
           45,
           1,
           275000,
           0.9,
           140,
           0,
           0,
           174,
           0
          ],
          [
           0,
           582,
           35,
           0,
           350000,
           2.1,
           134,
           1,
           0,
           174,
           0
          ],
          [
           1,
           62,
           60,
           0,
           309000,
           1.5,
           135,
           0,
           0,
           174,
           0
          ],
          [
           1,
           121,
           40,
           0,
           260000,
           0.7,
           130,
           1,
           0,
           175,
           0
          ],
          [
           1,
           231,
           30,
           0,
           160000,
           1.18,
           142,
           1,
           1,
           180,
           0
          ],
          [
           0,
           582,
           38,
           1,
           263358.03,
           1.18,
           137,
           0,
           0,
           185,
           0
          ],
          [
           0,
           167,
           30,
           0,
           259000,
           0.8,
           138,
           0,
           0,
           186,
           0
          ],
          [
           1,
           582,
           20,
           1,
           279000,
           1,
           134,
           0,
           0,
           186,
           0
          ],
          [
           0,
           1211,
           35,
           0,
           263358.03,
           1.8,
           113,
           1,
           1,
           186,
           0
          ],
          [
           1,
           1767,
           45,
           0,
           73000,
           0.7,
           137,
           1,
           0,
           186,
           0
          ],
          [
           0,
           308,
           60,
           1,
           377000,
           1,
           136,
           1,
           0,
           186,
           0
          ],
          [
           0,
           97,
           60,
           1,
           220000,
           0.9,
           138,
           1,
           0,
           186,
           0
          ],
          [
           0,
           59,
           25,
           1,
           212000,
           3.5,
           136,
           1,
           1,
           187,
           0
          ],
          [
           1,
           64,
           40,
           0,
           277000,
           0.7,
           137,
           1,
           1,
           187,
           0
          ],
          [
           1,
           167,
           45,
           0,
           362000,
           1,
           136,
           0,
           0,
           187,
           0
          ],
          [
           1,
           101,
           40,
           0,
           226000,
           0.8,
           141,
           0,
           0,
           187,
           0
          ],
          [
           0,
           212,
           38,
           0,
           186000,
           0.9,
           136,
           1,
           0,
           187,
           0
          ],
          [
           1,
           2281,
           40,
           0,
           283000,
           1,
           141,
           0,
           0,
           187,
           0
          ],
          [
           0,
           972,
           35,
           1,
           268000,
           0.8,
           130,
           0,
           0,
           187,
           0
          ],
          [
           0,
           212,
           17,
           1,
           389000,
           1,
           136,
           1,
           1,
           188,
           0
          ],
          [
           0,
           582,
           62,
           1,
           147000,
           0.8,
           140,
           1,
           1,
           192,
           0
          ],
          [
           0,
           224,
           50,
           0,
           481000,
           1.4,
           138,
           1,
           1,
           192,
           0
          ],
          [
           1,
           135,
           35,
           1,
           290000,
           0.8,
           134,
           1,
           0,
           194,
           0
          ],
          [
           0,
           582,
           35,
           1,
           203000,
           1.3,
           134,
           1,
           0,
           195,
           0
          ],
          [
           0,
           1202,
           50,
           1,
           358000,
           0.9,
           141,
           0,
           0,
           196,
           0
          ],
          [
           1,
           1021,
           35,
           0,
           271000,
           1.1,
           134,
           1,
           0,
           197,
           0
          ],
          [
           0,
           582,
           35,
           1,
           371000,
           0.7,
           140,
           0,
           0,
           197,
           0
          ],
          [
           0,
           118,
           50,
           0,
           194000,
           1.1,
           145,
           1,
           1,
           200,
           0
          ],
          [
           1,
           86,
           35,
           0,
           365000,
           1.1,
           139,
           1,
           1,
           201,
           0
          ],
          [
           0,
           582,
           25,
           0,
           130000,
           0.8,
           134,
           1,
           0,
           201,
           0
          ],
          [
           0,
           582,
           25,
           0,
           504000,
           1,
           138,
           1,
           0,
           205,
           0
          ],
          [
           0,
           675,
           60,
           0,
           265000,
           1.4,
           125,
           0,
           0,
           205,
           0
          ],
          [
           1,
           57,
           25,
           0,
           189000,
           1.3,
           132,
           1,
           1,
           205,
           0
          ],
          [
           1,
           2794,
           35,
           1,
           141000,
           1,
           140,
           1,
           0,
           206,
           0
          ],
          [
           0,
           56,
           25,
           0,
           237000,
           5,
           130,
           0,
           0,
           207,
           0
          ],
          [
           0,
           211,
           25,
           0,
           274000,
           1.2,
           134,
           0,
           0,
           207,
           0
          ],
          [
           0,
           93,
           35,
           0,
           185000,
           1.1,
           134,
           1,
           1,
           208,
           0
          ],
          [
           1,
           129,
           35,
           0,
           255000,
           0.9,
           137,
           1,
           0,
           209,
           0
          ],
          [
           1,
           707,
           38,
           0,
           330000,
           1.4,
           137,
           1,
           1,
           209,
           0
          ],
          [
           1,
           582,
           45,
           0,
           305000,
           1.1,
           137,
           1,
           1,
           209,
           0
          ],
          [
           1,
           109,
           50,
           1,
           406000,
           1.1,
           137,
           1,
           0,
           209,
           0
          ],
          [
           0,
           119,
           50,
           1,
           248000,
           1.1,
           148,
           1,
           0,
           209,
           0
          ],
          [
           0,
           232,
           30,
           0,
           173000,
           1.2,
           132,
           1,
           0,
           210,
           0
          ],
          [
           1,
           720,
           40,
           0,
           257000,
           1,
           136,
           0,
           0,
           210,
           0
          ],
          [
           1,
           180,
           45,
           0,
           263358.03,
           1.18,
           137,
           1,
           1,
           211,
           0
          ],
          [
           0,
           81,
           35,
           1,
           533000,
           1.3,
           139,
           0,
           0,
           212,
           0
          ],
          [
           0,
           582,
           30,
           0,
           249000,
           1.3,
           136,
           1,
           1,
           212,
           0
          ],
          [
           0,
           90,
           35,
           0,
           255000,
           1.1,
           136,
           1,
           1,
           212,
           0
          ],
          [
           1,
           1185,
           40,
           1,
           220000,
           0.9,
           141,
           0,
           0,
           213,
           0
          ],
          [
           0,
           582,
           38,
           0,
           264000,
           1.8,
           134,
           1,
           0,
           213,
           0
          ],
          [
           1,
           80,
           38,
           0,
           282000,
           1.4,
           137,
           1,
           0,
           213,
           0
          ],
          [
           0,
           143,
           25,
           0,
           246000,
           2.4,
           135,
           1,
           0,
           214,
           0
          ],
          [
           0,
           624,
           35,
           0,
           301000,
           1,
           142,
           1,
           1,
           214,
           0
          ],
          [
           0,
           207,
           40,
           0,
           223000,
           1.2,
           130,
           0,
           0,
           214,
           0
          ],
          [
           0,
           2522,
           30,
           1,
           404000,
           0.5,
           139,
           0,
           0,
           214,
           0
          ],
          [
           0,
           572,
           35,
           0,
           231000,
           0.8,
           143,
           0,
           0,
           215,
           0
          ],
          [
           0,
           245,
           45,
           1,
           274000,
           1,
           133,
           1,
           0,
           215,
           0
          ],
          [
           0,
           88,
           35,
           1,
           236000,
           1.2,
           132,
           0,
           0,
           215,
           0
          ],
          [
           1,
           446,
           60,
           1,
           263358.03,
           1,
           139,
           1,
           0,
           215,
           0
          ],
          [
           1,
           191,
           30,
           1,
           334000,
           1,
           142,
           1,
           1,
           216,
           0
          ],
          [
           0,
           326,
           38,
           0,
           294000,
           1.7,
           139,
           0,
           0,
           220,
           0
          ],
          [
           0,
           132,
           38,
           1,
           253000,
           1,
           139,
           1,
           0,
           230,
           0
          ],
          [
           1,
           66,
           25,
           0,
           233000,
           0.8,
           135,
           1,
           0,
           230,
           0
          ],
          [
           0,
           56,
           50,
           0,
           308000,
           0.7,
           135,
           1,
           1,
           231,
           0
          ],
          [
           0,
           66,
           40,
           0,
           203000,
           1,
           138,
           1,
           0,
           233,
           0
          ],
          [
           1,
           655,
           40,
           0,
           283000,
           0.7,
           133,
           0,
           0,
           233,
           0
          ],
          [
           1,
           157,
           60,
           0,
           208000,
           1,
           140,
           0,
           0,
           237,
           0
          ],
          [
           0,
           582,
           38,
           0,
           147000,
           1.2,
           141,
           1,
           0,
           237,
           0
          ],
          [
           1,
           298,
           35,
           0,
           362000,
           0.9,
           140,
           1,
           1,
           240,
           0
          ],
          [
           1,
           135,
           38,
           0,
           133000,
           1.7,
           140,
           1,
           0,
           244,
           0
          ],
          [
           0,
           582,
           38,
           0,
           302000,
           0.9,
           140,
           0,
           0,
           244,
           0
          ],
          [
           0,
           582,
           35,
           0,
           222000,
           1,
           132,
           1,
           0,
           244,
           0
          ],
          [
           0,
           582,
           30,
           1,
           263358.03,
           1.6,
           130,
           1,
           1,
           244,
           0
          ],
          [
           0,
           582,
           40,
           0,
           221000,
           0.9,
           134,
           0,
           0,
           244,
           0
          ],
          [
           0,
           213,
           38,
           0,
           215000,
           1.2,
           133,
           0,
           0,
           245,
           0
          ],
          [
           0,
           64,
           40,
           0,
           189000,
           0.7,
           140,
           1,
           0,
           245,
           0
          ],
          [
           1,
           257,
           30,
           0,
           150000,
           1,
           137,
           1,
           1,
           245,
           0
          ],
          [
           0,
           582,
           38,
           1,
           422000,
           0.8,
           137,
           0,
           0,
           245,
           0
          ],
          [
           0,
           618,
           35,
           0,
           327000,
           1.1,
           142,
           0,
           0,
           245,
           0
          ],
          [
           0,
           582,
           38,
           0,
           25100,
           1.1,
           140,
           1,
           0,
           246,
           0
          ],
          [
           1,
           1051,
           30,
           0,
           232000,
           0.7,
           136,
           0,
           0,
           246,
           0
          ],
          [
           0,
           84,
           38,
           0,
           451000,
           1.3,
           136,
           0,
           0,
           246,
           0
          ],
          [
           0,
           2695,
           40,
           0,
           241000,
           1,
           137,
           1,
           0,
           247,
           0
          ],
          [
           0,
           582,
           40,
           0,
           51000,
           2.7,
           136,
           1,
           1,
           250,
           0
          ],
          [
           0,
           64,
           30,
           0,
           215000,
           3.8,
           128,
           1,
           1,
           250,
           0
          ],
          [
           0,
           1688,
           38,
           0,
           263358.03,
           1.1,
           138,
           1,
           1,
           250,
           0
          ],
          [
           1,
           54,
           40,
           0,
           279000,
           0.8,
           141,
           1,
           0,
           250,
           0
          ],
          [
           1,
           170,
           40,
           0,
           336000,
           1.2,
           135,
           1,
           0,
           250,
           0
          ],
          [
           0,
           253,
           35,
           0,
           279000,
           1.7,
           140,
           1,
           0,
           250,
           0
          ],
          [
           0,
           582,
           55,
           0,
           543000,
           1,
           132,
           0,
           0,
           250,
           0
          ],
          [
           0,
           892,
           35,
           0,
           263358.03,
           1.1,
           142,
           0,
           0,
           256,
           0
          ],
          [
           1,
           337,
           38,
           0,
           390000,
           0.9,
           144,
           0,
           0,
           256,
           0
          ],
          [
           0,
           615,
           55,
           0,
           222000,
           0.8,
           141,
           0,
           0,
           257,
           0
          ],
          [
           0,
           320,
           35,
           0,
           133000,
           1.4,
           139,
           1,
           0,
           258,
           0
          ],
          [
           0,
           190,
           38,
           0,
           382000,
           1,
           140,
           1,
           1,
           258,
           0
          ],
          [
           1,
           103,
           35,
           0,
           179000,
           0.9,
           136,
           1,
           1,
           270,
           0
          ],
          [
           0,
           61,
           38,
           1,
           155000,
           1.1,
           143,
           1,
           1,
           270,
           0
          ],
          [
           0,
           1820,
           38,
           0,
           270000,
           1.2,
           139,
           0,
           0,
           271,
           0
          ],
          [
           0,
           2060,
           60,
           0,
           742000,
           0.8,
           138,
           0,
           0,
           278,
           0
          ],
          [
           0,
           2413,
           38,
           0,
           140000,
           1.4,
           140,
           1,
           1,
           280,
           0
          ],
          [
           0,
           196,
           45,
           0,
           395000,
           1.6,
           136,
           1,
           1,
           285,
           0
          ]
         ],
         "hovertemplate": "death_event=%{customdata[10]}<br>diabetes=%{x}<br>age=%{y}<br>anaemia=%{customdata[0]}<br>cpk_level=%{customdata[1]}<br>ejection_fraction=%{customdata[2]}<br>high_blood_pressure=%{customdata[3]}<br>platelets=%{customdata[4]}<br>serum_creatinine=%{customdata[5]}<br>serum_sodium=%{customdata[6]}<br>sex=%{customdata[7]}<br>smoking=%{customdata[8]}<br>time=%{customdata[9]}<extra></extra>",
         "legendgroup": "0",
         "marker": {
          "color": "#EF553B"
         },
         "name": "0",
         "offsetgroup": "0",
         "orientation": "v",
         "points": "all",
         "scalegroup": "True",
         "showlegend": true,
         "type": "violin",
         "x": [
          0,
          0,
          1,
          1,
          1,
          1,
          0,
          0,
          0,
          0,
          0,
          1,
          1,
          0,
          1,
          1,
          0,
          0,
          0,
          0,
          0,
          0,
          1,
          1,
          0,
          1,
          1,
          0,
          1,
          0,
          1,
          0,
          1,
          1,
          0,
          0,
          0,
          0,
          0,
          0,
          1,
          0,
          1,
          0,
          1,
          1,
          0,
          1,
          0,
          1,
          0,
          1,
          1,
          0,
          0,
          1,
          0,
          1,
          0,
          1,
          0,
          0,
          0,
          0,
          1,
          0,
          1,
          0,
          0,
          1,
          0,
          0,
          0,
          0,
          0,
          1,
          0,
          1,
          0,
          1,
          0,
          0,
          0,
          0,
          0,
          0,
          0,
          0,
          1,
          0,
          1,
          0,
          0,
          0,
          1,
          0,
          0,
          0,
          1,
          0,
          1,
          1,
          0,
          1,
          0,
          1,
          1,
          1,
          0,
          1,
          1,
          0,
          1,
          0,
          0,
          0,
          1,
          0,
          0,
          1,
          1,
          1,
          0,
          0,
          0,
          0,
          0,
          1,
          1,
          0,
          0,
          0,
          1,
          1,
          0,
          0,
          0,
          0,
          0,
          0,
          0,
          0,
          0,
          0,
          0,
          1,
          0,
          1,
          1,
          0,
          0,
          1,
          1,
          0,
          0,
          1,
          0,
          1,
          0,
          1,
          0,
          1,
          0,
          1,
          1,
          0,
          0,
          0,
          1,
          1,
          0,
          1,
          1,
          1,
          1,
          1,
          0,
          0,
          1,
          0,
          0,
          1,
          1,
          1,
          1,
          0,
          0,
          0,
          0,
          1,
          0,
          1,
          1,
          0,
          1,
          0,
          1,
          1,
          1,
          0,
          1,
          0,
          0
         ],
         "x0": " ",
         "xaxis": "x",
         "y": [
          49,
          65,
          53,
          50,
          60,
          72,
          70,
          60,
          55,
          45,
          41,
          58,
          65,
          70,
          42,
          75,
          55,
          70,
          67,
          79,
          51,
          55,
          65,
          44,
          57,
          70,
          60,
          42,
          58,
          58,
          63,
          70,
          60,
          63,
          65,
          75,
          80,
          42,
          60,
          55,
          45,
          63,
          45,
          55,
          50,
          60,
          58,
          60,
          85,
          65,
          60,
          66,
          60,
          60,
          43,
          58,
          61,
          53,
          53,
          60,
          46,
          63,
          81,
          75,
          65,
          68,
          62,
          50,
          46,
          50,
          61,
          50,
          52,
          64,
          60,
          62,
          50,
          50,
          65,
          60,
          52,
          50,
          85,
          59,
          66,
          45,
          63,
          53,
          65,
          70,
          51,
          52,
          70,
          50,
          65,
          60,
          69,
          49,
          63,
          55,
          40,
          60.667,
          40,
          80,
          64,
          50,
          73,
          45,
          65,
          50,
          60,
          63,
          45,
          70,
          60,
          78,
          50,
          40,
          85,
          60,
          49,
          70,
          50,
          78,
          65,
          73,
          70,
          68,
          55,
          65,
          42,
          47,
          58,
          75,
          58,
          55,
          65,
          72,
          70,
          40,
          53,
          53,
          77,
          75,
          70,
          65,
          55,
          70,
          65,
          40,
          73,
          54,
          61,
          64,
          40,
          53,
          50,
          55,
          50,
          70,
          53,
          52,
          65,
          58,
          45,
          53,
          55,
          62,
          68,
          61,
          50,
          56,
          45,
          40,
          44,
          51,
          67,
          42,
          60,
          45,
          70,
          70,
          50,
          55,
          70,
          70,
          42,
          65,
          50,
          55,
          60,
          45,
          65,
          90,
          45,
          60,
          52,
          63,
          62,
          55,
          45,
          45,
          50
         ],
         "y0": " ",
         "yaxis": "y"
        }
       ],
       "layout": {
        "legend": {
         "title": {
          "text": "death_event"
         },
         "tracegroupgap": 0
        },
        "margin": {
         "t": 60
        },
        "template": {
         "data": {
          "bar": [
           {
            "error_x": {
             "color": "#2a3f5f"
            },
            "error_y": {
             "color": "#2a3f5f"
            },
            "marker": {
             "line": {
              "color": "#E5ECF6",
              "width": 0.5
             },
             "pattern": {
              "fillmode": "overlay",
              "size": 10,
              "solidity": 0.2
             }
            },
            "type": "bar"
           }
          ],
          "barpolar": [
           {
            "marker": {
             "line": {
              "color": "#E5ECF6",
              "width": 0.5
             },
             "pattern": {
              "fillmode": "overlay",
              "size": 10,
              "solidity": 0.2
             }
            },
            "type": "barpolar"
           }
          ],
          "carpet": [
           {
            "aaxis": {
             "endlinecolor": "#2a3f5f",
             "gridcolor": "white",
             "linecolor": "white",
             "minorgridcolor": "white",
             "startlinecolor": "#2a3f5f"
            },
            "baxis": {
             "endlinecolor": "#2a3f5f",
             "gridcolor": "white",
             "linecolor": "white",
             "minorgridcolor": "white",
             "startlinecolor": "#2a3f5f"
            },
            "type": "carpet"
           }
          ],
          "choropleth": [
           {
            "colorbar": {
             "outlinewidth": 0,
             "ticks": ""
            },
            "type": "choropleth"
           }
          ],
          "contour": [
           {
            "colorbar": {
             "outlinewidth": 0,
             "ticks": ""
            },
            "colorscale": [
             [
              0,
              "#0d0887"
             ],
             [
              0.1111111111111111,
              "#46039f"
             ],
             [
              0.2222222222222222,
              "#7201a8"
             ],
             [
              0.3333333333333333,
              "#9c179e"
             ],
             [
              0.4444444444444444,
              "#bd3786"
             ],
             [
              0.5555555555555556,
              "#d8576b"
             ],
             [
              0.6666666666666666,
              "#ed7953"
             ],
             [
              0.7777777777777778,
              "#fb9f3a"
             ],
             [
              0.8888888888888888,
              "#fdca26"
             ],
             [
              1,
              "#f0f921"
             ]
            ],
            "type": "contour"
           }
          ],
          "contourcarpet": [
           {
            "colorbar": {
             "outlinewidth": 0,
             "ticks": ""
            },
            "type": "contourcarpet"
           }
          ],
          "heatmap": [
           {
            "colorbar": {
             "outlinewidth": 0,
             "ticks": ""
            },
            "colorscale": [
             [
              0,
              "#0d0887"
             ],
             [
              0.1111111111111111,
              "#46039f"
             ],
             [
              0.2222222222222222,
              "#7201a8"
             ],
             [
              0.3333333333333333,
              "#9c179e"
             ],
             [
              0.4444444444444444,
              "#bd3786"
             ],
             [
              0.5555555555555556,
              "#d8576b"
             ],
             [
              0.6666666666666666,
              "#ed7953"
             ],
             [
              0.7777777777777778,
              "#fb9f3a"
             ],
             [
              0.8888888888888888,
              "#fdca26"
             ],
             [
              1,
              "#f0f921"
             ]
            ],
            "type": "heatmap"
           }
          ],
          "heatmapgl": [
           {
            "colorbar": {
             "outlinewidth": 0,
             "ticks": ""
            },
            "colorscale": [
             [
              0,
              "#0d0887"
             ],
             [
              0.1111111111111111,
              "#46039f"
             ],
             [
              0.2222222222222222,
              "#7201a8"
             ],
             [
              0.3333333333333333,
              "#9c179e"
             ],
             [
              0.4444444444444444,
              "#bd3786"
             ],
             [
              0.5555555555555556,
              "#d8576b"
             ],
             [
              0.6666666666666666,
              "#ed7953"
             ],
             [
              0.7777777777777778,
              "#fb9f3a"
             ],
             [
              0.8888888888888888,
              "#fdca26"
             ],
             [
              1,
              "#f0f921"
             ]
            ],
            "type": "heatmapgl"
           }
          ],
          "histogram": [
           {
            "marker": {
             "pattern": {
              "fillmode": "overlay",
              "size": 10,
              "solidity": 0.2
             }
            },
            "type": "histogram"
           }
          ],
          "histogram2d": [
           {
            "colorbar": {
             "outlinewidth": 0,
             "ticks": ""
            },
            "colorscale": [
             [
              0,
              "#0d0887"
             ],
             [
              0.1111111111111111,
              "#46039f"
             ],
             [
              0.2222222222222222,
              "#7201a8"
             ],
             [
              0.3333333333333333,
              "#9c179e"
             ],
             [
              0.4444444444444444,
              "#bd3786"
             ],
             [
              0.5555555555555556,
              "#d8576b"
             ],
             [
              0.6666666666666666,
              "#ed7953"
             ],
             [
              0.7777777777777778,
              "#fb9f3a"
             ],
             [
              0.8888888888888888,
              "#fdca26"
             ],
             [
              1,
              "#f0f921"
             ]
            ],
            "type": "histogram2d"
           }
          ],
          "histogram2dcontour": [
           {
            "colorbar": {
             "outlinewidth": 0,
             "ticks": ""
            },
            "colorscale": [
             [
              0,
              "#0d0887"
             ],
             [
              0.1111111111111111,
              "#46039f"
             ],
             [
              0.2222222222222222,
              "#7201a8"
             ],
             [
              0.3333333333333333,
              "#9c179e"
             ],
             [
              0.4444444444444444,
              "#bd3786"
             ],
             [
              0.5555555555555556,
              "#d8576b"
             ],
             [
              0.6666666666666666,
              "#ed7953"
             ],
             [
              0.7777777777777778,
              "#fb9f3a"
             ],
             [
              0.8888888888888888,
              "#fdca26"
             ],
             [
              1,
              "#f0f921"
             ]
            ],
            "type": "histogram2dcontour"
           }
          ],
          "mesh3d": [
           {
            "colorbar": {
             "outlinewidth": 0,
             "ticks": ""
            },
            "type": "mesh3d"
           }
          ],
          "parcoords": [
           {
            "line": {
             "colorbar": {
              "outlinewidth": 0,
              "ticks": ""
             }
            },
            "type": "parcoords"
           }
          ],
          "pie": [
           {
            "automargin": true,
            "type": "pie"
           }
          ],
          "scatter": [
           {
            "fillpattern": {
             "fillmode": "overlay",
             "size": 10,
             "solidity": 0.2
            },
            "type": "scatter"
           }
          ],
          "scatter3d": [
           {
            "line": {
             "colorbar": {
              "outlinewidth": 0,
              "ticks": ""
             }
            },
            "marker": {
             "colorbar": {
              "outlinewidth": 0,
              "ticks": ""
             }
            },
            "type": "scatter3d"
           }
          ],
          "scattercarpet": [
           {
            "marker": {
             "colorbar": {
              "outlinewidth": 0,
              "ticks": ""
             }
            },
            "type": "scattercarpet"
           }
          ],
          "scattergeo": [
           {
            "marker": {
             "colorbar": {
              "outlinewidth": 0,
              "ticks": ""
             }
            },
            "type": "scattergeo"
           }
          ],
          "scattergl": [
           {
            "marker": {
             "colorbar": {
              "outlinewidth": 0,
              "ticks": ""
             }
            },
            "type": "scattergl"
           }
          ],
          "scattermapbox": [
           {
            "marker": {
             "colorbar": {
              "outlinewidth": 0,
              "ticks": ""
             }
            },
            "type": "scattermapbox"
           }
          ],
          "scatterpolar": [
           {
            "marker": {
             "colorbar": {
              "outlinewidth": 0,
              "ticks": ""
             }
            },
            "type": "scatterpolar"
           }
          ],
          "scatterpolargl": [
           {
            "marker": {
             "colorbar": {
              "outlinewidth": 0,
              "ticks": ""
             }
            },
            "type": "scatterpolargl"
           }
          ],
          "scatterternary": [
           {
            "marker": {
             "colorbar": {
              "outlinewidth": 0,
              "ticks": ""
             }
            },
            "type": "scatterternary"
           }
          ],
          "surface": [
           {
            "colorbar": {
             "outlinewidth": 0,
             "ticks": ""
            },
            "colorscale": [
             [
              0,
              "#0d0887"
             ],
             [
              0.1111111111111111,
              "#46039f"
             ],
             [
              0.2222222222222222,
              "#7201a8"
             ],
             [
              0.3333333333333333,
              "#9c179e"
             ],
             [
              0.4444444444444444,
              "#bd3786"
             ],
             [
              0.5555555555555556,
              "#d8576b"
             ],
             [
              0.6666666666666666,
              "#ed7953"
             ],
             [
              0.7777777777777778,
              "#fb9f3a"
             ],
             [
              0.8888888888888888,
              "#fdca26"
             ],
             [
              1,
              "#f0f921"
             ]
            ],
            "type": "surface"
           }
          ],
          "table": [
           {
            "cells": {
             "fill": {
              "color": "#EBF0F8"
             },
             "line": {
              "color": "white"
             }
            },
            "header": {
             "fill": {
              "color": "#C8D4E3"
             },
             "line": {
              "color": "white"
             }
            },
            "type": "table"
           }
          ]
         },
         "layout": {
          "annotationdefaults": {
           "arrowcolor": "#2a3f5f",
           "arrowhead": 0,
           "arrowwidth": 1
          },
          "autotypenumbers": "strict",
          "coloraxis": {
           "colorbar": {
            "outlinewidth": 0,
            "ticks": ""
           }
          },
          "colorscale": {
           "diverging": [
            [
             0,
             "#8e0152"
            ],
            [
             0.1,
             "#c51b7d"
            ],
            [
             0.2,
             "#de77ae"
            ],
            [
             0.3,
             "#f1b6da"
            ],
            [
             0.4,
             "#fde0ef"
            ],
            [
             0.5,
             "#f7f7f7"
            ],
            [
             0.6,
             "#e6f5d0"
            ],
            [
             0.7,
             "#b8e186"
            ],
            [
             0.8,
             "#7fbc41"
            ],
            [
             0.9,
             "#4d9221"
            ],
            [
             1,
             "#276419"
            ]
           ],
           "sequential": [
            [
             0,
             "#0d0887"
            ],
            [
             0.1111111111111111,
             "#46039f"
            ],
            [
             0.2222222222222222,
             "#7201a8"
            ],
            [
             0.3333333333333333,
             "#9c179e"
            ],
            [
             0.4444444444444444,
             "#bd3786"
            ],
            [
             0.5555555555555556,
             "#d8576b"
            ],
            [
             0.6666666666666666,
             "#ed7953"
            ],
            [
             0.7777777777777778,
             "#fb9f3a"
            ],
            [
             0.8888888888888888,
             "#fdca26"
            ],
            [
             1,
             "#f0f921"
            ]
           ],
           "sequentialminus": [
            [
             0,
             "#0d0887"
            ],
            [
             0.1111111111111111,
             "#46039f"
            ],
            [
             0.2222222222222222,
             "#7201a8"
            ],
            [
             0.3333333333333333,
             "#9c179e"
            ],
            [
             0.4444444444444444,
             "#bd3786"
            ],
            [
             0.5555555555555556,
             "#d8576b"
            ],
            [
             0.6666666666666666,
             "#ed7953"
            ],
            [
             0.7777777777777778,
             "#fb9f3a"
            ],
            [
             0.8888888888888888,
             "#fdca26"
            ],
            [
             1,
             "#f0f921"
            ]
           ]
          },
          "colorway": [
           "#636efa",
           "#EF553B",
           "#00cc96",
           "#ab63fa",
           "#FFA15A",
           "#19d3f3",
           "#FF6692",
           "#B6E880",
           "#FF97FF",
           "#FECB52"
          ],
          "font": {
           "color": "#2a3f5f"
          },
          "geo": {
           "bgcolor": "white",
           "lakecolor": "white",
           "landcolor": "#E5ECF6",
           "showlakes": true,
           "showland": true,
           "subunitcolor": "white"
          },
          "hoverlabel": {
           "align": "left"
          },
          "hovermode": "closest",
          "mapbox": {
           "style": "light"
          },
          "paper_bgcolor": "white",
          "plot_bgcolor": "#E5ECF6",
          "polar": {
           "angularaxis": {
            "gridcolor": "white",
            "linecolor": "white",
            "ticks": ""
           },
           "bgcolor": "#E5ECF6",
           "radialaxis": {
            "gridcolor": "white",
            "linecolor": "white",
            "ticks": ""
           }
          },
          "scene": {
           "xaxis": {
            "backgroundcolor": "#E5ECF6",
            "gridcolor": "white",
            "gridwidth": 2,
            "linecolor": "white",
            "showbackground": true,
            "ticks": "",
            "zerolinecolor": "white"
           },
           "yaxis": {
            "backgroundcolor": "#E5ECF6",
            "gridcolor": "white",
            "gridwidth": 2,
            "linecolor": "white",
            "showbackground": true,
            "ticks": "",
            "zerolinecolor": "white"
           },
           "zaxis": {
            "backgroundcolor": "#E5ECF6",
            "gridcolor": "white",
            "gridwidth": 2,
            "linecolor": "white",
            "showbackground": true,
            "ticks": "",
            "zerolinecolor": "white"
           }
          },
          "shapedefaults": {
           "line": {
            "color": "#2a3f5f"
           }
          },
          "ternary": {
           "aaxis": {
            "gridcolor": "white",
            "linecolor": "white",
            "ticks": ""
           },
           "baxis": {
            "gridcolor": "white",
            "linecolor": "white",
            "ticks": ""
           },
           "bgcolor": "#E5ECF6",
           "caxis": {
            "gridcolor": "white",
            "linecolor": "white",
            "ticks": ""
           }
          },
          "title": {
           "x": 0.05
          },
          "xaxis": {
           "automargin": true,
           "gridcolor": "white",
           "linecolor": "white",
           "ticks": "",
           "title": {
            "standoff": 15
           },
           "zerolinecolor": "white",
           "zerolinewidth": 2
          },
          "yaxis": {
           "automargin": true,
           "gridcolor": "white",
           "linecolor": "white",
           "ticks": "",
           "title": {
            "standoff": 15
           },
           "zerolinecolor": "white",
           "zerolinewidth": 2
          }
         }
        },
        "title": {
         "text": "Analysis in Age and Diabetes on Survival Status"
        },
        "violinmode": "group",
        "xaxis": {
         "anchor": "y",
         "domain": [
          0,
          1
         ],
         "title": {
          "text": "diabetes"
         }
        },
        "yaxis": {
         "anchor": "x",
         "domain": [
          0,
          1
         ],
         "title": {
          "text": "age"
         }
        }
       }
      }
     },
     "metadata": {},
     "output_type": "display_data"
    }
   ],
   "source": [
    "fig = px.violin(df_clean, y=\"age\", x=\"diabetes\", color=\"death_event\", box=True, points=\"all\", hover_data=df_clean.columns)\n",
    "fig.update_layout(title_text=\"Analysis in Age and Diabetes on Survival Status\")\n",
    "fig.show()"
   ]
  },
  {
   "cell_type": "markdown",
   "metadata": {},
   "source": [
    "**Keterangan**\n",
    "<br>\n",
    "Orang yang tidak mengidap diabetes memiliki tingkat keselamatan yang merata di umur 50-70 tahun. Sedangkan, orang yang mengidap diabetes memiliki tingkat keselamatan tinggi di umur 60-65 tahun."
   ]
  },
  {
   "cell_type": "code",
   "execution_count": null,
   "metadata": {},
   "outputs": [],
   "source": []
  }
 ],
 "metadata": {
  "kernelspec": {
   "display_name": "Python 3.9.12 ('base')",
   "language": "python",
   "name": "python3"
  },
  "language_info": {
   "codemirror_mode": {
    "name": "ipython",
    "version": 3
   },
   "file_extension": ".py",
   "mimetype": "text/x-python",
   "name": "python",
   "nbconvert_exporter": "python",
   "pygments_lexer": "ipython3",
   "version": "3.9.12"
  },
  "orig_nbformat": 4,
  "vscode": {
   "interpreter": {
    "hash": "c73c6d9fed8e6b3ea569dcc3525b6bb5a759824d01ed9110fcb947f811b33da9"
   }
  }
 },
 "nbformat": 4,
 "nbformat_minor": 2
}
